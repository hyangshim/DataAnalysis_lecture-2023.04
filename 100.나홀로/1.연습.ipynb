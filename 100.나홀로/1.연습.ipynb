{
 "cells": [
  {
   "cell_type": "code",
   "execution_count": 1,
   "metadata": {},
   "outputs": [],
   "source": [
    "import pandas as pd\n",
    "import numpy as np\n",
    "import matplotlib.pyplot as plt"
   ]
  },
  {
   "cell_type": "code",
   "execution_count": 2,
   "metadata": {},
   "outputs": [
    {
     "data": {
      "text/plain": [
       "DatetimeIndex(['2013-01-01', '2013-01-02', '2013-01-03', '2013-01-04',\n",
       "               '2013-01-05', '2013-01-06'],\n",
       "              dtype='datetime64[ns]', freq='D')"
      ]
     },
     "execution_count": 2,
     "metadata": {},
     "output_type": "execute_result"
    }
   ],
   "source": [
    "dates =pd.date_range('20130101',periods=6)\n",
    "dates"
   ]
  },
  {
   "cell_type": "code",
   "execution_count": 3,
   "metadata": {},
   "outputs": [
    {
     "data": {
      "text/html": [
       "<div>\n",
       "<style scoped>\n",
       "    .dataframe tbody tr th:only-of-type {\n",
       "        vertical-align: middle;\n",
       "    }\n",
       "\n",
       "    .dataframe tbody tr th {\n",
       "        vertical-align: top;\n",
       "    }\n",
       "\n",
       "    .dataframe thead th {\n",
       "        text-align: right;\n",
       "    }\n",
       "</style>\n",
       "<table border=\"1\" class=\"dataframe\">\n",
       "  <thead>\n",
       "    <tr style=\"text-align: right;\">\n",
       "      <th></th>\n",
       "      <th>A</th>\n",
       "      <th>B</th>\n",
       "      <th>C</th>\n",
       "      <th>D</th>\n",
       "    </tr>\n",
       "  </thead>\n",
       "  <tbody>\n",
       "    <tr>\n",
       "      <th>2013-01-01</th>\n",
       "      <td>-0.755412</td>\n",
       "      <td>0.536074</td>\n",
       "      <td>-0.736620</td>\n",
       "      <td>1.076621</td>\n",
       "    </tr>\n",
       "    <tr>\n",
       "      <th>2013-01-02</th>\n",
       "      <td>-0.472539</td>\n",
       "      <td>-0.092629</td>\n",
       "      <td>0.594584</td>\n",
       "      <td>-0.883553</td>\n",
       "    </tr>\n",
       "    <tr>\n",
       "      <th>2013-01-03</th>\n",
       "      <td>0.205475</td>\n",
       "      <td>0.252627</td>\n",
       "      <td>0.442339</td>\n",
       "      <td>-0.080127</td>\n",
       "    </tr>\n",
       "    <tr>\n",
       "      <th>2013-01-04</th>\n",
       "      <td>-0.807144</td>\n",
       "      <td>-0.132157</td>\n",
       "      <td>-0.472727</td>\n",
       "      <td>0.536306</td>\n",
       "    </tr>\n",
       "    <tr>\n",
       "      <th>2013-01-05</th>\n",
       "      <td>-0.942316</td>\n",
       "      <td>-0.449170</td>\n",
       "      <td>1.917042</td>\n",
       "      <td>-0.497619</td>\n",
       "    </tr>\n",
       "    <tr>\n",
       "      <th>2013-01-06</th>\n",
       "      <td>1.347316</td>\n",
       "      <td>-0.731076</td>\n",
       "      <td>-0.944728</td>\n",
       "      <td>0.845235</td>\n",
       "    </tr>\n",
       "  </tbody>\n",
       "</table>\n",
       "</div>"
      ],
      "text/plain": [
       "                   A         B         C         D\n",
       "2013-01-01 -0.755412  0.536074 -0.736620  1.076621\n",
       "2013-01-02 -0.472539 -0.092629  0.594584 -0.883553\n",
       "2013-01-03  0.205475  0.252627  0.442339 -0.080127\n",
       "2013-01-04 -0.807144 -0.132157 -0.472727  0.536306\n",
       "2013-01-05 -0.942316 -0.449170  1.917042 -0.497619\n",
       "2013-01-06  1.347316 -0.731076 -0.944728  0.845235"
      ]
     },
     "execution_count": 3,
     "metadata": {},
     "output_type": "execute_result"
    }
   ],
   "source": [
    "df = pd.DataFrame(np.random.randn(6,4),index=dates,columns=list('ABCD'))\n",
    "df"
   ]
  },
  {
   "cell_type": "code",
   "execution_count": 8,
   "metadata": {},
   "outputs": [
    {
     "data": {
      "text/plain": [
       "<bound method NDFrame.bool of                    A         B         C         D\n",
       "2013-01-01 -0.755412  0.536074 -0.736620  1.076621\n",
       "2013-01-02 -0.472539 -0.092629  0.594584 -0.883553\n",
       "2013-01-03  0.205475  0.252627  0.442339 -0.080127\n",
       "2013-01-04 -0.807144 -0.132157 -0.472727  0.536306\n",
       "2013-01-05 -0.942316 -0.449170  1.917042 -0.497619\n",
       "2013-01-06  1.347316 -0.731076 -0.944728  0.845235>"
      ]
     },
     "execution_count": 8,
     "metadata": {},
     "output_type": "execute_result"
    }
   ],
   "source": [
    "df.bool"
   ]
  },
  {
   "cell_type": "code",
   "execution_count": null,
   "metadata": {},
   "outputs": [],
   "source": []
  }
 ],
 "metadata": {
  "kernelspec": {
   "display_name": "base",
   "language": "python",
   "name": "python3"
  },
  "language_info": {
   "codemirror_mode": {
    "name": "ipython",
    "version": 3
   },
   "file_extension": ".py",
   "mimetype": "text/x-python",
   "name": "python",
   "nbconvert_exporter": "python",
   "pygments_lexer": "ipython3",
   "version": "3.10.10"
  },
  "orig_nbformat": 4
 },
 "nbformat": 4,
 "nbformat_minor": 2
}
