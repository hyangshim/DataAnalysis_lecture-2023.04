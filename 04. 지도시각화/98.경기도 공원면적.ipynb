{
 "cells": [
  {
   "cell_type": "code",
   "execution_count": 21,
   "metadata": {},
   "outputs": [],
   "source": [
    "import numpy as np\n",
    "import json,folium\n",
    "import pandas as pd\n",
    "import folium"
   ]
  },
  {
   "cell_type": "code",
   "execution_count": 22,
   "metadata": {},
   "outputs": [
    {
     "name": "stdout",
     "output_type": "stream",
     "text": [
      "<class 'pandas.core.frame.DataFrame'>\n",
      "RangeIndex: 17525 entries, 0 to 17524\n",
      "Data columns (total 19 columns):\n",
      " #   Column        Non-Null Count  Dtype  \n",
      "---  ------        --------------  -----  \n",
      " 0   관리번호          17525 non-null  object \n",
      " 1   공원명           17525 non-null  object \n",
      " 2   공원구분          17525 non-null  object \n",
      " 3   소재지도로명주소      3692 non-null   object \n",
      " 4   소재지지번주소       17335 non-null  object \n",
      " 5   위도            17513 non-null  float64\n",
      " 6   경도            17514 non-null  float64\n",
      " 7   공원면적          17525 non-null  float64\n",
      " 8   공원보유시설(운동시설)  4821 non-null   object \n",
      " 9   공원보유시설(유희시설)  6200 non-null   object \n",
      " 10  공원보유시설(편익시설)  4842 non-null   object \n",
      " 11  공원보유시설(교양시설)  805 non-null    object \n",
      " 12  공원보유시설(기타시설)  2577 non-null   object \n",
      " 13  지정고시일         14451 non-null  object \n",
      " 14  관리기관명         16033 non-null  object \n",
      " 15  전화번호          16343 non-null  object \n",
      " 16  데이터기준일자       17525 non-null  object \n",
      " 17  제공기관코드        17525 non-null  object \n",
      " 18  제공기관명         17525 non-null  object \n",
      "dtypes: float64(3), object(16)\n",
      "memory usage: 2.5+ MB\n"
     ]
    }
   ],
   "source": [
    "df = pd.read_csv('data/경기도 도시공원정보표준데이터.csv', encoding='euc-kr')\n",
    "df.info()"
   ]
  },
  {
   "cell_type": "code",
   "execution_count": 23,
   "metadata": {},
   "outputs": [
    {
     "data": {
      "text/html": [
       "<div>\n",
       "<style scoped>\n",
       "    .dataframe tbody tr th:only-of-type {\n",
       "        vertical-align: middle;\n",
       "    }\n",
       "\n",
       "    .dataframe tbody tr th {\n",
       "        vertical-align: top;\n",
       "    }\n",
       "\n",
       "    .dataframe thead th {\n",
       "        text-align: right;\n",
       "    }\n",
       "</style>\n",
       "<table border=\"1\" class=\"dataframe\">\n",
       "  <thead>\n",
       "    <tr style=\"text-align: right;\">\n",
       "      <th></th>\n",
       "      <th>주소</th>\n",
       "      <th>공원면적</th>\n",
       "    </tr>\n",
       "  </thead>\n",
       "  <tbody>\n",
       "    <tr>\n",
       "      <th>0</th>\n",
       "      <td>서울특별시 용산구 효창동 287-6</td>\n",
       "      <td>1569.9</td>\n",
       "    </tr>\n",
       "    <tr>\n",
       "      <th>1</th>\n",
       "      <td>NaN</td>\n",
       "      <td>1820.0</td>\n",
       "    </tr>\n",
       "    <tr>\n",
       "      <th>2</th>\n",
       "      <td>NaN</td>\n",
       "      <td>1037.0</td>\n",
       "    </tr>\n",
       "    <tr>\n",
       "      <th>3</th>\n",
       "      <td>NaN</td>\n",
       "      <td>4928.0</td>\n",
       "    </tr>\n",
       "    <tr>\n",
       "      <th>4</th>\n",
       "      <td>NaN</td>\n",
       "      <td>3575.0</td>\n",
       "    </tr>\n",
       "    <tr>\n",
       "      <th>5</th>\n",
       "      <td>NaN</td>\n",
       "      <td>71559.0</td>\n",
       "    </tr>\n",
       "    <tr>\n",
       "      <th>6</th>\n",
       "      <td>NaN</td>\n",
       "      <td>22821.0</td>\n",
       "    </tr>\n",
       "    <tr>\n",
       "      <th>7</th>\n",
       "      <td>NaN</td>\n",
       "      <td>6075.0</td>\n",
       "    </tr>\n",
       "    <tr>\n",
       "      <th>8</th>\n",
       "      <td>NaN</td>\n",
       "      <td>23751.0</td>\n",
       "    </tr>\n",
       "    <tr>\n",
       "      <th>9</th>\n",
       "      <td>NaN</td>\n",
       "      <td>20559.0</td>\n",
       "    </tr>\n",
       "  </tbody>\n",
       "</table>\n",
       "</div>"
      ],
      "text/plain": [
       "                    주소     공원면적\n",
       "0  서울특별시 용산구 효창동 287-6   1569.9\n",
       "1                  NaN   1820.0\n",
       "2                  NaN   1037.0\n",
       "3                  NaN   4928.0\n",
       "4                  NaN   3575.0\n",
       "5                  NaN  71559.0\n",
       "6                  NaN  22821.0\n",
       "7                  NaN   6075.0\n",
       "8                  NaN  23751.0\n",
       "9                  NaN  20559.0"
      ]
     },
     "execution_count": 23,
     "metadata": {},
     "output_type": "execute_result"
    }
   ],
   "source": [
    "df = df[['소재지지번주소','공원면적']]\n",
    "df.columns =['주소','공원면적']\n",
    "df.head(10)"
   ]
  },
  {
   "cell_type": "code",
   "execution_count": 24,
   "metadata": {},
   "outputs": [
    {
     "data": {
      "text/html": [
       "<div>\n",
       "<style scoped>\n",
       "    .dataframe tbody tr th:only-of-type {\n",
       "        vertical-align: middle;\n",
       "    }\n",
       "\n",
       "    .dataframe tbody tr th {\n",
       "        vertical-align: top;\n",
       "    }\n",
       "\n",
       "    .dataframe thead th {\n",
       "        text-align: right;\n",
       "    }\n",
       "</style>\n",
       "<table border=\"1\" class=\"dataframe\">\n",
       "  <thead>\n",
       "    <tr style=\"text-align: right;\">\n",
       "      <th></th>\n",
       "      <th>주소</th>\n",
       "      <th>공원면적</th>\n",
       "    </tr>\n",
       "  </thead>\n",
       "  <tbody>\n",
       "    <tr>\n",
       "      <th>0</th>\n",
       "      <td>서울특별시 용산구 효창동 287-6</td>\n",
       "      <td>1569.9</td>\n",
       "    </tr>\n",
       "    <tr>\n",
       "      <th>23</th>\n",
       "      <td>서울특별시 용산구 이촌동 408</td>\n",
       "      <td>1766.0</td>\n",
       "    </tr>\n",
       "    <tr>\n",
       "      <th>24</th>\n",
       "      <td>서울특별시 용산구 한강로1가 30-3</td>\n",
       "      <td>2090.0</td>\n",
       "    </tr>\n",
       "    <tr>\n",
       "      <th>25</th>\n",
       "      <td>서울특별시 용산구 신창동 100</td>\n",
       "      <td>257.0</td>\n",
       "    </tr>\n",
       "    <tr>\n",
       "      <th>26</th>\n",
       "      <td>서울특별시 용산구 용산동5가 24-2</td>\n",
       "      <td>11879.0</td>\n",
       "    </tr>\n",
       "  </tbody>\n",
       "</table>\n",
       "</div>"
      ],
      "text/plain": [
       "                      주소     공원면적\n",
       "0    서울특별시 용산구 효창동 287-6   1569.9\n",
       "23     서울특별시 용산구 이촌동 408   1766.0\n",
       "24  서울특별시 용산구 한강로1가 30-3   2090.0\n",
       "25     서울특별시 용산구 신창동 100    257.0\n",
       "26  서울특별시 용산구 용산동5가 24-2  11879.0"
      ]
     },
     "execution_count": 24,
     "metadata": {},
     "output_type": "execute_result"
    }
   ],
   "source": [
    "df.dropna(axis=0,inplace=True)\n",
    "df.head()"
   ]
  },
  {
   "cell_type": "code",
   "execution_count": 25,
   "metadata": {},
   "outputs": [
    {
     "data": {
      "text/html": [
       "<div>\n",
       "<style scoped>\n",
       "    .dataframe tbody tr th:only-of-type {\n",
       "        vertical-align: middle;\n",
       "    }\n",
       "\n",
       "    .dataframe tbody tr th {\n",
       "        vertical-align: top;\n",
       "    }\n",
       "\n",
       "    .dataframe thead th {\n",
       "        text-align: right;\n",
       "    }\n",
       "</style>\n",
       "<table border=\"1\" class=\"dataframe\">\n",
       "  <thead>\n",
       "    <tr style=\"text-align: right;\">\n",
       "      <th></th>\n",
       "      <th>주소</th>\n",
       "      <th>공원면적</th>\n",
       "    </tr>\n",
       "  </thead>\n",
       "  <tbody>\n",
       "    <tr>\n",
       "      <th>17021</th>\n",
       "      <td>경기도 용인시 기흥구 신갈동 708</td>\n",
       "      <td>1502.0</td>\n",
       "    </tr>\n",
       "    <tr>\n",
       "      <th>17022</th>\n",
       "      <td>경기도 용인시 기흥구 신갈동 683</td>\n",
       "      <td>36854.0</td>\n",
       "    </tr>\n",
       "    <tr>\n",
       "      <th>17023</th>\n",
       "      <td>경기도 용인시 기흥구 신갈동 699</td>\n",
       "      <td>23081.0</td>\n",
       "    </tr>\n",
       "    <tr>\n",
       "      <th>17024</th>\n",
       "      <td>경기도 용인시 기흥구 중동 1082</td>\n",
       "      <td>1500.0</td>\n",
       "    </tr>\n",
       "    <tr>\n",
       "      <th>17025</th>\n",
       "      <td>경기도 용인시 기흥구 중동 1083</td>\n",
       "      <td>1500.0</td>\n",
       "    </tr>\n",
       "  </tbody>\n",
       "</table>\n",
       "</div>"
      ],
      "text/plain": [
       "                        주소     공원면적\n",
       "17021  경기도 용인시 기흥구 신갈동 708   1502.0\n",
       "17022  경기도 용인시 기흥구 신갈동 683  36854.0\n",
       "17023  경기도 용인시 기흥구 신갈동 699  23081.0\n",
       "17024  경기도 용인시 기흥구 중동 1082   1500.0\n",
       "17025  경기도 용인시 기흥구 중동 1083   1500.0"
      ]
     },
     "execution_count": 25,
     "metadata": {},
     "output_type": "execute_result"
    }
   ],
   "source": [
    "df=df[df.주소.str.contains('경기도')&df.주소.str.contains('구')]\n",
    "df.tail()"
   ]
  },
  {
   "cell_type": "code",
   "execution_count": 26,
   "metadata": {},
   "outputs": [],
   "source": [
    "df['시군구'] = df.주소.apply(lambda x: ''.join(x.split()[1:3]))\n",
    "df.tail()"
   ]
  },
  {
   "cell_type": "code",
   "execution_count": 28,
   "metadata": {},
   "outputs": [
    {
     "ename": "TypeError",
     "evalue": "'Series' object cannot be interpreted as an integer",
     "output_type": "error",
     "traceback": [
      "\u001b[1;31m---------------------------------------------------------------------------\u001b[0m",
      "\u001b[1;31mTypeError\u001b[0m                                 Traceback (most recent call last)",
      "Cell \u001b[1;32mIn[28], line 2\u001b[0m\n\u001b[0;32m      1\u001b[0m my_list \u001b[39m=\u001b[39m []\n\u001b[1;32m----> 2\u001b[0m \u001b[39mfor\u001b[39;00m i \u001b[39min\u001b[39;00m \u001b[39mrange\u001b[39;49m(df\u001b[39m.\u001b[39;49m주소):\n\u001b[0;32m      3\u001b[0m     x \u001b[39m=\u001b[39m df\u001b[39m.\u001b[39mloc[i, \u001b[39m'\u001b[39m\u001b[39m주소\u001b[39m\u001b[39m'\u001b[39m]\n\u001b[0;32m      4\u001b[0m     df\u001b[39m.\u001b[39mloc[i, \u001b[39m'\u001b[39m\u001b[39m시군구\u001b[39m\u001b[39m'\u001b[39m] \u001b[39m=\u001b[39m \u001b[39m'\u001b[39m\u001b[39m'\u001b[39m\u001b[39m.\u001b[39mjoin(x\u001b[39m.\u001b[39msplit()[\u001b[39m1\u001b[39m:\u001b[39m3\u001b[39m])\n",
      "\u001b[1;31mTypeError\u001b[0m: 'Series' object cannot be interpreted as an integer"
     ]
    }
   ],
   "source": [
    "my_list = []\n",
    "for i in range(df.주소):\n",
    "    x = df.loc[i, '주소']\n",
    "    df.loc[i, '시군구'] = ''.join(x.split()[1:3])\n",
    "    my_list.append(df['시군구'])\n",
    "else:\n",
    "    df.loc[i, '시'] = ''.join(x.split()[1:])\n",
    "    my_list.append(df['시군구'])"
   ]
  }
 ],
 "metadata": {
  "kernelspec": {
   "display_name": "base",
   "language": "python",
   "name": "python3"
  },
  "language_info": {
   "codemirror_mode": {
    "name": "ipython",
    "version": 3
   },
   "file_extension": ".py",
   "mimetype": "text/x-python",
   "name": "python",
   "nbconvert_exporter": "python",
   "pygments_lexer": "ipython3",
   "version": "3.10.10"
  },
  "orig_nbformat": 4
 },
 "nbformat": 4,
 "nbformat_minor": 2
}
