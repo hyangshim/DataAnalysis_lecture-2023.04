{
 "cells": [
  {
   "attachments": {},
   "cell_type": "markdown",
   "metadata": {},
   "source": [
    "### Opinet - 셀프 주유소가 정말 저렴할까?"
   ]
  },
  {
   "cell_type": "code",
   "execution_count": 7,
   "metadata": {},
   "outputs": [],
   "source": [
    "import time\n",
    "import pandas as pd\n",
    "from selenium import webdriver\n",
    "from selenium.webdriver.common.by import By\n",
    "from selenium.webdriver.common.keys import Keys\n",
    "from bs4 import BeautifulSoup\n",
    "import warnings\n",
    "warnings.filterwarnings('ignore')"
   ]
  },
  {
   "attachments": {},
   "cell_type": "markdown",
   "metadata": {},
   "source": [
    "##### 1. Selenium 으로 서울시 구별 주유소 가격정보 얻기"
   ]
  },
  {
   "cell_type": "code",
   "execution_count": 8,
   "metadata": {},
   "outputs": [],
   "source": [
    "# Opinet 초기 화면 / 싼주유소 찾기/지역별\n",
    "url ='https://www.opinet.co.kr/searRgSelect.do'\n",
    "driver =webdriver.Chrome('file:///C:/Users/YONSAI/Downloads/chromedriver_win32/chromedriver')\n",
    "driver.get(url)\n",
    "time.sleep(2)"
   ]
  },
  {
   "cell_type": "code",
   "execution_count": 9,
   "metadata": {},
   "outputs": [],
   "source": [
    "# 서울 자치구 리스트 가져오기\n",
    "metro=driver.find_element(By.XPATH,'//*[@id=\"SIDO_NM0\"]')     # 광역시도\n",
    "metro.send_keys('서울')"
   ]
  },
  {
   "cell_type": "code",
   "execution_count": 10,
   "metadata": {},
   "outputs": [
    {
     "data": {
      "text/plain": [
       "[<selenium.webdriver.remote.webelement.WebElement (session=\"4390830f3f189d71d7391143b05a085a\", element=\"65bd950f-5f5f-43ec-9f3a-4c616c9b2fd8\")>,\n",
       " <selenium.webdriver.remote.webelement.WebElement (session=\"4390830f3f189d71d7391143b05a085a\", element=\"a36c16a5-8ecd-4879-9c2f-8b36753d13e4\")>,\n",
       " <selenium.webdriver.remote.webelement.WebElement (session=\"4390830f3f189d71d7391143b05a085a\", element=\"7d403cce-6f57-4479-85c7-8af4d35fab91\")>]"
      ]
     },
     "execution_count": 10,
     "metadata": {},
     "output_type": "execute_result"
    }
   ],
   "source": [
    "sigungu =driver.find_element(By.XPATH,'//*[@id=\"SIGUNGU_NM0\"]')  # 시/군/구\n",
    "gu_list =sigungu.find_elements(By.TAG_NAME,'option')\n",
    "gu_list[:3]"
   ]
  },
  {
   "cell_type": "code",
   "execution_count": 11,
   "metadata": {},
   "outputs": [
    {
     "data": {
      "text/plain": [
       "('시/군/구', '강남구')"
      ]
     },
     "execution_count": 11,
     "metadata": {},
     "output_type": "execute_result"
    }
   ],
   "source": [
    "gu_list[0].text,gu_list[1].text"
   ]
  },
  {
   "cell_type": "code",
   "execution_count": 12,
   "metadata": {},
   "outputs": [
    {
     "data": {
      "text/plain": [
       "['강남구', '강동구', '강북구']"
      ]
     },
     "execution_count": 12,
     "metadata": {},
     "output_type": "execute_result"
    }
   ],
   "source": [
    "gu_names =[gu.text for gu in gu_list[1:]]   # 시/군/구를 제외한 구 이름의 리스트\n",
    "gu_names[:3]"
   ]
  },
  {
   "cell_type": "code",
   "execution_count": 13,
   "metadata": {},
   "outputs": [],
   "source": [
    "# 강남구 선택\n",
    "sigungu.send_keys(gu_names[0])"
   ]
  },
  {
   "cell_type": "code",
   "execution_count": 14,
   "metadata": {},
   "outputs": [],
   "source": [
    "# 엑셀 저장\n",
    "driver.find_element(By.ID,'glopopd_excel').click()\n",
    "time.sleep(2)"
   ]
  },
  {
   "cell_type": "code",
   "execution_count": 15,
   "metadata": {},
   "outputs": [],
   "source": [
    "# 강남구를 제외한 나머지 자치구에 대해서 주유소 정보 엑셀 저장\n",
    "for gu in gu_names[1:]:         #처음부터 끝까지\n",
    "    sigungu =driver.find_element(By.XPATH,'//*[@id=\"SIGUNGU_NM0\"]') \n",
    "    sigungu.send_keys(gu)\n",
    "    time.sleep(3)\n",
    "    driver.find_element(By.ID,'glopopd_excel').click()\n",
    "    time.sleep(2)"
   ]
  },
  {
   "cell_type": "code",
   "execution_count": 16,
   "metadata": {},
   "outputs": [],
   "source": [
    "driver.close()"
   ]
  },
  {
   "attachments": {},
   "cell_type": "markdown",
   "metadata": {},
   "source": [
    "#### 2. 구별 휘발유 가격에 대한 정리"
   ]
  },
  {
   "cell_type": "code",
   "execution_count": 19,
   "metadata": {},
   "outputs": [
    {
     "data": {
      "text/plain": [
       "['C:/Users/YONSAI/Downloads\\\\지역_위치별(주유소) (1).xls',\n",
       " 'C:/Users/YONSAI/Downloads\\\\지역_위치별(주유소) (10).xls',\n",
       " 'C:/Users/YONSAI/Downloads\\\\지역_위치별(주유소) (11).xls',\n",
       " 'C:/Users/YONSAI/Downloads\\\\지역_위치별(주유소) (12).xls',\n",
       " 'C:/Users/YONSAI/Downloads\\\\지역_위치별(주유소) (13).xls',\n",
       " 'C:/Users/YONSAI/Downloads\\\\지역_위치별(주유소) (14).xls',\n",
       " 'C:/Users/YONSAI/Downloads\\\\지역_위치별(주유소) (15).xls',\n",
       " 'C:/Users/YONSAI/Downloads\\\\지역_위치별(주유소) (16).xls',\n",
       " 'C:/Users/YONSAI/Downloads\\\\지역_위치별(주유소) (17).xls',\n",
       " 'C:/Users/YONSAI/Downloads\\\\지역_위치별(주유소) (18).xls',\n",
       " 'C:/Users/YONSAI/Downloads\\\\지역_위치별(주유소) (19).xls',\n",
       " 'C:/Users/YONSAI/Downloads\\\\지역_위치별(주유소) (2).xls',\n",
       " 'C:/Users/YONSAI/Downloads\\\\지역_위치별(주유소) (20).xls',\n",
       " 'C:/Users/YONSAI/Downloads\\\\지역_위치별(주유소) (21).xls',\n",
       " 'C:/Users/YONSAI/Downloads\\\\지역_위치별(주유소) (22).xls',\n",
       " 'C:/Users/YONSAI/Downloads\\\\지역_위치별(주유소) (23).xls',\n",
       " 'C:/Users/YONSAI/Downloads\\\\지역_위치별(주유소) (24).xls',\n",
       " 'C:/Users/YONSAI/Downloads\\\\지역_위치별(주유소) (3).xls',\n",
       " 'C:/Users/YONSAI/Downloads\\\\지역_위치별(주유소) (4).xls',\n",
       " 'C:/Users/YONSAI/Downloads\\\\지역_위치별(주유소) (5).xls',\n",
       " 'C:/Users/YONSAI/Downloads\\\\지역_위치별(주유소) (6).xls',\n",
       " 'C:/Users/YONSAI/Downloads\\\\지역_위치별(주유소) (7).xls',\n",
       " 'C:/Users/YONSAI/Downloads\\\\지역_위치별(주유소) (8).xls',\n",
       " 'C:/Users/YONSAI/Downloads\\\\지역_위치별(주유소) (9).xls',\n",
       " 'C:/Users/YONSAI/Downloads\\\\지역_위치별(주유소).xls']"
      ]
     },
     "execution_count": 19,
     "metadata": {},
     "output_type": "execute_result"
    }
   ],
   "source": [
    "from glob import glob\n",
    "glob('C:/Users/YONSAI/Downloads/지역*.xls')"
   ]
  },
  {
   "cell_type": "code",
   "execution_count": 22,
   "metadata": {},
   "outputs": [
    {
     "data": {
      "text/html": [
       "<div>\n",
       "<style scoped>\n",
       "    .dataframe tbody tr th:only-of-type {\n",
       "        vertical-align: middle;\n",
       "    }\n",
       "\n",
       "    .dataframe tbody tr th {\n",
       "        vertical-align: top;\n",
       "    }\n",
       "\n",
       "    .dataframe thead th {\n",
       "        text-align: right;\n",
       "    }\n",
       "</style>\n",
       "<table border=\"1\" class=\"dataframe\">\n",
       "  <thead>\n",
       "    <tr style=\"text-align: right;\">\n",
       "      <th></th>\n",
       "      <th>지역</th>\n",
       "      <th>상호</th>\n",
       "      <th>주소</th>\n",
       "      <th>상표</th>\n",
       "      <th>전화번호</th>\n",
       "      <th>셀프여부</th>\n",
       "      <th>고급휘발유</th>\n",
       "      <th>휘발유</th>\n",
       "      <th>경유</th>\n",
       "      <th>실내등유</th>\n",
       "    </tr>\n",
       "  </thead>\n",
       "  <tbody>\n",
       "    <tr>\n",
       "      <th>0</th>\n",
       "      <td>서울특별시</td>\n",
       "      <td>(주)보성 세곡주유소</td>\n",
       "      <td>서울 강남구  헌릉로 731 (세곡동)</td>\n",
       "      <td>SK에너지</td>\n",
       "      <td>02-445-6870</td>\n",
       "      <td>Y</td>\n",
       "      <td>-</td>\n",
       "      <td>1653</td>\n",
       "      <td>1575</td>\n",
       "      <td>-</td>\n",
       "    </tr>\n",
       "    <tr>\n",
       "      <th>1</th>\n",
       "      <td>서울특별시</td>\n",
       "      <td>현대오일뱅크 도곡셀프주유소</td>\n",
       "      <td>서울 강남구  남부순환로 2718 (도곡2동)</td>\n",
       "      <td>현대오일뱅크</td>\n",
       "      <td>02-529-5101</td>\n",
       "      <td>Y</td>\n",
       "      <td>1872</td>\n",
       "      <td>1699</td>\n",
       "      <td>1654</td>\n",
       "      <td>-</td>\n",
       "    </tr>\n",
       "    <tr>\n",
       "      <th>2</th>\n",
       "      <td>서울특별시</td>\n",
       "      <td>자곡셀프주유소</td>\n",
       "      <td>서울 강남구 밤고개로 120 (자곡동)</td>\n",
       "      <td>SK에너지</td>\n",
       "      <td>02-445-5841</td>\n",
       "      <td>Y</td>\n",
       "      <td>-</td>\n",
       "      <td>1699</td>\n",
       "      <td>1595</td>\n",
       "      <td>-</td>\n",
       "    </tr>\n",
       "    <tr>\n",
       "      <th>3</th>\n",
       "      <td>서울특별시</td>\n",
       "      <td>현대오일뱅크(주)직영 산성셀프주유소</td>\n",
       "      <td>서울 강남구 헌릉로 730</td>\n",
       "      <td>현대오일뱅크</td>\n",
       "      <td>02-2226-4963</td>\n",
       "      <td>Y</td>\n",
       "      <td>1918</td>\n",
       "      <td>1699</td>\n",
       "      <td>1595</td>\n",
       "      <td>-</td>\n",
       "    </tr>\n",
       "    <tr>\n",
       "      <th>4</th>\n",
       "      <td>서울특별시</td>\n",
       "      <td>삼성동주유소</td>\n",
       "      <td>서울 강남구 테헤란로 619 (삼성동)</td>\n",
       "      <td>현대오일뱅크</td>\n",
       "      <td>02-508-6572</td>\n",
       "      <td>Y</td>\n",
       "      <td>1929</td>\n",
       "      <td>1699</td>\n",
       "      <td>1609</td>\n",
       "      <td>-</td>\n",
       "    </tr>\n",
       "  </tbody>\n",
       "</table>\n",
       "</div>"
      ],
      "text/plain": [
       "      지역                   상호                         주소      상표   \n",
       "0  서울특별시          (주)보성 세곡주유소      서울 강남구  헌릉로 731 (세곡동)   SK에너지  \\\n",
       "1  서울특별시       현대오일뱅크 도곡셀프주유소  서울 강남구  남부순환로 2718 (도곡2동)  현대오일뱅크   \n",
       "2  서울특별시              자곡셀프주유소      서울 강남구 밤고개로 120 (자곡동)   SK에너지   \n",
       "3  서울특별시  현대오일뱅크(주)직영 산성셀프주유소             서울 강남구 헌릉로 730  현대오일뱅크   \n",
       "4  서울특별시               삼성동주유소      서울 강남구 테헤란로 619 (삼성동)  현대오일뱅크   \n",
       "\n",
       "           전화번호 셀프여부 고급휘발유   휘발유    경유 실내등유  \n",
       "0   02-445-6870    Y     -  1653  1575    -  \n",
       "1   02-529-5101    Y  1872  1699  1654    -  \n",
       "2   02-445-5841    Y     -  1699  1595    -  \n",
       "3  02-2226-4963    Y  1918  1699  1595    -  \n",
       "4   02-508-6572    Y  1929  1699  1609    -  "
      ]
     },
     "execution_count": 22,
     "metadata": {},
     "output_type": "execute_result"
    }
   ],
   "source": [
    "#pip install xlrd\n",
    "file = glob('C:/Users/YONSAI/Downloads/지역*.xls')[-1]\n",
    "df =pd.read_excel(file,header=2)        #엑셀 헤더 2줄 날리기\n",
    "df.head()"
   ]
  },
  {
   "cell_type": "code",
   "execution_count": 23,
   "metadata": {},
   "outputs": [
    {
     "data": {
      "text/plain": [
       "(441, 10)"
      ]
     },
     "execution_count": 23,
     "metadata": {},
     "output_type": "execute_result"
    }
   ],
   "source": [
    "# 25개 파일을 읽어서 하나의 데이터 프레임으로 만들기 pd.concat\n",
    "df_list = []\n",
    "for file in glob('C:/Users/YONSAI/Downloads/지역*.xls'):\n",
    "    df =pd.read_excel(file,header=2) \n",
    "    df_list.append(df)\n",
    "\n",
    "df =pd.concat(df_list)\n",
    "df.shape"
   ]
  },
  {
   "cell_type": "code",
   "execution_count": 24,
   "metadata": {},
   "outputs": [
    {
     "data": {
      "text/html": [
       "<div>\n",
       "<style scoped>\n",
       "    .dataframe tbody tr th:only-of-type {\n",
       "        vertical-align: middle;\n",
       "    }\n",
       "\n",
       "    .dataframe tbody tr th {\n",
       "        vertical-align: top;\n",
       "    }\n",
       "\n",
       "    .dataframe thead th {\n",
       "        text-align: right;\n",
       "    }\n",
       "</style>\n",
       "<table border=\"1\" class=\"dataframe\">\n",
       "  <thead>\n",
       "    <tr style=\"text-align: right;\">\n",
       "      <th></th>\n",
       "      <th>상호</th>\n",
       "      <th>주소</th>\n",
       "      <th>휘발유</th>\n",
       "      <th>셀프여부</th>\n",
       "      <th>상표</th>\n",
       "    </tr>\n",
       "  </thead>\n",
       "  <tbody>\n",
       "    <tr>\n",
       "      <th>0</th>\n",
       "      <td>재건에너지 재정제2주유소 고속셀프지점</td>\n",
       "      <td>서울특별시 강동구  천호대로 1246 (둔촌제2동)</td>\n",
       "      <td>1679</td>\n",
       "      <td>Y</td>\n",
       "      <td>현대오일뱅크</td>\n",
       "    </tr>\n",
       "    <tr>\n",
       "      <th>1</th>\n",
       "      <td>구천면주유소</td>\n",
       "      <td>서울 강동구 구천면로 357 (암사동)</td>\n",
       "      <td>1684</td>\n",
       "      <td>N</td>\n",
       "      <td>현대오일뱅크</td>\n",
       "    </tr>\n",
       "    <tr>\n",
       "      <th>2</th>\n",
       "      <td>대성석유(주)길동주유소</td>\n",
       "      <td>서울 강동구 천호대로 1168</td>\n",
       "      <td>1696</td>\n",
       "      <td>N</td>\n",
       "      <td>GS칼텍스</td>\n",
       "    </tr>\n",
       "    <tr>\n",
       "      <th>3</th>\n",
       "      <td>(주)소모 신월주유소</td>\n",
       "      <td>서울 강동구 양재대로 1323 (성내동)</td>\n",
       "      <td>1696</td>\n",
       "      <td>Y</td>\n",
       "      <td>GS칼텍스</td>\n",
       "    </tr>\n",
       "    <tr>\n",
       "      <th>4</th>\n",
       "      <td>(주)삼표에너지 고덕주유소</td>\n",
       "      <td>서울 강동구 고덕로 39 (암사동)</td>\n",
       "      <td>1699</td>\n",
       "      <td>Y</td>\n",
       "      <td>GS칼텍스</td>\n",
       "    </tr>\n",
       "  </tbody>\n",
       "</table>\n",
       "</div>"
      ],
      "text/plain": [
       "                     상호                            주소   휘발유 셀프여부      상표\n",
       "0  재건에너지 재정제2주유소 고속셀프지점  서울특별시 강동구  천호대로 1246 (둔촌제2동)  1679    Y  현대오일뱅크\n",
       "1                구천면주유소         서울 강동구 구천면로 357 (암사동)  1684    N  현대오일뱅크\n",
       "2          대성석유(주)길동주유소              서울 강동구 천호대로 1168  1696    N   GS칼텍스\n",
       "3           (주)소모 신월주유소        서울 강동구 양재대로 1323 (성내동)  1696    Y   GS칼텍스\n",
       "4        (주)삼표에너지 고덕주유소           서울 강동구 고덕로 39 (암사동)  1699    Y   GS칼텍스"
      ]
     },
     "execution_count": 24,
     "metadata": {},
     "output_type": "execute_result"
    }
   ],
   "source": [
    "df=df[['상호','주소','휘발유','셀프여부','상표']]\n",
    "df.head()"
   ]
  },
  {
   "cell_type": "code",
   "execution_count": 25,
   "metadata": {},
   "outputs": [
    {
     "data": {
      "text/html": [
       "<div>\n",
       "<style scoped>\n",
       "    .dataframe tbody tr th:only-of-type {\n",
       "        vertical-align: middle;\n",
       "    }\n",
       "\n",
       "    .dataframe tbody tr th {\n",
       "        vertical-align: top;\n",
       "    }\n",
       "\n",
       "    .dataframe thead th {\n",
       "        text-align: right;\n",
       "    }\n",
       "</style>\n",
       "<table border=\"1\" class=\"dataframe\">\n",
       "  <thead>\n",
       "    <tr style=\"text-align: right;\">\n",
       "      <th></th>\n",
       "      <th>상호</th>\n",
       "      <th>주소</th>\n",
       "      <th>가격</th>\n",
       "      <th>셀프</th>\n",
       "      <th>상표</th>\n",
       "    </tr>\n",
       "  </thead>\n",
       "  <tbody>\n",
       "    <tr>\n",
       "      <th>29</th>\n",
       "      <td>㈜새서울석유 새서울주유소</td>\n",
       "      <td>서울 강남구 압구정로 154</td>\n",
       "      <td>2258</td>\n",
       "      <td>N</td>\n",
       "      <td>현대오일뱅크</td>\n",
       "    </tr>\n",
       "    <tr>\n",
       "      <th>30</th>\n",
       "      <td>갤러리아주유소</td>\n",
       "      <td>서울 강남구 압구정로 426</td>\n",
       "      <td>2275</td>\n",
       "      <td>N</td>\n",
       "      <td>SK에너지</td>\n",
       "    </tr>\n",
       "    <tr>\n",
       "      <th>31</th>\n",
       "      <td>SK논현주유소</td>\n",
       "      <td>서울 강남구 논현로 747 (논현동)</td>\n",
       "      <td>2335</td>\n",
       "      <td>N</td>\n",
       "      <td>SK에너지</td>\n",
       "    </tr>\n",
       "    <tr>\n",
       "      <th>32</th>\n",
       "      <td>(주)제이제이네트웍스 제이제이주유소</td>\n",
       "      <td>서울 강남구 언주로 716</td>\n",
       "      <td>2398</td>\n",
       "      <td>N</td>\n",
       "      <td>현대오일뱅크</td>\n",
       "    </tr>\n",
       "    <tr>\n",
       "      <th>33</th>\n",
       "      <td>(주)만정에너지 삼보주유소</td>\n",
       "      <td>서울 강남구 봉은사로 433 (삼성동)</td>\n",
       "      <td>2578</td>\n",
       "      <td>N</td>\n",
       "      <td>GS칼텍스</td>\n",
       "    </tr>\n",
       "  </tbody>\n",
       "</table>\n",
       "</div>"
      ],
      "text/plain": [
       "                     상호                     주소    가격 셀프      상표\n",
       "29        ㈜새서울석유 새서울주유소        서울 강남구 압구정로 154  2258  N  현대오일뱅크\n",
       "30              갤러리아주유소        서울 강남구 압구정로 426  2275  N   SK에너지\n",
       "31              SK논현주유소   서울 강남구 논현로 747 (논현동)  2335  N   SK에너지\n",
       "32  (주)제이제이네트웍스 제이제이주유소         서울 강남구 언주로 716  2398  N  현대오일뱅크\n",
       "33       (주)만정에너지 삼보주유소  서울 강남구 봉은사로 433 (삼성동)  2578  N   GS칼텍스"
      ]
     },
     "execution_count": 25,
     "metadata": {},
     "output_type": "execute_result"
    }
   ],
   "source": [
    "# 컬럼명 원하는 컬럼명만 바꾸기\n",
    "df.rename(columns={'휘발유':'가격','셀프여부':'셀프'},inplace=True)\n",
    "df.tail()"
   ]
  },
  {
   "cell_type": "code",
   "execution_count": 26,
   "metadata": {},
   "outputs": [
    {
     "data": {
      "text/html": [
       "<div>\n",
       "<style scoped>\n",
       "    .dataframe tbody tr th:only-of-type {\n",
       "        vertical-align: middle;\n",
       "    }\n",
       "\n",
       "    .dataframe tbody tr th {\n",
       "        vertical-align: top;\n",
       "    }\n",
       "\n",
       "    .dataframe thead th {\n",
       "        text-align: right;\n",
       "    }\n",
       "</style>\n",
       "<table border=\"1\" class=\"dataframe\">\n",
       "  <thead>\n",
       "    <tr style=\"text-align: right;\">\n",
       "      <th></th>\n",
       "      <th>상호</th>\n",
       "      <th>주소</th>\n",
       "      <th>가격</th>\n",
       "      <th>셀프</th>\n",
       "      <th>상표</th>\n",
       "      <th>구</th>\n",
       "    </tr>\n",
       "  </thead>\n",
       "  <tbody>\n",
       "    <tr>\n",
       "      <th>0</th>\n",
       "      <td>재건에너지 재정제2주유소 고속셀프지점</td>\n",
       "      <td>서울특별시 강동구  천호대로 1246 (둔촌제2동)</td>\n",
       "      <td>1679</td>\n",
       "      <td>Y</td>\n",
       "      <td>현대오일뱅크</td>\n",
       "      <td>강동구</td>\n",
       "    </tr>\n",
       "    <tr>\n",
       "      <th>1</th>\n",
       "      <td>구천면주유소</td>\n",
       "      <td>서울 강동구 구천면로 357 (암사동)</td>\n",
       "      <td>1684</td>\n",
       "      <td>N</td>\n",
       "      <td>현대오일뱅크</td>\n",
       "      <td>강동구</td>\n",
       "    </tr>\n",
       "    <tr>\n",
       "      <th>2</th>\n",
       "      <td>대성석유(주)길동주유소</td>\n",
       "      <td>서울 강동구 천호대로 1168</td>\n",
       "      <td>1696</td>\n",
       "      <td>N</td>\n",
       "      <td>GS칼텍스</td>\n",
       "      <td>강동구</td>\n",
       "    </tr>\n",
       "    <tr>\n",
       "      <th>3</th>\n",
       "      <td>(주)소모 신월주유소</td>\n",
       "      <td>서울 강동구 양재대로 1323 (성내동)</td>\n",
       "      <td>1696</td>\n",
       "      <td>Y</td>\n",
       "      <td>GS칼텍스</td>\n",
       "      <td>강동구</td>\n",
       "    </tr>\n",
       "    <tr>\n",
       "      <th>4</th>\n",
       "      <td>(주)삼표에너지 고덕주유소</td>\n",
       "      <td>서울 강동구 고덕로 39 (암사동)</td>\n",
       "      <td>1699</td>\n",
       "      <td>Y</td>\n",
       "      <td>GS칼텍스</td>\n",
       "      <td>강동구</td>\n",
       "    </tr>\n",
       "  </tbody>\n",
       "</table>\n",
       "</div>"
      ],
      "text/plain": [
       "                     상호                            주소    가격 셀프      상표    구\n",
       "0  재건에너지 재정제2주유소 고속셀프지점  서울특별시 강동구  천호대로 1246 (둔촌제2동)  1679  Y  현대오일뱅크  강동구\n",
       "1                구천면주유소         서울 강동구 구천면로 357 (암사동)  1684  N  현대오일뱅크  강동구\n",
       "2          대성석유(주)길동주유소              서울 강동구 천호대로 1168  1696  N   GS칼텍스  강동구\n",
       "3           (주)소모 신월주유소        서울 강동구 양재대로 1323 (성내동)  1696  Y   GS칼텍스  강동구\n",
       "4        (주)삼표에너지 고덕주유소           서울 강동구 고덕로 39 (암사동)  1699  Y   GS칼텍스  강동구"
      ]
     },
     "execution_count": 26,
     "metadata": {},
     "output_type": "execute_result"
    }
   ],
   "source": [
    "# 주소를 split하고 거기서 첫번째만 가져온다\n",
    "df['구'] = df.주소.str.split().str[1]               #df['구'] = df.주소.apply(lambda x: x.split()[1])\n",
    "df.head()"
   ]
  },
  {
   "cell_type": "code",
   "execution_count": 30,
   "metadata": {},
   "outputs": [
    {
     "data": {
      "text/plain": [
       "array(['강동구', '동대문구', '동작구', '마포구', '서대문구', '서초구', '성동구', '성북구', '송파구',\n",
       "       '양천구', '영등포구', '강북구', '용산구', '은평구', '종로구', '중구', '중랑구', '강서구',\n",
       "       '관악구', '광진구', '구로구', '금천구', '노원구', '도봉구', '강남구'], dtype=object)"
      ]
     },
     "execution_count": 30,
     "metadata": {},
     "output_type": "execute_result"
    }
   ],
   "source": [
    "df.구.unique()"
   ]
  },
  {
   "cell_type": "code",
   "execution_count": 32,
   "metadata": {},
   "outputs": [],
   "source": [
    "# 가격을 정수로 변환\n",
    "df.가격 = df.가격.astype(int)"
   ]
  },
  {
   "cell_type": "code",
   "execution_count": 33,
   "metadata": {},
   "outputs": [],
   "source": [
    "df.to_csv('data/20230426_서울주유소.csv',index=False)"
   ]
  },
  {
   "attachments": {},
   "cell_type": "markdown",
   "metadata": {},
   "source": [
    "#### 3. 셀프주유소는 정말 저렴할까?"
   ]
  },
  {
   "cell_type": "code",
   "execution_count": 34,
   "metadata": {},
   "outputs": [
    {
     "data": {
      "text/html": [
       "<div>\n",
       "<style scoped>\n",
       "    .dataframe tbody tr th:only-of-type {\n",
       "        vertical-align: middle;\n",
       "    }\n",
       "\n",
       "    .dataframe tbody tr th {\n",
       "        vertical-align: top;\n",
       "    }\n",
       "\n",
       "    .dataframe thead tr th {\n",
       "        text-align: left;\n",
       "    }\n",
       "\n",
       "    .dataframe thead tr:last-of-type th {\n",
       "        text-align: right;\n",
       "    }\n",
       "</style>\n",
       "<table border=\"1\" class=\"dataframe\">\n",
       "  <thead>\n",
       "    <tr>\n",
       "      <th></th>\n",
       "      <th>count</th>\n",
       "      <th>mean</th>\n",
       "      <th>min</th>\n",
       "      <th>max</th>\n",
       "    </tr>\n",
       "    <tr>\n",
       "      <th></th>\n",
       "      <th>가격</th>\n",
       "      <th>가격</th>\n",
       "      <th>가격</th>\n",
       "      <th>가격</th>\n",
       "    </tr>\n",
       "    <tr>\n",
       "      <th>셀프</th>\n",
       "      <th></th>\n",
       "      <th></th>\n",
       "      <th></th>\n",
       "      <th></th>\n",
       "    </tr>\n",
       "  </thead>\n",
       "  <tbody>\n",
       "    <tr>\n",
       "      <th>N</th>\n",
       "      <td>180</td>\n",
       "      <td>1839.133333</td>\n",
       "      <td>1604</td>\n",
       "      <td>2690</td>\n",
       "    </tr>\n",
       "    <tr>\n",
       "      <th>Y</th>\n",
       "      <td>261</td>\n",
       "      <td>1686.049808</td>\n",
       "      <td>1589</td>\n",
       "      <td>2140</td>\n",
       "    </tr>\n",
       "  </tbody>\n",
       "</table>\n",
       "</div>"
      ],
      "text/plain": [
       "   count         mean   min   max\n",
       "      가격           가격    가격    가격\n",
       "셀프                               \n",
       "N    180  1839.133333  1604  2690\n",
       "Y    261  1686.049808  1589  2140"
      ]
     },
     "execution_count": 34,
     "metadata": {},
     "output_type": "execute_result"
    }
   ],
   "source": [
    "# 셀프/일반/주유소 가격 평균\n",
    "df.pivot_table('가격','셀프',aggfunc=['count','mean','min','max'])"
   ]
  },
  {
   "cell_type": "code",
   "execution_count": 44,
   "metadata": {},
   "outputs": [],
   "source": [
    "import numpy as np\n",
    "import pandas as pd\n",
    "import matplotlib.pyplot as plt\n",
    "import seaborn as sns\n",
    "plt.rcParams['font.family'] = 'Malgun Gothic'\n",
    "plt.rcParams['axes.unicode_minus']=False"
   ]
  },
  {
   "cell_type": "code",
   "execution_count": 36,
   "metadata": {},
   "outputs": [
    {
     "data": {
      "image/png": "[encoded data removed]",
      "text/plain": [
       "<Figure size 640x480 with 1 Axes>"
      ]
     },
     "metadata": {},
     "output_type": "display_data"
    }
   ],
   "source": [
    "df.boxplot(column='가격',by='셀프')\n",
    "plt.show()"
   ]
  },
  {
   "attachments": {},
   "cell_type": "markdown",
   "metadata": {},
   "source": [
    "- 가설 검정 (2-sample T)"
   ]
  },
  {
   "cell_type": "code",
   "execution_count": 40,
   "metadata": {},
   "outputs": [
    {
     "data": {
      "text/plain": [
       "Ttest_indResult(statistic=-9.061852210181467, pvalue=1.433043930937167e-16)"
      ]
     },
     "execution_count": 40,
     "metadata": {},
     "output_type": "execute_result"
    }
   ],
   "source": [
    "import scipy as sp\n",
    "sp.stats.ttest_ind(df[df.셀프 =='Y'].가격,df[df.셀프 =='N'].가격,equal_var=False)"
   ]
  },
  {
   "cell_type": "code",
   "execution_count": null,
   "metadata": {},
   "outputs": [],
   "source": [
    "# p-value 가 0.05보다 작으므로 귀무가설 기각, 즉 대립 가설 채택\n",
    "#    - 귀무가설(H0): 셀프주유소와 일반주유소의 가격 차이가 없다.\n",
    "#    - 대립가설(H1): 셀프주유소와 일반주유소의 가격 차이가 있다."
   ]
  },
  {
   "cell_type": "code",
   "execution_count": 43,
   "metadata": {},
   "outputs": [
    {
     "data": {
      "image/png": "[encoded data removed]",
      "text/plain": [
       "<Figure size 640x480 with 1 Axes>"
      ]
     },
     "metadata": {},
     "output_type": "display_data"
    }
   ],
   "source": [
    "df.boxplot(column='가격',by='상표')\n",
    "plt.title('상표별 가격')\n",
    "plt.show()"
   ]
  },
  {
   "cell_type": "code",
   "execution_count": 45,
   "metadata": {},
   "outputs": [
    {
     "data": {
      "image/png": "[encoded data removed]",
      "text/plain": [
       "<Figure size 640x480 with 1 Axes>"
      ]
     },
     "metadata": {},
     "output_type": "display_data"
    }
   ],
   "source": [
    "sns.boxenplot(x='상표',y='가격',data=df)\n",
    "plt.title('상표별 가격')\n",
    "plt.show()"
   ]
  },
  {
   "cell_type": "code",
   "execution_count": 41,
   "metadata": {},
   "outputs": [
    {
     "data": {
      "text/html": [
       "<div>\n",
       "<style scoped>\n",
       "    .dataframe tbody tr th:only-of-type {\n",
       "        vertical-align: middle;\n",
       "    }\n",
       "\n",
       "    .dataframe tbody tr th {\n",
       "        vertical-align: top;\n",
       "    }\n",
       "\n",
       "    .dataframe thead tr th {\n",
       "        text-align: left;\n",
       "    }\n",
       "\n",
       "    .dataframe thead tr:last-of-type th {\n",
       "        text-align: right;\n",
       "    }\n",
       "</style>\n",
       "<table border=\"1\" class=\"dataframe\">\n",
       "  <thead>\n",
       "    <tr>\n",
       "      <th></th>\n",
       "      <th>count</th>\n",
       "      <th>mean</th>\n",
       "      <th>min</th>\n",
       "      <th>max</th>\n",
       "    </tr>\n",
       "    <tr>\n",
       "      <th></th>\n",
       "      <th>가격</th>\n",
       "      <th>가격</th>\n",
       "      <th>가격</th>\n",
       "      <th>가격</th>\n",
       "    </tr>\n",
       "    <tr>\n",
       "      <th>상표</th>\n",
       "      <th></th>\n",
       "      <th></th>\n",
       "      <th></th>\n",
       "      <th></th>\n",
       "    </tr>\n",
       "  </thead>\n",
       "  <tbody>\n",
       "    <tr>\n",
       "      <th>GS칼텍스</th>\n",
       "      <td>105</td>\n",
       "      <td>1780.466667</td>\n",
       "      <td>1614</td>\n",
       "      <td>2685</td>\n",
       "    </tr>\n",
       "    <tr>\n",
       "      <th>S-OIL</th>\n",
       "      <td>79</td>\n",
       "      <td>1709.012658</td>\n",
       "      <td>1618</td>\n",
       "      <td>2228</td>\n",
       "    </tr>\n",
       "    <tr>\n",
       "      <th>SK에너지</th>\n",
       "      <td>130</td>\n",
       "      <td>1775.676923</td>\n",
       "      <td>1604</td>\n",
       "      <td>2690</td>\n",
       "    </tr>\n",
       "    <tr>\n",
       "      <th>알뜰(ex)</th>\n",
       "      <td>1</td>\n",
       "      <td>1589.000000</td>\n",
       "      <td>1589</td>\n",
       "      <td>1589</td>\n",
       "    </tr>\n",
       "    <tr>\n",
       "      <th>알뜰주유소</th>\n",
       "      <td>10</td>\n",
       "      <td>1654.300000</td>\n",
       "      <td>1618</td>\n",
       "      <td>1738</td>\n",
       "    </tr>\n",
       "    <tr>\n",
       "      <th>자가상표</th>\n",
       "      <td>2</td>\n",
       "      <td>1704.000000</td>\n",
       "      <td>1645</td>\n",
       "      <td>1763</td>\n",
       "    </tr>\n",
       "    <tr>\n",
       "      <th>현대오일뱅크</th>\n",
       "      <td>114</td>\n",
       "      <td>1726.000000</td>\n",
       "      <td>1604</td>\n",
       "      <td>2398</td>\n",
       "    </tr>\n",
       "  </tbody>\n",
       "</table>\n",
       "</div>"
      ],
      "text/plain": [
       "       count         mean   min   max\n",
       "          가격           가격    가격    가격\n",
       "상표                                   \n",
       "GS칼텍스    105  1780.466667  1614  2685\n",
       "S-OIL     79  1709.012658  1618  2228\n",
       "SK에너지    130  1775.676923  1604  2690\n",
       "알뜰(ex)     1  1589.000000  1589  1589\n",
       "알뜰주유소     10  1654.300000  1618  1738\n",
       "자가상표       2  1704.000000  1645  1763\n",
       "현대오일뱅크   114  1726.000000  1604  2398"
      ]
     },
     "execution_count": 41,
     "metadata": {},
     "output_type": "execute_result"
    }
   ],
   "source": [
    "df.pivot_table('가격','상표',aggfunc=['count','mean','min','max'])"
   ]
  },
  {
   "attachments": {},
   "cell_type": "markdown",
   "metadata": {},
   "source": [
    "- 구별로 가격 비교"
   ]
  },
  {
   "cell_type": "code",
   "execution_count": 50,
   "metadata": {},
   "outputs": [
    {
     "data": {
      "text/html": [
       "<div>\n",
       "<style scoped>\n",
       "    .dataframe tbody tr th:only-of-type {\n",
       "        vertical-align: middle;\n",
       "    }\n",
       "\n",
       "    .dataframe tbody tr th {\n",
       "        vertical-align: top;\n",
       "    }\n",
       "\n",
       "    .dataframe thead tr th {\n",
       "        text-align: left;\n",
       "    }\n",
       "\n",
       "    .dataframe thead tr:last-of-type th {\n",
       "        text-align: right;\n",
       "    }\n",
       "</style>\n",
       "<table border=\"1\" class=\"dataframe\">\n",
       "  <thead>\n",
       "    <tr>\n",
       "      <th></th>\n",
       "      <th>count</th>\n",
       "      <th>mean</th>\n",
       "      <th>min</th>\n",
       "      <th>max</th>\n",
       "    </tr>\n",
       "    <tr>\n",
       "      <th></th>\n",
       "      <th>가격</th>\n",
       "      <th>가격</th>\n",
       "      <th>가격</th>\n",
       "      <th>가격</th>\n",
       "    </tr>\n",
       "    <tr>\n",
       "      <th>구</th>\n",
       "      <th></th>\n",
       "      <th></th>\n",
       "      <th></th>\n",
       "      <th></th>\n",
       "    </tr>\n",
       "  </thead>\n",
       "  <tbody>\n",
       "    <tr>\n",
       "      <th>용산구</th>\n",
       "      <td>12</td>\n",
       "      <td>2148.250000</td>\n",
       "      <td>1948</td>\n",
       "      <td>2685</td>\n",
       "    </tr>\n",
       "    <tr>\n",
       "      <th>중구</th>\n",
       "      <td>10</td>\n",
       "      <td>2045.100000</td>\n",
       "      <td>1659</td>\n",
       "      <td>2690</td>\n",
       "    </tr>\n",
       "    <tr>\n",
       "      <th>종로구</th>\n",
       "      <td>9</td>\n",
       "      <td>1955.444444</td>\n",
       "      <td>1669</td>\n",
       "      <td>2260</td>\n",
       "    </tr>\n",
       "    <tr>\n",
       "      <th>강남구</th>\n",
       "      <td>34</td>\n",
       "      <td>1937.617647</td>\n",
       "      <td>1653</td>\n",
       "      <td>2578</td>\n",
       "    </tr>\n",
       "    <tr>\n",
       "      <th>성동구</th>\n",
       "      <td>16</td>\n",
       "      <td>1799.750000</td>\n",
       "      <td>1645</td>\n",
       "      <td>2170</td>\n",
       "    </tr>\n",
       "    <tr>\n",
       "      <th>강동구</th>\n",
       "      <td>13</td>\n",
       "      <td>1742.384615</td>\n",
       "      <td>1679</td>\n",
       "      <td>1978</td>\n",
       "    </tr>\n",
       "    <tr>\n",
       "      <th>관악구</th>\n",
       "      <td>14</td>\n",
       "      <td>1742.214286</td>\n",
       "      <td>1685</td>\n",
       "      <td>1862</td>\n",
       "    </tr>\n",
       "    <tr>\n",
       "      <th>서초구</th>\n",
       "      <td>30</td>\n",
       "      <td>1738.866667</td>\n",
       "      <td>1589</td>\n",
       "      <td>1989</td>\n",
       "    </tr>\n",
       "    <tr>\n",
       "      <th>구로구</th>\n",
       "      <td>20</td>\n",
       "      <td>1738.850000</td>\n",
       "      <td>1645</td>\n",
       "      <td>2259</td>\n",
       "    </tr>\n",
       "    <tr>\n",
       "      <th>동작구</th>\n",
       "      <td>9</td>\n",
       "      <td>1732.333333</td>\n",
       "      <td>1649</td>\n",
       "      <td>1835</td>\n",
       "    </tr>\n",
       "    <tr>\n",
       "      <th>영등포구</th>\n",
       "      <td>27</td>\n",
       "      <td>1724.666667</td>\n",
       "      <td>1625</td>\n",
       "      <td>2199</td>\n",
       "    </tr>\n",
       "    <tr>\n",
       "      <th>마포구</th>\n",
       "      <td>11</td>\n",
       "      <td>1708.090909</td>\n",
       "      <td>1657</td>\n",
       "      <td>1764</td>\n",
       "    </tr>\n",
       "    <tr>\n",
       "      <th>노원구</th>\n",
       "      <td>14</td>\n",
       "      <td>1706.571429</td>\n",
       "      <td>1629</td>\n",
       "      <td>1795</td>\n",
       "    </tr>\n",
       "    <tr>\n",
       "      <th>강서구</th>\n",
       "      <td>33</td>\n",
       "      <td>1705.606061</td>\n",
       "      <td>1618</td>\n",
       "      <td>2025</td>\n",
       "    </tr>\n",
       "    <tr>\n",
       "      <th>광진구</th>\n",
       "      <td>13</td>\n",
       "      <td>1699.923077</td>\n",
       "      <td>1673</td>\n",
       "      <td>1788</td>\n",
       "    </tr>\n",
       "    <tr>\n",
       "      <th>금천구</th>\n",
       "      <td>11</td>\n",
       "      <td>1693.818182</td>\n",
       "      <td>1665</td>\n",
       "      <td>1733</td>\n",
       "    </tr>\n",
       "    <tr>\n",
       "      <th>성북구</th>\n",
       "      <td>23</td>\n",
       "      <td>1692.478261</td>\n",
       "      <td>1619</td>\n",
       "      <td>1902</td>\n",
       "    </tr>\n",
       "    <tr>\n",
       "      <th>동대문구</th>\n",
       "      <td>18</td>\n",
       "      <td>1690.777778</td>\n",
       "      <td>1635</td>\n",
       "      <td>1790</td>\n",
       "    </tr>\n",
       "    <tr>\n",
       "      <th>송파구</th>\n",
       "      <td>29</td>\n",
       "      <td>1686.896552</td>\n",
       "      <td>1633</td>\n",
       "      <td>1878</td>\n",
       "    </tr>\n",
       "    <tr>\n",
       "      <th>양천구</th>\n",
       "      <td>24</td>\n",
       "      <td>1682.083333</td>\n",
       "      <td>1625</td>\n",
       "      <td>1779</td>\n",
       "    </tr>\n",
       "    <tr>\n",
       "      <th>서대문구</th>\n",
       "      <td>14</td>\n",
       "      <td>1681.928571</td>\n",
       "      <td>1618</td>\n",
       "      <td>1746</td>\n",
       "    </tr>\n",
       "    <tr>\n",
       "      <th>중랑구</th>\n",
       "      <td>13</td>\n",
       "      <td>1674.307692</td>\n",
       "      <td>1645</td>\n",
       "      <td>1719</td>\n",
       "    </tr>\n",
       "    <tr>\n",
       "      <th>도봉구</th>\n",
       "      <td>16</td>\n",
       "      <td>1666.812500</td>\n",
       "      <td>1625</td>\n",
       "      <td>1747</td>\n",
       "    </tr>\n",
       "    <tr>\n",
       "      <th>은평구</th>\n",
       "      <td>16</td>\n",
       "      <td>1648.500000</td>\n",
       "      <td>1604</td>\n",
       "      <td>1763</td>\n",
       "    </tr>\n",
       "    <tr>\n",
       "      <th>강북구</th>\n",
       "      <td>12</td>\n",
       "      <td>1645.916667</td>\n",
       "      <td>1623</td>\n",
       "      <td>1695</td>\n",
       "    </tr>\n",
       "  </tbody>\n",
       "</table>\n",
       "</div>"
      ],
      "text/plain": [
       "     count         mean   min   max\n",
       "        가격           가격    가격    가격\n",
       "구                                  \n",
       "용산구     12  2148.250000  1948  2685\n",
       "중구      10  2045.100000  1659  2690\n",
       "종로구      9  1955.444444  1669  2260\n",
       "강남구     34  1937.617647  1653  2578\n",
       "성동구     16  1799.750000  1645  2170\n",
       "강동구     13  1742.384615  1679  1978\n",
       "관악구     14  1742.214286  1685  1862\n",
       "서초구     30  1738.866667  1589  1989\n",
       "구로구     20  1738.850000  1645  2259\n",
       "동작구      9  1732.333333  1649  1835\n",
       "영등포구    27  1724.666667  1625  2199\n",
       "마포구     11  1708.090909  1657  1764\n",
       "노원구     14  1706.571429  1629  1795\n",
       "강서구     33  1705.606061  1618  2025\n",
       "광진구     13  1699.923077  1673  1788\n",
       "금천구     11  1693.818182  1665  1733\n",
       "성북구     23  1692.478261  1619  1902\n",
       "동대문구    18  1690.777778  1635  1790\n",
       "송파구     29  1686.896552  1633  1878\n",
       "양천구     24  1682.083333  1625  1779\n",
       "서대문구    14  1681.928571  1618  1746\n",
       "중랑구     13  1674.307692  1645  1719\n",
       "도봉구     16  1666.812500  1625  1747\n",
       "은평구     16  1648.500000  1604  1763\n",
       "강북구     12  1645.916667  1623  1695"
      ]
     },
     "execution_count": 50,
     "metadata": {},
     "output_type": "execute_result"
    }
   ],
   "source": [
    "df.pivot_table('가격','구',aggfunc=['count','mean','min','max'])\\\n",
    "    .sort_values(by=('mean','가격'),ascending=False) # 정렬하기"
   ]
  },
  {
   "cell_type": "code",
   "execution_count": null,
   "metadata": {},
   "outputs": [],
   "source": []
  }
 ],
 "metadata": {
  "kernelspec": {
   "display_name": "base",
   "language": "python",
   "name": "python3"
  },
  "language_info": {
   "codemirror_mode": {
    "name": "ipython",
    "version": 3
   },
   "file_extension": ".py",
   "mimetype": "text/x-python",
   "name": "python",
   "nbconvert_exporter": "python",
   "pygments_lexer": "ipython3",
   "version": "3.10.10"
  },
  "orig_nbformat": 4
 },
 "nbformat": 4,
 "nbformat_minor": 2
}
