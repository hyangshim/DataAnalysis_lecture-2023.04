{
 "cells": [
  {
   "attachments": {},
   "cell_type": "markdown",
   "metadata": {},
   "source": [
    "### 나무위키 - 최근 변경내역 말뭉치(corpus) 만들기"
   ]
  },
  {
   "cell_type": "code",
   "execution_count": 1,
   "metadata": {},
   "outputs": [],
   "source": [
    "import time\n",
    "import pandas as pd\n",
    "from selenium import webdriver\n",
    "from selenium.webdriver.common.by import By\n",
    "from selenium.webdriver.common.keys import Keys\n",
    "from bs4 import BeautifulSoup\n",
    "import warnings\n",
    "warnings.filterwarnings('ignore')"
   ]
  },
  {
   "attachments": {},
   "cell_type": "markdown",
   "metadata": {},
   "source": [
    "##### 1. 페이지의 URL 정보 추출하기"
   ]
  },
  {
   "cell_type": "code",
   "execution_count": 2,
   "metadata": {},
   "outputs": [],
   "source": [
    "url = 'https://namu.wiki/RecentChanges'\n",
    "driver = webdriver.Chrome('C:/Users/YONSAI/Downloads/chromedriver.exe')\n",
    "driver.get(url)"
   ]
  },
  {
   "cell_type": "code",
   "execution_count": 3,
   "metadata": {},
   "outputs": [
    {
     "data": {
      "text/plain": [
       "112"
      ]
     },
     "execution_count": 3,
     "metadata": {},
     "output_type": "execute_result"
    }
   ],
   "source": [
    "# //*[@id=\"QD8sx38qa\"]/div[2]/div/article/div[2]/div/div[1]/div/div/table/tbody\n",
    "# //*[@id=\"QD8sx38qa\"]/div[2]/div/article/div[2]/div/div[1]/div/div/table/tbody/tr\n",
    "trs = driver.find_elements(By.XPATH, '//*[@id=\"QD8sx38qa\"]/div[2]/div/article/div[2]/div/div[1]/div/div/table/tbody/tr')\n",
    "len(trs)"
   ]
  },
  {
   "cell_type": "code",
   "execution_count": 4,
   "metadata": {},
   "outputs": [
    {
     "data": {
      "text/plain": [
       "'파일:982xkmb.webp'"
      ]
     },
     "execution_count": 4,
     "metadata": {},
     "output_type": "execute_result"
    }
   ],
   "source": [
    "tr = trs[0]\n",
    "tr.find_element(By.CSS_SELECTOR, 'td > a').text.strip()"
   ]
  },
  {
   "cell_type": "code",
   "execution_count": 5,
   "metadata": {},
   "outputs": [
    {
     "data": {
      "text/plain": [
       "'https://namu.wiki/w/%ED%8C%8C%EC%9D%BC:982xkmb.webp'"
      ]
     },
     "execution_count": 5,
     "metadata": {},
     "output_type": "execute_result"
    }
   ],
   "source": [
    "tr.find_element(By.CSS_SELECTOR, 'td > a').get_attribute('href')"
   ]
  },
  {
   "cell_type": "code",
   "execution_count": 6,
   "metadata": {},
   "outputs": [],
   "source": [
    "page_urls = []\n",
    "for tr in trs:\n",
    "    try:\n",
    "        page_urls.append(tr.find_element(By.CSS_SELECTOR, 'td > a').get_attribute('href'))\n",
    "    except:\n",
    "        continue"
   ]
  },
  {
   "cell_type": "code",
   "execution_count": 7,
   "metadata": {},
   "outputs": [
    {
     "data": {
      "text/plain": [
       "100"
      ]
     },
     "execution_count": 7,
     "metadata": {},
     "output_type": "execute_result"
    }
   ],
   "source": [
    "len(page_urls)"
   ]
  },
  {
   "cell_type": "code",
   "execution_count": 8,
   "metadata": {},
   "outputs": [
    {
     "data": {
      "text/plain": [
       "71"
      ]
     },
     "execution_count": 8,
     "metadata": {},
     "output_type": "execute_result"
    }
   ],
   "source": [
    "# 중복 URL 제거\n",
    "page_urls = list(set(page_urls))\n",
    "len(page_urls)"
   ]
  },
  {
   "cell_type": "code",
   "execution_count": 9,
   "metadata": {},
   "outputs": [
    {
     "data": {
      "text/plain": [
       "['https://namu.wiki/w/%EC%9C%A0%EA%B8%B0%EC%83%81(%EB%86%8D%EA%B5%AC%EC%84%A0%EC%88%98)',\n",
       " 'https://namu.wiki/w/spaceuk',\n",
       " 'https://namu.wiki/w/%EB%9D%BC%EB%94%94%EC%98%A4']"
      ]
     },
     "execution_count": 9,
     "metadata": {},
     "output_type": "execute_result"
    }
   ],
   "source": [
    "page_urls[:3]"
   ]
  },
  {
   "cell_type": "code",
   "execution_count": 10,
   "metadata": {},
   "outputs": [],
   "source": [
    "driver.close()"
   ]
  },
  {
   "attachments": {},
   "cell_type": "markdown",
   "metadata": {},
   "source": [
    "##### 2. URL 페이지 정보를 기반으로 크롤링하기"
   ]
  },
  {
   "cell_type": "code",
   "execution_count": 11,
   "metadata": {},
   "outputs": [],
   "source": [
    "driver = webdriver.Chrome('C:/Users/YONSAI/Downloads/chromedriver.exe')\n",
    "driver.get(page_urls[10])"
   ]
  },
  {
   "cell_type": "code",
   "execution_count": 12,
   "metadata": {},
   "outputs": [
    {
     "data": {
      "text/plain": [
       "'헤어질 결심/줄거리'"
      ]
     },
     "execution_count": 12,
     "metadata": {},
     "output_type": "execute_result"
    }
   ],
   "source": [
    "soup = BeautifulSoup(driver.page_source, 'html.parser')\n",
    "title = soup.select_one('.hH5f5Do0').find('h1').get_text().strip()\n",
    "title"
   ]
  },
  {
   "cell_type": "code",
   "execution_count": 13,
   "metadata": {},
   "outputs": [
    {
     "name": "stdout",
     "output_type": "stream",
     "text": [
      "헤어질 결심\n",
      "영화 줄거리\n"
     ]
    }
   ],
   "source": [
    "cat_selector = '#QD8sx38qa > div.c3cb2d10 > div > div.hH5f5Do0 > div:nth-child(5) > div > div:nth-child(2) > div > div > div:nth-child(1) > div > ul'\n",
    "lis = soup.select(f'{cat_selector} > li')\n",
    "for li in lis:\n",
    "    print(li.get_text().strip())"
   ]
  },
  {
   "attachments": {},
   "cell_type": "markdown",
   "metadata": {},
   "source": [
    "#QD8sx38qa > div.c3cb2d10 > div > div.hH5f5Do0 > div:nth-child(5) > div > div:nth-child(2) > div > div > div:nth-child(13) > div:nth-child(1) > div > div:nth-child(4) > div"
   ]
  },
  {
   "attachments": {},
   "cell_type": "markdown",
   "metadata": {},
   "source": [
    "#QD8sx38qa > div.c3cb2d10 > div > div.hH5f5Do0 > div:nth-child(5) > div > div:nth-child(2) > div > div > div:nth-child(13) > div:nth-child(1) > div > div:nth-child(3) > div"
   ]
  },
  {
   "cell_type": "code",
   "execution_count": 14,
   "metadata": {},
   "outputs": [
    {
     "name": "stdout",
     "output_type": "stream",
     "text": [
      "1. 개요2. 전반부 (부산)3. 후반부 (이포)\n"
     ]
    }
   ],
   "source": [
    "summary_selector3 = '#QD8sx38qa > div.c3cb2d10 > div > div.hH5f5Do0 > div:nth-child(5) > div > div:nth-child(2) > div > div > div:nth-child(13) > div:nth-child(1) > div > div:nth-child(3) > div'\n",
    "summary_selector4 = '#QD8sx38qa > div.c3cb2d10 > div > div.hH5f5Do0 > div:nth-child(5) > div > div:nth-child(2) > div > div > div:nth-child(13) > div:nth-child(1) > div > div:nth-child(4) > div'\n",
    "try:\n",
    "    summary = soup.select_one(summary_selector3).get_text().strip()\n",
    "except:\n",
    "    try:\n",
    "        summary = soup.select_one(summary_selector4).get_text().strip()\n",
    "    except:\n",
    "        summary = ''\n",
    "print(summary)"
   ]
  },
  {
   "cell_type": "code",
   "execution_count": 62,
   "metadata": {},
   "outputs": [],
   "source": [
    "titles, categories, summaries = [], [], []\n",
    "for page in page_urls:\n",
    "    driver = webdriver.Chrome('C:/Users/YONSAI/Downloads/chromedriver.exe')\n",
    "    driver.get(page)\n",
    "    time.sleep(2)\n",
    "    soup = BeautifulSoup(driver.page_source, 'html.parser')\n",
    "    title = soup.select_one('.hH5f5Do0').find('h1').get_text().strip()\n",
    "    titles.append(title)\n",
    "    lis = soup.select(f'{cat_selector} > li')\n",
    "    for li in lis:\n",
    "        categories.append(li.get_text().strip())\n",
    "\n",
    "    try:\n",
    "        summary = soup.select_one(summary_selector3).get_text().strip()\n",
    "    except:\n",
    "        try:\n",
    "            summary = soup.select_one(summary_selector4).get_text().strip()\n",
    "        except:\n",
    "            summary = ''\n",
    "    summaries.append(summary)  \n",
    "    driver.close()\n",
    "    time.sleep(1)"
   ]
  },
  {
   "cell_type": "code",
   "execution_count": 63,
   "metadata": {},
   "outputs": [
    {
     "data": {
      "text/plain": [
       "(72, 247, 72)"
      ]
     },
     "execution_count": 63,
     "metadata": {},
     "output_type": "execute_result"
    }
   ],
   "source": [
    "len(titles), len(categories), len(summaries)"
   ]
  },
  {
   "cell_type": "code",
   "execution_count": 65,
   "metadata": {},
   "outputs": [
    {
     "data": {
      "text/plain": [
       "['2023년 4월부터 진행한 대규모 스트리머 서버인 악어의 놀이터의 진행과정을 담은 문서이다.',\n",
       " '욕심쟁이 오리아저씨를 원작으로 하는 게임들을 설명하는 항목.',\n",
       " '',\n",
       " '',\n",
       " '역대 베니스 국제 영화제   은사자상   제50회(1993년) →  제51회(1994년) →  제52회(1995년) 코쉬 바 코쉬→ 천상의 피조물리틀 오데사일 토로→ 폐지']"
      ]
     },
     "execution_count": 65,
     "metadata": {},
     "output_type": "execute_result"
    }
   ],
   "source": [
    "summaries[:5]"
   ]
  },
  {
   "cell_type": "code",
   "execution_count": null,
   "metadata": {},
   "outputs": [],
   "source": []
  }
 ],
 "metadata": {
  "kernelspec": {
   "display_name": "base",
   "language": "python",
   "name": "python3"
  },
  "language_info": {
   "codemirror_mode": {
    "name": "ipython",
    "version": 3
   },
   "file_extension": ".py",
   "mimetype": "text/x-python",
   "name": "python",
   "nbconvert_exporter": "python",
   "pygments_lexer": "ipython3",
   "version": "3.10.10"
  },
  "orig_nbformat": 4
 },
 "nbformat": 4,
 "nbformat_minor": 2
}
