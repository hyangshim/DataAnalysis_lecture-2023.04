{
 "cells": [
  {
   "cell_type": "code",
   "execution_count": 145,
   "metadata": {},
   "outputs": [],
   "source": [
    "import time\n",
    "import pandas as pd\n",
    "from selenium import webdriver\n",
    "from selenium.webdriver.common.by import By\n",
    "from selenium.webdriver.common.keys import Keys\n",
    "from bs4 import BeautifulSoup\n",
    "import warnings\n",
    "warnings.filterwarnings('ignore')"
   ]
  },
  {
   "cell_type": "code",
   "execution_count": 146,
   "metadata": {},
   "outputs": [],
   "source": [
    "url ='https://kin.naver.com/search/list.naver?query=%EC%96%B4%EB%B2%84%EC%9D%B4%EB%82%A0%EC%84%A0%EB%AC%BC'\n",
    "driver =webdriver.Chrome('file:///C:/Users/YONSAI/Downloads/chromedriver_win32/chromedriver')\n",
    "driver.get(url)\n",
    "time.sleep(2)"
   ]
  },
  {
   "cell_type": "code",
   "execution_count": 147,
   "metadata": {},
   "outputs": [
    {
     "data": {
      "text/plain": [
       "[<selenium.webdriver.remote.webelement.WebElement (session=\"135e8b0a450657630350fff4ab12f2cc\", element=\"b388967c-9043-40b2-a61b-63dba87455c0\")>,\n",
       " <selenium.webdriver.remote.webelement.WebElement (session=\"135e8b0a450657630350fff4ab12f2cc\", element=\"c0725a7e-f04e-4401-b1d5-d27ad1ac0e8f\")>,\n",
       " <selenium.webdriver.remote.webelement.WebElement (session=\"135e8b0a450657630350fff4ab12f2cc\", element=\"883e7f8d-9490-43aa-a93a-53c7c01944e1\")>]"
      ]
     },
     "execution_count": 147,
     "metadata": {},
     "output_type": "execute_result"
    }
   ],
   "source": [
    "#게시글 링크\n",
    "gu_list =driver.find_elements(By.CSS_SELECTOR,'.basic1 > li ')\n",
    "gu_list[:3]"
   ]
  },
  {
   "cell_type": "code",
   "execution_count": 148,
   "metadata": {},
   "outputs": [
    {
     "data": {
      "text/plain": [
       "'10'"
      ]
     },
     "execution_count": 148,
     "metadata": {},
     "output_type": "execute_result"
    }
   ],
   "source": [
    "# 답변수\n",
    "answer = driver.find_element(By.CLASS_NAME,'hit').text.split()[1]\n",
    "answer"
   ]
  },
  {
   "cell_type": "code",
   "execution_count": 149,
   "metadata": {},
   "outputs": [],
   "source": [
    "#페이지 이동\n",
    "driver.find_element(By.XPATH,('//*[@id=\"s_content\"]/div[3]/div[2]/a[1]')).click()\n"
   ]
  },
  {
   "cell_type": "code",
   "execution_count": 150,
   "metadata": {},
   "outputs": [
    {
     "data": {
      "text/plain": [
       "'1'"
      ]
     },
     "execution_count": 150,
     "metadata": {},
     "output_type": "execute_result"
    }
   ],
   "source": [
    "driver.find_element(By.XPATH,('//*[@id=\"s_content\"]/div[3]/div[2]/a[1]')).text"
   ]
  },
  {
   "cell_type": "code",
   "execution_count": 151,
   "metadata": {},
   "outputs": [],
   "source": [
    "driver.get(url)\n",
    "time.sleep(1)"
   ]
  },
  {
   "cell_type": "code",
   "execution_count": 153,
   "metadata": {},
   "outputs": [],
   "source": [
    "for page in range(1,11):\n",
    "      driver.get(url)\n",
    "      if page == 10:\n",
    "            driver.find_element(By.XPATH,('//*[@id=\"s_content\"]/div[3]/div[2]/a')).text\n",
    "    \n"
   ]
  },
  {
   "cell_type": "code",
   "execution_count": null,
   "metadata": {},
   "outputs": [],
   "source": []
  }
 ],
 "metadata": {
  "kernelspec": {
   "display_name": "base",
   "language": "python",
   "name": "python3"
  },
  "language_info": {
   "codemirror_mode": {
    "name": "ipython",
    "version": 3
   },
   "file_extension": ".py",
   "mimetype": "text/x-python",
   "name": "python",
   "nbconvert_exporter": "python",
   "pygments_lexer": "ipython3",
   "version": "3.10.10"
  },
  "orig_nbformat": 4
 },
 "nbformat": 4,
 "nbformat_minor": 2
}
