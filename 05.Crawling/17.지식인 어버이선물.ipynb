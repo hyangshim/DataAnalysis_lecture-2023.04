{
 "cells": [
  {
   "cell_type": "code",
   "execution_count": 1,
   "metadata": {},
   "outputs": [],
   "source": [
    "import time\n",
    "import pandas as pd\n",
    "from selenium import webdriver\n",
    "from selenium.webdriver.common.by import By\n",
    "from selenium.webdriver.common.keys import Keys\n",
    "from bs4 import BeautifulSoup\n",
    "import warnings\n",
    "warnings.filterwarnings('ignore')"
   ]
  },
  {
   "cell_type": "code",
   "execution_count": 2,
   "metadata": {},
   "outputs": [],
   "source": [
    "url ='https://kin.naver.com/search/list.naver?query=%EC%96%B4%EB%B2%84%EC%9D%B4%EB%82%A0%EC%84%A0%EB%AC%BC'\n",
    "driver =webdriver.Chrome('file:///C:/Users/YONSAI/Downloads/chromedriver_win32/chromedriver')\n",
    "driver.get(url)\n",
    "time.sleep(2)"
   ]
  },
  {
   "cell_type": "code",
   "execution_count": 3,
   "metadata": {},
   "outputs": [
    {
     "data": {
      "text/plain": [
       "10"
      ]
     },
     "execution_count": 3,
     "metadata": {},
     "output_type": "execute_result"
    }
   ],
   "source": [
    "soup =BeautifulSoup(driver.page_source,'html.parser')\n",
    "uls = soup.select('.basic1 > li')\n",
    "len(uls)"
   ]
  },
  {
   "cell_type": "code",
   "execution_count": 4,
   "metadata": {},
   "outputs": [
    {
     "data": {
      "text/plain": [
       "'40대 50대 어버이날선물 추천 해주세요'"
      ]
     },
     "execution_count": 4,
     "metadata": {},
     "output_type": "execute_result"
    }
   ],
   "source": [
    "ul =uls[0]\n",
    "name = ul.select_one('dt').get_text().strip()\n",
    "name"
   ]
  },
  {
   "cell_type": "code",
   "execution_count": 5,
   "metadata": {},
   "outputs": [],
   "source": [
    "#클릭하기\n",
    "driver.find_element(By.XPATH,'//*[@id=\"s_content\"]/div[3]/ul/li[1]/dl/dt/a').click()\n",
    "time.sleep(2)"
   ]
  },
  {
   "cell_type": "code",
   "execution_count": 6,
   "metadata": {},
   "outputs": [
    {
     "data": {
      "text/plain": [
       "\"NAVER\\n지식iN\\n검색영역\\n지식인 검색\\n자동완성 열기\\n지식iN 검색\\neXpert\\n상담 목록\\n사용자 링크\\n로그인\\n서비스 더보기\\n실시간 공지사항\\n새소식\\n5월의 열심답변자 챌린지 도전하세요!\\n메인 메뉴\\n홈\\nQ&A\\n답변하기\\n지식기부\\n사람들NEW\\n베스트\\n명예의전당\\n|\\n프로필\\n파트너센터\\n룰렛\\n질문하기\\n'어버이날선물' 에 대한 검색결과입니다.\\n전체\\nQ&A\\n오픈백과\\n답변을 기다리는 질문\\n(1-10/83,854)\\n정확도\\n최신순\\n추천순\\n      기간 전체\\n      최근 1주\\n      최근 1달\\n      기간 입력\\n      기간 전체\\n검색결과\\n40대 50대 어버이날선물 추천 해주세요 2023.04.25.\\n곧 어버이날이여서 미리 준비할려구용~ 어버이날선물추천 해주세요!!! 부모님 두분다 만족하실 수 있는 선물로 부탁드려용 오빠랑 합쳐서 50만원정도 있습니당 50대...\\nQ&A > 가족행사, 이벤트 | 답변수 1  추천수 0 | 답변 종로금빵(whdf****)\\n당뇨가 있으신데, 어버이날 선물로 뭐가... 2023.04.14.\\n... #당뇨 #어버이날선물 #저당밥솥 #저당밥솥추천 어버이날 선물 고르고 계시는 군요. 저도 당뇨 가족력이 있어서 건강에 신경을 많이 쓰고 있습니다. 얼마전 저도 저당밥솥을...\\n#당뇨 #어버이날선물 #저당밥솥 #저당밥솥추천\\nQ&A > 건강의료용품 | 답변수 10  추천수 0\\n40,50대 어버이날선물 2022.05.01.\\n저희 어머니40대 후반,아버지 50대초반 이신데 어버이날선물,그리고 건강식품까지 사드리고 싶은데 제가 중1입니다. 그래서 어버이날선물,건강식품까지해서 각각 7만원까지...\\n#어버이날 #어버이날선물 #어버이날선물추천 #부모님선물추천 #부모님선물\\nQ&A > 네이버 페이 | 답변수 9  추천수 1\\n어버이날 골프 관련 선물 2023.04.21.\\n안녕하세요 저는 대학생인데 이번에 알바를 시작해서 부모님께 어버이날 선물을 드릴까 하거든요 전에는 아무말없이 지나가거나 인사치레만 하거나 해서 두분다 골프...\\n#어버이날 #어버이날선물 #어버이날선물추천\\nQ&A > 골프 | 답변수 7  추천수 0 | 답변 골프스토어 김부장(golf****)\\n어버이날 시댁 선물 매년 고민되더라구 2023.04.25.\\n... 제가 작년 어버이날 시댁선물 드리고 반응 좋았던 비타풋 발마사지기 추천해드릴게요. 평소에 활동량이 많으신 어머님이 발바닥 아프다고 자주 하셨어서 찾아보니 적외선...\\n#어버이날시댁선물 #어버이날선물 #시댁선물\\nQ&A > 건강보조기구 | 답변수 5  추천수 0\\n40대 아버지 어버이날 선물 2023.04.23.\\n40대 아빠 어버이날 선물 좀 추천해주세요. 10대인데 아빠 나이에 맞는 선물 좀 추천해주세요 아버님 선물 꿀스틱 추천 드려요:) 요즘 환절기에 미먼 안 좋아서 저희...\\nQ&A > 가족행사, 이벤트 | 답변수 19  추천수 0\\n어버이날 선물 추천 2023.04.26.\\n어버이날 선물 추천 받습니다 5만원이하로 전에 3만원짜리 샀더니 왤케 비싼거 준비했냐고 얘기를 들어서..ㅠ 아버지는 몸건강에 좋은거 좋아하시구 어머니는 허리랑...\\n#어버이날선물추천 #카네이션브로치 #카네이션뱃지\\nQ&A > 가족행사, 이벤트 | 답변수 9  추천수 0\\n40대 엄마아빠 어버이날 선물 2023.04.22.\\n어버이날에 엄마아빠 선물 드리고 싶은데 뭘 드려야 할 지 모르겠어요 ! 참고로 전 14살이고 예산은 10만원 이내로 부탁드려요! 마사지기나 영양제 말고 다른거 추천...\\n쥬니버Q&A > 수학 | 답변수 7  추천수 0\\n어버이날 선물 뭐가 좋을까요 2023.04.11.\\n이번에 어버이날 선물 겸 부모님 생신 선물 하려고해요~ 요즘 친정엄마는 어깨가 아프시다시고, 아빠는 무릎때문에 병원 다니신다해요..ㅜㅜ 매번 현금으로만 드렸는데 이번엔...\\n#어버이날선물\\nQ&A > 자동차 수리,정비 | 답변수 2  추천수 17 | 답변 카놀라(qowh****)\\n할아버지 어버이날 선물로 정관장 홍상 2022.05.07.\\n할아버지 어버이날 선물로 정관장 홍상 괜찮나요..학생이라 잘 모르겠네요 어버이날선물 알아보시는군요 정관장 홍삼도 좋은것 같아요 요즘 환절기라서 연세가...\\nQ&A > 가족행사, 이벤트 | 답변수 5  추천수 0\\n1 2 3 4 5 6 7 8 9 10 다음페이지\\n'어버이날선물' 에 대한 궁금증을 해결하지 못하셨다면 직접 질문해보세요!\\n내 궁금증에 맞는 더 정확한 답변을 받을 수 있습니다.\\n연관검색어\\n가정의달 선물\\n연관검색어\\n도움말\\n관련 디렉토리\\n주식, 증권\\n쇼핑\\n사람과 그룹\\n연애, 결혼\\n국가기념일, 국경일\\n관련태그\\n#주식\\n#통합검색궁금증\\n#키움증권\\n#영웅문\\n아하!그렇구나\\n날씨가비슷한이유\\n푸른 곰팡이는 우유에서 어...\\n농구 축발 뜻좀 알려주세요\\n소고기를 쇠고기라 부르는...\\n정규, 미니, 싱글 앨범이...\\n더보기\\n하위영역\\n네이버 이용약관 | 지식iN 서비스 운영정책 | 개인정보처리방침 | 게시중단요청서비스 | 지식iN 고객센터\\nNAVERCopyright © NAVER Corp. All Rights Reserved.\""
      ]
     },
     "execution_count": 6,
     "metadata": {},
     "output_type": "execute_result"
    }
   ],
   "source": [
    "title = driver.find_element(By.XPATH,'//*[@id=\"wrap\"]').text.strip()\n",
    "title"
   ]
  },
  {
   "cell_type": "code",
   "execution_count": 8,
   "metadata": {},
   "outputs": [
    {
     "ename": "NoSuchWindowException",
     "evalue": "Message: no such window: target window already closed\nfrom unknown error: web view not found\n  (Session info: chrome=112.0.5615.138)\nStacktrace:\nBacktrace:\n\tGetHandleVerifier [0x006DDCE3+50899]\n\t(No symbol) [0x0066E111]\n\t(No symbol) [0x00575588]\n\t(No symbol) [0x0055D333]\n\t(No symbol) [0x005BF4DB]\n\t(No symbol) [0x005CDB33]\n\t(No symbol) [0x005BB6F6]\n\t(No symbol) [0x00597708]\n\t(No symbol) [0x0059886D]\n\tGetHandleVerifier [0x00943EAE+2566302]\n\tGetHandleVerifier [0x009792B1+2784417]\n\tGetHandleVerifier [0x0097327C+2759788]\n\tGetHandleVerifier [0x00775740+672048]\n\t(No symbol) [0x00678872]\n\t(No symbol) [0x006741C8]\n\t(No symbol) [0x006742AB]\n\t(No symbol) [0x006671B7]\n\tBaseThreadInitThunk [0x76500099+25]\n\tRtlGetAppContainerNamedObjectPath [0x774D7B6E+286]\n\tRtlGetAppContainerNamedObjectPath [0x774D7B3E+238]\n",
     "output_type": "error",
     "traceback": [
      "\u001b[1;31m---------------------------------------------------------------------------\u001b[0m",
      "\u001b[1;31mNoSuchWindowException\u001b[0m                     Traceback (most recent call last)",
      "Cell \u001b[1;32mIn[8], line 1\u001b[0m\n\u001b[1;32m----> 1\u001b[0m driver\u001b[39m.\u001b[39;49mfind_element(By\u001b[39m.\u001b[39;49mXPATH,(\u001b[39m'\u001b[39;49m\u001b[39m//*[@id=\u001b[39;49m\u001b[39m\"\u001b[39;49m\u001b[39ms_content\u001b[39;49m\u001b[39m\"\u001b[39;49m\u001b[39m]/div[3]/div[2]/a[1]\u001b[39;49m\u001b[39m'\u001b[39;49m))\u001b[39m.\u001b[39mclick()\n",
      "File \u001b[1;32mc:\\Users\\YONSAI\\anaconda3\\lib\\site-packages\\selenium\\webdriver\\remote\\webdriver.py:831\u001b[0m, in \u001b[0;36mWebDriver.find_element\u001b[1;34m(self, by, value)\u001b[0m\n\u001b[0;32m    828\u001b[0m     by \u001b[39m=\u001b[39m By\u001b[39m.\u001b[39mCSS_SELECTOR\n\u001b[0;32m    829\u001b[0m     value \u001b[39m=\u001b[39m \u001b[39mf\u001b[39m\u001b[39m'\u001b[39m\u001b[39m[name=\u001b[39m\u001b[39m\"\u001b[39m\u001b[39m{\u001b[39;00mvalue\u001b[39m}\u001b[39;00m\u001b[39m\"\u001b[39m\u001b[39m]\u001b[39m\u001b[39m'\u001b[39m\n\u001b[1;32m--> 831\u001b[0m \u001b[39mreturn\u001b[39;00m \u001b[39mself\u001b[39;49m\u001b[39m.\u001b[39;49mexecute(Command\u001b[39m.\u001b[39;49mFIND_ELEMENT, {\u001b[39m\"\u001b[39;49m\u001b[39musing\u001b[39;49m\u001b[39m\"\u001b[39;49m: by, \u001b[39m\"\u001b[39;49m\u001b[39mvalue\u001b[39;49m\u001b[39m\"\u001b[39;49m: value})[\u001b[39m\"\u001b[39m\u001b[39mvalue\u001b[39m\u001b[39m\"\u001b[39m]\n",
      "File \u001b[1;32mc:\\Users\\YONSAI\\anaconda3\\lib\\site-packages\\selenium\\webdriver\\remote\\webdriver.py:440\u001b[0m, in \u001b[0;36mWebDriver.execute\u001b[1;34m(self, driver_command, params)\u001b[0m\n\u001b[0;32m    438\u001b[0m response \u001b[39m=\u001b[39m \u001b[39mself\u001b[39m\u001b[39m.\u001b[39mcommand_executor\u001b[39m.\u001b[39mexecute(driver_command, params)\n\u001b[0;32m    439\u001b[0m \u001b[39mif\u001b[39;00m response:\n\u001b[1;32m--> 440\u001b[0m     \u001b[39mself\u001b[39;49m\u001b[39m.\u001b[39;49merror_handler\u001b[39m.\u001b[39;49mcheck_response(response)\n\u001b[0;32m    441\u001b[0m     response[\u001b[39m\"\u001b[39m\u001b[39mvalue\u001b[39m\u001b[39m\"\u001b[39m] \u001b[39m=\u001b[39m \u001b[39mself\u001b[39m\u001b[39m.\u001b[39m_unwrap_value(response\u001b[39m.\u001b[39mget(\u001b[39m\"\u001b[39m\u001b[39mvalue\u001b[39m\u001b[39m\"\u001b[39m, \u001b[39mNone\u001b[39;00m))\n\u001b[0;32m    442\u001b[0m     \u001b[39mreturn\u001b[39;00m response\n",
      "File \u001b[1;32mc:\\Users\\YONSAI\\anaconda3\\lib\\site-packages\\selenium\\webdriver\\remote\\errorhandler.py:245\u001b[0m, in \u001b[0;36mErrorHandler.check_response\u001b[1;34m(self, response)\u001b[0m\n\u001b[0;32m    243\u001b[0m         alert_text \u001b[39m=\u001b[39m value[\u001b[39m\"\u001b[39m\u001b[39malert\u001b[39m\u001b[39m\"\u001b[39m]\u001b[39m.\u001b[39mget(\u001b[39m\"\u001b[39m\u001b[39mtext\u001b[39m\u001b[39m\"\u001b[39m)\n\u001b[0;32m    244\u001b[0m     \u001b[39mraise\u001b[39;00m exception_class(message, screen, stacktrace, alert_text)  \u001b[39m# type: ignore[call-arg]  # mypy is not smart enough here\u001b[39;00m\n\u001b[1;32m--> 245\u001b[0m \u001b[39mraise\u001b[39;00m exception_class(message, screen, stacktrace)\n",
      "\u001b[1;31mNoSuchWindowException\u001b[0m: Message: no such window: target window already closed\nfrom unknown error: web view not found\n  (Session info: chrome=112.0.5615.138)\nStacktrace:\nBacktrace:\n\tGetHandleVerifier [0x006DDCE3+50899]\n\t(No symbol) [0x0066E111]\n\t(No symbol) [0x00575588]\n\t(No symbol) [0x0055D333]\n\t(No symbol) [0x005BF4DB]\n\t(No symbol) [0x005CDB33]\n\t(No symbol) [0x005BB6F6]\n\t(No symbol) [0x00597708]\n\t(No symbol) [0x0059886D]\n\tGetHandleVerifier [0x00943EAE+2566302]\n\tGetHandleVerifier [0x009792B1+2784417]\n\tGetHandleVerifier [0x0097327C+2759788]\n\tGetHandleVerifier [0x00775740+672048]\n\t(No symbol) [0x00678872]\n\t(No symbol) [0x006741C8]\n\t(No symbol) [0x006742AB]\n\t(No symbol) [0x006671B7]\n\tBaseThreadInitThunk [0x76500099+25]\n\tRtlGetAppContainerNamedObjectPath [0x774D7B6E+286]\n\tRtlGetAppContainerNamedObjectPath [0x774D7B3E+238]\n"
     ]
    }
   ],
   "source": [
    "driver.find_element(By.XPATH,('//*[@id=\"s_content\"]/div[3]/div[2]/a[1]')).click()"
   ]
  },
  {
   "cell_type": "code",
   "execution_count": 7,
   "metadata": {},
   "outputs": [
    {
     "ename": "NoSuchWindowException",
     "evalue": "Message: no such window: target window already closed\nfrom unknown error: web view not found\n  (Session info: chrome=112.0.5615.138)\nStacktrace:\nBacktrace:\n\tGetHandleVerifier [0x006DDCE3+50899]\n\t(No symbol) [0x0066E111]\n\t(No symbol) [0x00575588]\n\t(No symbol) [0x0055D333]\n\t(No symbol) [0x005BF4DB]\n\t(No symbol) [0x005CDB33]\n\t(No symbol) [0x005BB6F6]\n\t(No symbol) [0x00597708]\n\t(No symbol) [0x0059886D]\n\tGetHandleVerifier [0x00943EAE+2566302]\n\tGetHandleVerifier [0x009792B1+2784417]\n\tGetHandleVerifier [0x0097327C+2759788]\n\tGetHandleVerifier [0x00775740+672048]\n\t(No symbol) [0x00678872]\n\t(No symbol) [0x006741C8]\n\t(No symbol) [0x006742AB]\n\t(No symbol) [0x006671B7]\n\tBaseThreadInitThunk [0x76500099+25]\n\tRtlGetAppContainerNamedObjectPath [0x774D7B6E+286]\n\tRtlGetAppContainerNamedObjectPath [0x774D7B3E+238]\n",
     "output_type": "error",
     "traceback": [
      "\u001b[1;31m---------------------------------------------------------------------------\u001b[0m",
      "\u001b[1;31mNoSuchWindowException\u001b[0m                     Traceback (most recent call last)",
      "Cell \u001b[1;32mIn[7], line 10\u001b[0m\n\u001b[0;32m      8\u001b[0m driver\u001b[39m.\u001b[39mfind_element(By\u001b[39m.\u001b[39mXPATH,\u001b[39m'\u001b[39m\u001b[39m//*[@id=\u001b[39m\u001b[39m\"\u001b[39m\u001b[39ms_content\u001b[39m\u001b[39m\"\u001b[39m\u001b[39m]/div[3]/ul/li[1]/dl/dt/a\u001b[39m\u001b[39m'\u001b[39m)\u001b[39m.\u001b[39mclick()\n\u001b[0;32m      9\u001b[0m time\u001b[39m.\u001b[39msleep(\u001b[39m2\u001b[39m)\n\u001b[1;32m---> 10\u001b[0m title \u001b[39m=\u001b[39m driver\u001b[39m.\u001b[39;49mfind_element(By\u001b[39m.\u001b[39;49mXPATH,\u001b[39m'\u001b[39;49m\u001b[39m//*[@id=\u001b[39;49m\u001b[39m\"\u001b[39;49m\u001b[39mwrap\u001b[39;49m\u001b[39m\"\u001b[39;49m\u001b[39m]\u001b[39;49m\u001b[39m'\u001b[39;49m)\u001b[39m.\u001b[39mtext\n\u001b[0;32m     11\u001b[0m my_list\u001b[39m.\u001b[39mappend({\u001b[39m'\u001b[39m\u001b[39m제목\u001b[39m\u001b[39m'\u001b[39m:name,\u001b[39m'\u001b[39m\u001b[39m내용\u001b[39m\u001b[39m'\u001b[39m:\u001b[39m'\u001b[39m\u001b[39mtitle\u001b[39m\u001b[39m'\u001b[39m})\n",
      "File \u001b[1;32mc:\\Users\\YONSAI\\anaconda3\\lib\\site-packages\\selenium\\webdriver\\remote\\webdriver.py:831\u001b[0m, in \u001b[0;36mWebDriver.find_element\u001b[1;34m(self, by, value)\u001b[0m\n\u001b[0;32m    828\u001b[0m     by \u001b[39m=\u001b[39m By\u001b[39m.\u001b[39mCSS_SELECTOR\n\u001b[0;32m    829\u001b[0m     value \u001b[39m=\u001b[39m \u001b[39mf\u001b[39m\u001b[39m'\u001b[39m\u001b[39m[name=\u001b[39m\u001b[39m\"\u001b[39m\u001b[39m{\u001b[39;00mvalue\u001b[39m}\u001b[39;00m\u001b[39m\"\u001b[39m\u001b[39m]\u001b[39m\u001b[39m'\u001b[39m\n\u001b[1;32m--> 831\u001b[0m \u001b[39mreturn\u001b[39;00m \u001b[39mself\u001b[39;49m\u001b[39m.\u001b[39;49mexecute(Command\u001b[39m.\u001b[39;49mFIND_ELEMENT, {\u001b[39m\"\u001b[39;49m\u001b[39musing\u001b[39;49m\u001b[39m\"\u001b[39;49m: by, \u001b[39m\"\u001b[39;49m\u001b[39mvalue\u001b[39;49m\u001b[39m\"\u001b[39;49m: value})[\u001b[39m\"\u001b[39m\u001b[39mvalue\u001b[39m\u001b[39m\"\u001b[39m]\n",
      "File \u001b[1;32mc:\\Users\\YONSAI\\anaconda3\\lib\\site-packages\\selenium\\webdriver\\remote\\webdriver.py:440\u001b[0m, in \u001b[0;36mWebDriver.execute\u001b[1;34m(self, driver_command, params)\u001b[0m\n\u001b[0;32m    438\u001b[0m response \u001b[39m=\u001b[39m \u001b[39mself\u001b[39m\u001b[39m.\u001b[39mcommand_executor\u001b[39m.\u001b[39mexecute(driver_command, params)\n\u001b[0;32m    439\u001b[0m \u001b[39mif\u001b[39;00m response:\n\u001b[1;32m--> 440\u001b[0m     \u001b[39mself\u001b[39;49m\u001b[39m.\u001b[39;49merror_handler\u001b[39m.\u001b[39;49mcheck_response(response)\n\u001b[0;32m    441\u001b[0m     response[\u001b[39m\"\u001b[39m\u001b[39mvalue\u001b[39m\u001b[39m\"\u001b[39m] \u001b[39m=\u001b[39m \u001b[39mself\u001b[39m\u001b[39m.\u001b[39m_unwrap_value(response\u001b[39m.\u001b[39mget(\u001b[39m\"\u001b[39m\u001b[39mvalue\u001b[39m\u001b[39m\"\u001b[39m, \u001b[39mNone\u001b[39;00m))\n\u001b[0;32m    442\u001b[0m     \u001b[39mreturn\u001b[39;00m response\n",
      "File \u001b[1;32mc:\\Users\\YONSAI\\anaconda3\\lib\\site-packages\\selenium\\webdriver\\remote\\errorhandler.py:245\u001b[0m, in \u001b[0;36mErrorHandler.check_response\u001b[1;34m(self, response)\u001b[0m\n\u001b[0;32m    243\u001b[0m         alert_text \u001b[39m=\u001b[39m value[\u001b[39m\"\u001b[39m\u001b[39malert\u001b[39m\u001b[39m\"\u001b[39m]\u001b[39m.\u001b[39mget(\u001b[39m\"\u001b[39m\u001b[39mtext\u001b[39m\u001b[39m\"\u001b[39m)\n\u001b[0;32m    244\u001b[0m     \u001b[39mraise\u001b[39;00m exception_class(message, screen, stacktrace, alert_text)  \u001b[39m# type: ignore[call-arg]  # mypy is not smart enough here\u001b[39;00m\n\u001b[1;32m--> 245\u001b[0m \u001b[39mraise\u001b[39;00m exception_class(message, screen, stacktrace)\n",
      "\u001b[1;31mNoSuchWindowException\u001b[0m: Message: no such window: target window already closed\nfrom unknown error: web view not found\n  (Session info: chrome=112.0.5615.138)\nStacktrace:\nBacktrace:\n\tGetHandleVerifier [0x006DDCE3+50899]\n\t(No symbol) [0x0066E111]\n\t(No symbol) [0x00575588]\n\t(No symbol) [0x0055D333]\n\t(No symbol) [0x005BF4DB]\n\t(No symbol) [0x005CDB33]\n\t(No symbol) [0x005BB6F6]\n\t(No symbol) [0x00597708]\n\t(No symbol) [0x0059886D]\n\tGetHandleVerifier [0x00943EAE+2566302]\n\tGetHandleVerifier [0x009792B1+2784417]\n\tGetHandleVerifier [0x0097327C+2759788]\n\tGetHandleVerifier [0x00775740+672048]\n\t(No symbol) [0x00678872]\n\t(No symbol) [0x006741C8]\n\t(No symbol) [0x006742AB]\n\t(No symbol) [0x006671B7]\n\tBaseThreadInitThunk [0x76500099+25]\n\tRtlGetAppContainerNamedObjectPath [0x774D7B6E+286]\n\tRtlGetAppContainerNamedObjectPath [0x774D7B3E+238]\n"
     ]
    }
   ],
   "source": [
    "my_list = []\n",
    "for page in range(1,11):\n",
    "    page=f'https://kin.naver.com/search/list.naver?query=%EC%96%B4%EB%B2%84%EC%9D%B4%EB%82%A0%EC%84%A0%EB%AC%BC&page={page}'\n",
    "    soup =BeautifulSoup(driver.page_source,'html.parser')\n",
    "    uls = soup.select('.basic1 > li')\n",
    "    for ul in uls:\n",
    "        name = ul.select_one('dt').get_text().strip()\n",
    "        driver.find_element(By.XPATH,'//*[@id=\"s_content\"]/div[3]/ul/li[1]/dl/dt/a').click()\n",
    "        time.sleep(2)\n",
    "        title = driver.find_element(By.XPATH,'//*[@id=\"wrap\"]').text\n",
    "        my_list.append({'제목':name,'내용':'title'})\n"
   ]
  },
  {
   "cell_type": "code",
   "execution_count": null,
   "metadata": {},
   "outputs": [],
   "source": []
  }
 ],
 "metadata": {
  "kernelspec": {
   "display_name": "base",
   "language": "python",
   "name": "python3"
  },
  "language_info": {
   "codemirror_mode": {
    "name": "ipython",
    "version": 3
   },
   "file_extension": ".py",
   "mimetype": "text/x-python",
   "name": "python",
   "nbconvert_exporter": "python",
   "pygments_lexer": "ipython3",
   "version": "3.10.10"
  },
  "orig_nbformat": 4
 },
 "nbformat": 4,
 "nbformat_minor": 2
}
