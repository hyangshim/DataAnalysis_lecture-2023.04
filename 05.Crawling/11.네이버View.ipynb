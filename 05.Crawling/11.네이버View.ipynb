{
 "cells": [
  {
   "attachments": {},
   "cell_type": "markdown",
   "metadata": {},
   "source": [
    "#### 네이버 검색 결과 크롤링 - 수원 맛집"
   ]
  },
  {
   "cell_type": "code",
   "execution_count": 12,
   "metadata": {},
   "outputs": [],
   "source": [
    "import requests\n",
    "from bs4 import BeautifulSoup\n",
    "from urllib.parse import quote\n",
    "import pandas as pd"
   ]
  },
  {
   "attachments": {},
   "cell_type": "markdown",
   "metadata": {},
   "source": [
    "- requests.get()으로 데이터를 가자져 온경우"
   ]
  },
  {
   "cell_type": "code",
   "execution_count": 13,
   "metadata": {},
   "outputs": [],
   "source": [
    "url = 'https://search.naver.com/search.naver?where=view&sm=tab_jum&query='+quote('수원맛집')\n",
    "res =requests.get(url)\n",
    "soup =BeautifulSoup(res.text)"
   ]
  },
  {
   "cell_type": "code",
   "execution_count": 14,
   "metadata": {},
   "outputs": [
    {
     "data": {
      "text/plain": [
       "30"
      ]
     },
     "execution_count": 14,
     "metadata": {},
     "output_type": "execute_result"
    }
   ],
   "source": [
    "lis = soup.select('.bx._svp_item')\n",
    "len(lis)"
   ]
  },
  {
   "attachments": {},
   "cell_type": "markdown",
   "metadata": {},
   "source": [
    "- selenium을 이용해서 데이터 가져오기"
   ]
  },
  {
   "cell_type": "code",
   "execution_count": 15,
   "metadata": {},
   "outputs": [],
   "source": [
    "from selenium import webdriver\n",
    "import warnings\n",
    "warnings.filterwarnings('ignore')\n",
    "\n",
    "driver =webdriver.Chrome('file:///C:/Users/YONSAI/Downloads/chromedriver_win32/chromedriver')\n",
    "driver.get(url)"
   ]
  },
  {
   "cell_type": "code",
   "execution_count": 16,
   "metadata": {},
   "outputs": [],
   "source": [
    "# View 페이지를 아래로 내려서 많은 데이터 확보\n",
    "from selenium.webdriver.common.by import By\n",
    "from selenium.webdriver.common.keys import Keys \n",
    "import time\n",
    "\n",
    "body = driver.find_element(By.TAG_NAME, 'body')\n",
    "for _ in range(30):\n",
    "    body.send_keys(Keys.PAGE_DOWN)\n",
    "    time.sleep(1)\n"
   ]
  },
  {
   "cell_type": "code",
   "execution_count": 17,
   "metadata": {},
   "outputs": [
    {
     "data": {
      "text/plain": [
       "30"
      ]
     },
     "execution_count": 17,
     "metadata": {},
     "output_type": "execute_result"
    }
   ],
   "source": [
    "soup =BeautifulSoup(driver.page_source)\n",
    "lis =soup.select('.bx._svp_item')\n",
    "len(lis)"
   ]
  },
  {
   "cell_type": "code",
   "execution_count": 18,
   "metadata": {},
   "outputs": [],
   "source": [
    "driver.close()"
   ]
  },
  {
   "attachments": {},
   "cell_type": "markdown",
   "metadata": {},
   "source": [
    "- 날짜 ,제목,내용 크롤링"
   ]
  },
  {
   "cell_type": "code",
   "execution_count": 19,
   "metadata": {},
   "outputs": [
    {
     "data": {
      "text/plain": [
       "'2023.04.05.'"
      ]
     },
     "execution_count": 19,
     "metadata": {},
     "output_type": "execute_result"
    }
   ],
   "source": [
    "li =lis[0]\n",
    "date=li.select_one('.sub_time.sub_txt').get_text().strip()\n",
    "date"
   ]
  },
  {
   "cell_type": "code",
   "execution_count": 27,
   "metadata": {},
   "outputs": [
    {
     "data": {
      "text/plain": [
       "'일품이던 수원맛집베스트10'"
      ]
     },
     "execution_count": 27,
     "metadata": {},
     "output_type": "execute_result"
    }
   ],
   "source": [
    "title = li.select_one('.api_txt_lines.total_tit._cross_trigger').get_text().strip()\n",
    "title"
   ]
  },
  {
   "cell_type": "code",
   "execution_count": 32,
   "metadata": {},
   "outputs": [
    {
     "data": {
      "text/plain": [
       "'하러 수원맛집베스트10에 속한다는 갈비집을 다녀왔어요. 동네 주민들 뿐만 아니라 멀리서도 많은 사람들이 찾아가는 곳이라는데 소문대로 고퀄리티의 식사를 즐길 수 있던 곳이었어요. 고반가든 서수원점 주소 : 경기...'"
      ]
     },
     "execution_count": 32,
     "metadata": {},
     "output_type": "execute_result"
    }
   ],
   "source": [
    "content = li.select_one('.api_txt_lines.dsc_txt').get_text().strip()\n",
    "content[:200]"
   ]
  },
  {
   "attachments": {},
   "cell_type": "markdown",
   "metadata": {},
   "source": [
    "- 날짜 처리"
   ]
  },
  {
   "cell_type": "code",
   "execution_count": 23,
   "metadata": {},
   "outputs": [
    {
     "data": {
      "text/plain": [
       "datetime.datetime(2023, 4, 25, 12, 12, 2, 942162)"
      ]
     },
     "execution_count": 23,
     "metadata": {},
     "output_type": "execute_result"
    }
   ],
   "source": [
    "from datetime import datetime,timedelta\n",
    "\n",
    "today = datetime.now()\n",
    "today"
   ]
  },
  {
   "cell_type": "code",
   "execution_count": 26,
   "metadata": {},
   "outputs": [
    {
     "data": {
      "text/plain": [
       "'2023.4.24'"
      ]
     },
     "execution_count": 26,
     "metadata": {},
     "output_type": "execute_result"
    }
   ],
   "source": [
    "# 어제\n",
    "date=today -timedelta(1)\n",
    "f'{date.year}.{date.month:02d}.{date.day}'"
   ]
  },
  {
   "cell_type": "code",
   "execution_count": 29,
   "metadata": {},
   "outputs": [
    {
     "data": {
      "text/plain": [
       "'2023.4.23'"
      ]
     },
     "execution_count": 29,
     "metadata": {},
     "output_type": "execute_result"
    }
   ],
   "source": [
    "#2일전\n",
    "date=today -timedelta(2)\n",
    "f'{date.year}.{date.month:02d}.{date.day}'"
   ]
  },
  {
   "cell_type": "code",
   "execution_count": 33,
   "metadata": {},
   "outputs": [
    {
     "data": {
      "text/plain": [
       "'2023.04.24'"
      ]
     },
     "execution_count": 33,
     "metadata": {},
     "output_type": "execute_result"
    }
   ],
   "source": [
    "# 23시간전\n",
    "date = today - timedelta(hours=23)\n",
    "date.strftime('%Y.%m.%d')"
   ]
  },
  {
   "cell_type": "code",
   "execution_count": 34,
   "metadata": {},
   "outputs": [
    {
     "data": {
      "text/plain": [
       "'2023.04.25'"
      ]
     },
     "execution_count": 34,
     "metadata": {},
     "output_type": "execute_result"
    }
   ],
   "source": [
    "#45분전\n",
    "date = today - timedelta(minutes=45)\n",
    "date.strftime('%Y.%m.%d')"
   ]
  },
  {
   "cell_type": "code",
   "execution_count": 38,
   "metadata": {},
   "outputs": [],
   "source": [
    "def conver_date(s):\n",
    "    if len(s) == 11:    # '2023.04.25.' 10글자\n",
    "        return s[:-1]\n",
    "    today = datetime.now()\n",
    "    if '어제' in s:\n",
    "        date = today - timedelta(1)\n",
    "    elif '일' in s:\n",
    "        date = today - timedelta(int(s[0]))\n",
    "    elif '시간' in s:\n",
    "        date =  today - timedelta(hours=int(s[:-4]))\n",
    "    elif '분' in s:\n",
    "        date =  today - timedelta(minutes=int(s[:-3])) \n",
    "\n",
    "    return date.strftime('%Y.%m.%d')\n"
   ]
  },
  {
   "attachments": {},
   "cell_type": "markdown",
   "metadata": {},
   "source": [
    "- 데이터 프레임 만들기\n"
   ]
  },
  {
   "cell_type": "code",
   "execution_count": 39,
   "metadata": {},
   "outputs": [],
   "source": [
    "lines = []\n",
    "for li in lis:\n",
    "    date=li.select_one('.sub_time.sub_txt').get_text().strip()\n",
    "    date = conver_date(date)\n",
    "    title = li.select_one('.api_txt_lines.total_tit._cross_trigger').get_text().strip()\n",
    "    content = li.select_one('.api_txt_lines.dsc_txt').get_text().strip()\n",
    "    lines.append({'날짜':date,'제목':title,'내용':content})"
   ]
  },
  {
   "cell_type": "code",
   "execution_count": 40,
   "metadata": {},
   "outputs": [
    {
     "data": {
      "text/html": [
       "<div>\n",
       "<style scoped>\n",
       "    .dataframe tbody tr th:only-of-type {\n",
       "        vertical-align: middle;\n",
       "    }\n",
       "\n",
       "    .dataframe tbody tr th {\n",
       "        vertical-align: top;\n",
       "    }\n",
       "\n",
       "    .dataframe thead th {\n",
       "        text-align: right;\n",
       "    }\n",
       "</style>\n",
       "<table border=\"1\" class=\"dataframe\">\n",
       "  <thead>\n",
       "    <tr style=\"text-align: right;\">\n",
       "      <th></th>\n",
       "      <th>날짜</th>\n",
       "      <th>제목</th>\n",
       "      <th>내용</th>\n",
       "    </tr>\n",
       "  </thead>\n",
       "  <tbody>\n",
       "    <tr>\n",
       "      <th>25</th>\n",
       "      <td>2023.04.21</td>\n",
       "      <td>수원 맛집 우세 신기한 메뉴가 가득한 분위기 좋은 영통 술집</td>\n",
       "      <td>곳이 수원에 생기고여 말았네요. 이미 시작부터 맛집 등극할 것만 같은 그런 느낌이라...</td>\n",
       "    </tr>\n",
       "    <tr>\n",
       "      <th>26</th>\n",
       "      <td>2023.04.10</td>\n",
       "      <td>수원맛집 인계동맛집/ 24시간 영업하는 매력있는 평양냉면집, \"평장원\"</td>\n",
       "      <td>내 나이 OO세가 되었는데, 감정적 기복은 여전하다. 이제야 깨닫는 진리는...나이...</td>\n",
       "    </tr>\n",
       "    <tr>\n",
       "      <th>27</th>\n",
       "      <td>2023.04.16</td>\n",
       "      <td>동탄 수원 맛집 [우판등심] 숙성한우등심 가성비맛집</td>\n",
       "      <td>하루되세요 #내돈내산 #내돈내먹 #동탄한우 #동탄소고기 #수원한우 #수원소고기 #매...</td>\n",
       "    </tr>\n",
       "    <tr>\n",
       "      <th>28</th>\n",
       "      <td>2023.04.03</td>\n",
       "      <td>수원 맛집 행궁동 맛집 백스트리트 피자, 피맥맛집 행궁동 술집으로 추천</td>\n",
       "      <td>수원맛집 #행궁동맛집 #백스트리트피자 #포테이토피자 #행궁동피맥맛집 #행궁동피자 #...</td>\n",
       "    </tr>\n",
       "    <tr>\n",
       "      <th>29</th>\n",
       "      <td>2023.04.03</td>\n",
       "      <td>영통구청 맛집 수원뭉티기 반해버린 뭉티기한판 수원 맛집</td>\n",
       "      <td>다음엔 나도 전통주 도전!! 수원 뭉티기 월~토 16:00 ~ 익일 01:00 일요...</td>\n",
       "    </tr>\n",
       "  </tbody>\n",
       "</table>\n",
       "</div>"
      ],
      "text/plain": [
       "            날짜                                       제목   \n",
       "25  2023.04.21        수원 맛집 우세 신기한 메뉴가 가득한 분위기 좋은 영통 술집  \\\n",
       "26  2023.04.10  수원맛집 인계동맛집/ 24시간 영업하는 매력있는 평양냉면집, \"평장원\"   \n",
       "27  2023.04.16             동탄 수원 맛집 [우판등심] 숙성한우등심 가성비맛집   \n",
       "28  2023.04.03  수원 맛집 행궁동 맛집 백스트리트 피자, 피맥맛집 행궁동 술집으로 추천   \n",
       "29  2023.04.03           영통구청 맛집 수원뭉티기 반해버린 뭉티기한판 수원 맛집   \n",
       "\n",
       "                                                   내용  \n",
       "25  곳이 수원에 생기고여 말았네요. 이미 시작부터 맛집 등극할 것만 같은 그런 느낌이라...  \n",
       "26  내 나이 OO세가 되었는데, 감정적 기복은 여전하다. 이제야 깨닫는 진리는...나이...  \n",
       "27  하루되세요 #내돈내산 #내돈내먹 #동탄한우 #동탄소고기 #수원한우 #수원소고기 #매...  \n",
       "28  수원맛집 #행궁동맛집 #백스트리트피자 #포테이토피자 #행궁동피맥맛집 #행궁동피자 #...  \n",
       "29  다음엔 나도 전통주 도전!! 수원 뭉티기 월~토 16:00 ~ 익일 01:00 일요...  "
      ]
     },
     "execution_count": 40,
     "metadata": {},
     "output_type": "execute_result"
    }
   ],
   "source": [
    "df=pd.DataFrame(lines)\n",
    "df.tail()"
   ]
  },
  {
   "cell_type": "code",
   "execution_count": null,
   "metadata": {},
   "outputs": [],
   "source": []
  }
 ],
 "metadata": {
  "kernelspec": {
   "display_name": "base",
   "language": "python",
   "name": "python3"
  },
  "language_info": {
   "codemirror_mode": {
    "name": "ipython",
    "version": 3
   },
   "file_extension": ".py",
   "mimetype": "text/x-python",
   "name": "python",
   "nbconvert_exporter": "python",
   "pygments_lexer": "ipython3",
   "version": "3.10.10"
  },
  "orig_nbformat": 4
 },
 "nbformat": 4,
 "nbformat_minor": 2
}
