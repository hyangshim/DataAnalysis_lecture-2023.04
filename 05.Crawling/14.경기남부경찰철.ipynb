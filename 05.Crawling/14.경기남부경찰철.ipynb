{
 "cells": [
  {
   "cell_type": "code",
   "execution_count": 32,
   "metadata": {},
   "outputs": [],
   "source": [
    "import requests\n",
    "from bs4 import BeautifulSoup\n",
    "from urllib.parse import quote\n",
    "import pandas as pd\n",
    "from selenium import webdriver\n",
    "import warnings\n",
    "import json, folium, warnings\n",
    "warnings.filterwarnings('ignore')"
   ]
  },
  {
   "cell_type": "code",
   "execution_count": 33,
   "metadata": {},
   "outputs": [],
   "source": [
    "base_url = 'https://www.ggpolice.go.kr'\n",
    "main_url = '/main/html.do?menu=HC44'\n",
    "url = f'{base_url}{main_url}'\n",
    "result = requests.get(url)\n",
    "soup = BeautifulSoup(result.text)\n",
    "driver =webdriver.Chrome('file:///C:/Users/YONSAI/Downloads/chromedriver_win32/chromedriver')\n",
    "driver.get(url)"
   ]
  },
  {
   "cell_type": "code",
   "execution_count": 34,
   "metadata": {},
   "outputs": [
    {
     "data": {
      "text/plain": [
       "31"
      ]
     },
     "execution_count": 34,
     "metadata": {},
     "output_type": "execute_result"
    }
   ],
   "source": [
    "soup =BeautifulSoup(driver.page_source)\n",
    "lis =soup.select('.road')\n",
    "len(lis)"
   ]
  },
  {
   "attachments": {},
   "cell_type": "markdown",
   "metadata": {},
   "source": [
    "##### 3. 하나의 데이터로 원하는 정보 추출"
   ]
  },
  {
   "cell_type": "code",
   "execution_count": 35,
   "metadata": {},
   "outputs": [
    {
     "data": {
      "text/plain": [
       "'https://www.ggpolice.go.kr/swjb/html.do?menu=HC24'"
      ]
     },
     "execution_count": 35,
     "metadata": {},
     "output_type": "execute_result"
    }
   ],
   "source": [
    "li =lis[0]\n",
    "sub_url = li.select_one('li > a')['href']\n",
    "sub_url"
   ]
  },
  {
   "cell_type": "code",
   "execution_count": 36,
   "metadata": {},
   "outputs": [],
   "source": [
    "res =requests.get(sub_url)\n",
    "title_soup = BeautifulSoup(res.text)"
   ]
  },
  {
   "cell_type": "code",
   "execution_count": 37,
   "metadata": {},
   "outputs": [
    {
     "data": {
      "text/plain": [
       "[<li>기관명 : 수원중부경찰서</li>,\n",
       " <li>도로명 주소 : 경기도 수원시 장안구 정자천로 199 (우)16335</li>,\n",
       " <li>대표전화 : 경찰민원 콜센터 182</li>]"
      ]
     },
     "execution_count": 37,
     "metadata": {},
     "output_type": "execute_result"
    }
   ],
   "source": [
    "info =title_soup.select_one('.basic_list7')\n",
    "title_b =info.find_all('li')\n",
    "title_b"
   ]
  },
  {
   "cell_type": "code",
   "execution_count": 38,
   "metadata": {},
   "outputs": [
    {
     "name": "stdout",
     "output_type": "stream",
     "text": [
      "기관명 : 수원중부경찰서\n",
      "도로명 주소 : 경기도 수원시 장안구 정자천로 199 (우)16335\n",
      "대표전화 : 경찰민원 콜센터 182\n"
     ]
    }
   ],
   "source": [
    "police = info.select('.basic_list7 > li')\n",
    "for li in police:\n",
    "    print(li.get_text())"
   ]
  },
  {
   "cell_type": "code",
   "execution_count": 39,
   "metadata": {},
   "outputs": [
    {
     "data": {
      "text/plain": [
       "{'기관명': '수원중부경찰서',\n",
       " '도로명 주소': '경기도 수원시 장안구 정자천로 199 (우)16335',\n",
       " '대표전화': '경찰민원 콜센터 182'}"
      ]
     },
     "execution_count": 39,
     "metadata": {},
     "output_type": "execute_result"
    }
   ],
   "source": [
    "police_dict ={}\n",
    "for li in police:\n",
    "    item =li.get_text().split(':')\n",
    "    police_dict[item[0].strip()] =item[1].strip()\n",
    "police_dict"
   ]
  },
  {
   "cell_type": "code",
   "execution_count": 40,
   "metadata": {},
   "outputs": [
    {
     "data": {
      "text/plain": [
       "'수원중부경찰서'"
      ]
     },
     "execution_count": 40,
     "metadata": {},
     "output_type": "execute_result"
    }
   ],
   "source": [
    "name =', '.join( police_dict['기관명'].split(' , '))\n",
    "name"
   ]
  },
  {
   "cell_type": "code",
   "execution_count": 41,
   "metadata": {},
   "outputs": [
    {
     "data": {
      "text/plain": [
       "'경기도 수원시 장안구 정자천로 199 (우)16335'"
      ]
     },
     "execution_count": 41,
     "metadata": {},
     "output_type": "execute_result"
    }
   ],
   "source": [
    "address =', '.join( police_dict['도로명 주소'].split(' , '))\n",
    "address"
   ]
  },
  {
   "cell_type": "code",
   "execution_count": 42,
   "metadata": {},
   "outputs": [],
   "source": [
    "# call =', '.join( police_dict['대표전화'].split(' , '))\n",
    "# call"
   ]
  },
  {
   "cell_type": "code",
   "execution_count": 43,
   "metadata": {},
   "outputs": [],
   "source": [
    "lines =[]\n",
    "for li in lis:\n",
    "  \n",
    "    sub_url = li.select_one('li > a')['href']\n",
    "    res =requests.get(sub_url)\n",
    "    try:\n",
    "        title_soup = BeautifulSoup(res.text)\n",
    "        info =title_soup.select_one('.basic_list7')\n",
    "        title_b =info.find_all('li')\n",
    "        police = info.select('.basic_list7 > li')\n",
    "        for li in police:\n",
    "                item =li.get_text().split(':')\n",
    "                \n",
    "                police_dict[item[0].strip()] =item[1].strip()\n",
    "\n",
    "        name =( police_dict['기관명'])\n",
    "        address =( police_dict['도로명 주소']).split('(')[0].strip()\n",
    "        lines.append({'기관명':name,'주소':address})\n",
    "    except:\n",
    "        continue"
   ]
  },
  {
   "cell_type": "code",
   "execution_count": 44,
   "metadata": {},
   "outputs": [
    {
     "data": {
      "text/html": [
       "<div>\n",
       "<style scoped>\n",
       "    .dataframe tbody tr th:only-of-type {\n",
       "        vertical-align: middle;\n",
       "    }\n",
       "\n",
       "    .dataframe tbody tr th {\n",
       "        vertical-align: top;\n",
       "    }\n",
       "\n",
       "    .dataframe thead th {\n",
       "        text-align: right;\n",
       "    }\n",
       "</style>\n",
       "<table border=\"1\" class=\"dataframe\">\n",
       "  <thead>\n",
       "    <tr style=\"text-align: right;\">\n",
       "      <th></th>\n",
       "      <th>기관명</th>\n",
       "      <th>주소</th>\n",
       "    </tr>\n",
       "  </thead>\n",
       "  <tbody>\n",
       "    <tr>\n",
       "      <th>0</th>\n",
       "      <td>수원중부경찰서</td>\n",
       "      <td>경기도 수원시 장안구 정자천로 199</td>\n",
       "    </tr>\n",
       "    <tr>\n",
       "      <th>1</th>\n",
       "      <td>수원남부경찰서</td>\n",
       "      <td>경기 수원시 영통구 매봉로 52</td>\n",
       "    </tr>\n",
       "    <tr>\n",
       "      <th>2</th>\n",
       "      <td>수원서부경찰서</td>\n",
       "      <td>경기 수원시 권선구 서부로 1673</td>\n",
       "    </tr>\n",
       "    <tr>\n",
       "      <th>3</th>\n",
       "      <td>안양동안경찰서</td>\n",
       "      <td>경기도 안양시 동안구 동안로159번길 43</td>\n",
       "    </tr>\n",
       "    <tr>\n",
       "      <th>4</th>\n",
       "      <td>안양만안경찰서</td>\n",
       "      <td>경기도 안양시 만안구 냉천로 63</td>\n",
       "    </tr>\n",
       "  </tbody>\n",
       "</table>\n",
       "</div>"
      ],
      "text/plain": [
       "       기관명                       주소\n",
       "0  수원중부경찰서     경기도 수원시 장안구 정자천로 199\n",
       "1  수원남부경찰서        경기 수원시 영통구 매봉로 52\n",
       "2  수원서부경찰서      경기 수원시 권선구 서부로 1673\n",
       "3  안양동안경찰서  경기도 안양시 동안구 동안로159번길 43\n",
       "4  안양만안경찰서       경기도 안양시 만안구 냉천로 63"
      ]
     },
     "execution_count": 44,
     "metadata": {},
     "output_type": "execute_result"
    }
   ],
   "source": [
    "df=pd.DataFrame(lines)\n",
    "df.head()"
   ]
  },
  {
   "cell_type": "code",
   "execution_count": 45,
   "metadata": {},
   "outputs": [],
   "source": [
    "df.to_csv('data/경기도 경찰서.csv',index=False)\n"
   ]
  },
  {
   "cell_type": "code",
   "execution_count": 46,
   "metadata": {},
   "outputs": [
    {
     "data": {
      "text/plain": [
       "{'documents': [{'address': {'address_name': '경기 수원시 장안구 정자동 873-4',\n",
       "    'b_code': '4111113000',\n",
       "    'h_code': '4111157300',\n",
       "    'main_address_no': '873',\n",
       "    'mountain_yn': 'N',\n",
       "    'region_1depth_name': '경기',\n",
       "    'region_2depth_name': '수원시 장안구',\n",
       "    'region_3depth_h_name': '정자3동',\n",
       "    'region_3depth_name': '정자동',\n",
       "    'sub_address_no': '4',\n",
       "    'x': '126.99631718583',\n",
       "    'y': '37.2979319496338'},\n",
       "   'address_name': '경기 수원시 장안구 정자천로 199',\n",
       "   'address_type': 'ROAD_ADDR',\n",
       "   'road_address': {'address_name': '경기 수원시 장안구 정자천로 199',\n",
       "    'building_name': '수원중부경찰서',\n",
       "    'main_building_no': '199',\n",
       "    'region_1depth_name': '경기',\n",
       "    'region_2depth_name': '수원시 장안구',\n",
       "    'region_3depth_name': '정자동',\n",
       "    'road_name': '정자천로',\n",
       "    'sub_building_no': '',\n",
       "    'underground_yn': 'N',\n",
       "    'x': '126.99631718583',\n",
       "    'y': '37.2979319496338',\n",
       "    'zone_no': '16335'},\n",
       "   'x': '126.99631718583',\n",
       "   'y': '37.2979319496338'}],\n",
       " 'meta': {'is_end': True, 'pageable_count': 1, 'total_count': 1}}"
      ]
     },
     "execution_count": 46,
     "metadata": {},
     "output_type": "execute_result"
    }
   ],
   "source": [
    "with open('../04. 지도시각화/data/kakaoapikey.txt') as f:\n",
    "    kakao_key =f.read()\n",
    "base_url ='https://dapi.kakao.com/v2/local/search/address.json'\n",
    "addr ='경기도 수원시 장안구 정자천로 199'                #샘플\n",
    "url = f'{base_url}?query={quote(addr)}'\n",
    "header = {'Authorization':f'KakaoAK {kakao_key}'}\n",
    "result = requests.get(url, headers=header).json()\n",
    "result"
   ]
  },
  {
   "cell_type": "code",
   "execution_count": 47,
   "metadata": {},
   "outputs": [
    {
     "data": {
      "text/plain": [
       "dict_keys(['address', 'address_name', 'address_type', 'road_address', 'x', 'y'])"
      ]
     },
     "execution_count": 47,
     "metadata": {},
     "output_type": "execute_result"
    }
   ],
   "source": [
    "result['documents'][0].keys()"
   ]
  },
  {
   "cell_type": "code",
   "execution_count": 48,
   "metadata": {},
   "outputs": [
    {
     "data": {
      "text/plain": [
       "(37.2979319496338, 126.99631718583)"
      ]
     },
     "execution_count": 48,
     "metadata": {},
     "output_type": "execute_result"
    }
   ],
   "source": [
    "lat = float(result['documents'][0]['y'])\n",
    "lng = float(result['documents'][0]['x'])\n",
    "lat,lng"
   ]
  },
  {
   "cell_type": "code",
   "execution_count": 50,
   "metadata": {},
   "outputs": [],
   "source": [
    "lat_list,lng_list =[],[]\n",
    "for i in df.index:\n",
    "    url = f'{base_url}?query={quote(df.주소[i])}'\n",
    "    result = requests.get(url, headers=header).json()\n",
    "    lat_list.append(float(result['documents'][0]['y']))\n",
    "    lng_list.append(float(result['documents'][0]['x']))"
   ]
  },
  {
   "cell_type": "code",
   "execution_count": 3,
   "metadata": {},
   "outputs": [
    {
     "ename": "NameError",
     "evalue": "name 'lat_list' is not defined",
     "output_type": "error",
     "traceback": [
      "\u001b[1;31m---------------------------------------------------------------------------\u001b[0m",
      "\u001b[1;31mNameError\u001b[0m                                 Traceback (most recent call last)",
      "Cell \u001b[1;32mIn[3], line 1\u001b[0m\n\u001b[1;32m----> 1\u001b[0m df[\u001b[39m'\u001b[39m\u001b[39m위도\u001b[39m\u001b[39m'\u001b[39m] \u001b[39m=\u001b[39m lat_list\n\u001b[0;32m      2\u001b[0m df[\u001b[39m'\u001b[39m\u001b[39m경도\u001b[39m\u001b[39m'\u001b[39m] \u001b[39m=\u001b[39m lng_list\n\u001b[0;32m      3\u001b[0m df\u001b[39m.\u001b[39mhead()\n",
      "\u001b[1;31mNameError\u001b[0m: name 'lat_list' is not defined"
     ]
    }
   ],
   "source": [
    "df['위도'] = lat_list\n",
    "df['경도'] = lng_list\n",
    "df"
   ]
  },
  {
   "cell_type": "code",
   "execution_count": 4,
   "metadata": {},
   "outputs": [
    {
     "ename": "NameError",
     "evalue": "name 'folium' is not defined",
     "output_type": "error",
     "traceback": [
      "\u001b[1;31m---------------------------------------------------------------------------\u001b[0m",
      "\u001b[1;31mNameError\u001b[0m                                 Traceback (most recent call last)",
      "Cell \u001b[1;32mIn[4], line 1\u001b[0m\n\u001b[1;32m----> 1\u001b[0m \u001b[39mmap\u001b[39m \u001b[39m=\u001b[39m folium\u001b[39m.\u001b[39mMap(location\u001b[39m=\u001b[39m[df\u001b[39m.\u001b[39m위도\u001b[39m.\u001b[39mmean(),df\u001b[39m.\u001b[39m경도\u001b[39m.\u001b[39mmean()], zoom_start\u001b[39m=\u001b[39m\u001b[39m12\u001b[39m)\n\u001b[0;32m      2\u001b[0m \u001b[39mfor\u001b[39;00m i \u001b[39min\u001b[39;00m df\u001b[39m.\u001b[39mindex:\n\u001b[0;32m      3\u001b[0m     folium\u001b[39m.\u001b[39mMarker(\n\u001b[0;32m      4\u001b[0m         location\u001b[39m=\u001b[39m[df\u001b[39m.\u001b[39m위도[i],df\u001b[39m.\u001b[39m경도[i]],\n\u001b[0;32m      5\u001b[0m         popup\u001b[39m=\u001b[39mfolium\u001b[39m.\u001b[39mPopup(df\u001b[39m.\u001b[39m주소[i],max_width\u001b[39m=\u001b[39m\u001b[39m200\u001b[39m),\n\u001b[1;32m   (...)\u001b[0m\n\u001b[0;32m     11\u001b[0m     )\n\u001b[0;32m     12\u001b[0m     )\u001b[39m.\u001b[39madd_to(\u001b[39mmap\u001b[39m)\n",
      "\u001b[1;31mNameError\u001b[0m: name 'folium' is not defined"
     ]
    }
   ],
   "source": [
    "map = folium.Map(location=[df.위도.mean(),df.경도.mean()], zoom_start=12)\n",
    "for i in df.index:\n",
    "    folium.Marker(\n",
    "        location=[df.위도[i],df.경도[i]],\n",
    "        popup=folium.Popup(df.주소[i],max_width=200),\n",
    "        tooltip=df.기관명[i],\n",
    "        icon=folium.Icon(\n",
    "        color ='purple',icon_color='white',\n",
    "        icon='glyphicon glyphicon-pushpin', #glyphicon 아이콘 제공 사이트\n",
    "        prefix='glyphicon'\n",
    "    )\n",
    "    ).add_to(map)\n",
    "title_html ='<h3 align=\"center\" style =\"font-size:20px\">수원 소재 주요 대학</h3>'\n",
    "map.get_root().html.add_child(folium.Element(title_html))\n",
    "map"
   ]
  },
  {
   "cell_type": "code",
   "execution_count": null,
   "metadata": {},
   "outputs": [],
   "source": []
  }
 ],
 "metadata": {
  "kernelspec": {
   "display_name": "base",
   "language": "python",
   "name": "python3"
  },
  "language_info": {
   "codemirror_mode": {
    "name": "ipython",
    "version": 3
   },
   "file_extension": ".py",
   "mimetype": "text/x-python",
   "name": "python",
   "nbconvert_exporter": "python",
   "pygments_lexer": "ipython3",
   "version": "3.10.10"
  },
  "orig_nbformat": 4
 },
 "nbformat": 4,
 "nbformat_minor": 2
}
