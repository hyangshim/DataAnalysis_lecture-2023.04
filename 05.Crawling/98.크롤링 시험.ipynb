{
 "cells": [
  {
   "cell_type": "code",
   "execution_count": 1,
   "metadata": {},
   "outputs": [],
   "source": [
    "import requests\n",
    "from bs4 import BeautifulSoup\n",
    "from urllib.parse import quote\n",
    "import pandas as pd\n",
    "#1. 순위, 제목, 아티스트, 앨범, 이미지"
   ]
  },
  {
   "cell_type": "code",
   "execution_count": 2,
   "metadata": {},
   "outputs": [
    {
     "name": "stdout",
     "output_type": "stream",
     "text": [
      "re_code 200\n"
     ]
    }
   ],
   "source": [
    "url = \"https://www.melon.com/chart/index.htm\"\n",
    "header = {'User-Agent': 'Mozilla/5.0 (Windows NT 10.0; Win64; x64) AppleWebKit/537.36 (KHTML, like Gecko) Chrome/112.0.0.0 Safari/537.36'}\n",
    "\n",
    "result = requests.get(url, headers=header)\n",
    "print('re_code', result.status_code)\n",
    "soup = BeautifulSoup(result.text)"
   ]
  },
  {
   "cell_type": "code",
   "execution_count": 9,
   "metadata": {},
   "outputs": [
    {
     "data": {
      "text/plain": [
       "100"
      ]
     },
     "execution_count": 9,
     "metadata": {},
     "output_type": "execute_result"
    }
   ],
   "source": [
    "#원하는 차트 찾기 tb_list\n",
    "trs = soup.select('tr.lst50,tr.lst100')\n",
    "len(trs)"
   ]
  },
  {
   "cell_type": "code",
   "execution_count": 10,
   "metadata": {},
   "outputs": [],
   "source": [
    "tr =trs[0]"
   ]
  },
  {
   "cell_type": "code",
   "execution_count": 14,
   "metadata": {},
   "outputs": [
    {
     "data": {
      "text/plain": [
       "'1'"
      ]
     },
     "execution_count": 14,
     "metadata": {},
     "output_type": "execute_result"
    }
   ],
   "source": [
    "# rank\n",
    "rank=tr.select_one('.rank').get_text()\n",
    "rank"
   ]
  },
  {
   "cell_type": "code",
   "execution_count": 18,
   "metadata": {},
   "outputs": [
    {
     "data": {
      "text/plain": [
       "'I AM'"
      ]
     },
     "execution_count": 18,
     "metadata": {},
     "output_type": "execute_result"
    }
   ],
   "source": [
    "title =tr.select_one('span> a').get_text().strip()\n",
    "title"
   ]
  },
  {
   "cell_type": "code",
   "execution_count": 20,
   "metadata": {},
   "outputs": [
    {
     "data": {
      "text/plain": [
       "'I AM'"
      ]
     },
     "execution_count": 20,
     "metadata": {},
     "output_type": "execute_result"
    }
   ],
   "source": [
    "title =tr.select_one('span> a').get_text().split('\\n')[-1].strip()"
   ]
  },
  {
   "cell_type": "code",
   "execution_count": 23,
   "metadata": {},
   "outputs": [
    {
     "data": {
      "text/plain": [
       "'IVE (아이브)'"
      ]
     },
     "execution_count": 23,
     "metadata": {},
     "output_type": "execute_result"
    }
   ],
   "source": [
    "# artist\n",
    "arist=tr.select_one('.ellipsis >a').get_text()\n",
    "arist"
   ]
  },
  {
   "cell_type": "code",
   "execution_count": 33,
   "metadata": {},
   "outputs": [
    {
     "data": {
      "text/plain": [
       "\"I've IVE\""
      ]
     },
     "execution_count": 33,
     "metadata": {},
     "output_type": "execute_result"
    }
   ],
   "source": [
    "#album\n",
    "album =tr.select_one('.ellipsis.rank03').get_text().strip()\n",
    "album"
   ]
  },
  {
   "cell_type": "code",
   "execution_count": 15,
   "metadata": {},
   "outputs": [],
   "source": [
    "#img\n",
    "img=tr.select_one('.wrap > img')\n",
    "img"
   ]
  },
  {
   "cell_type": "code",
   "execution_count": 34,
   "metadata": {},
   "outputs": [],
   "source": [
    "lin =[]\n",
    "for tr in trs:\n",
    "    rank=tr.select_one('.rank').get_text()\n",
    "    title =tr.select_one('span> a').get_text().split('\\n')[-1].strip()\n",
    "    arist=tr.select_one('.ellipsis >a').get_text()\n",
    "    album =tr.select_one('.ellipsis.rank03').get_text().strip()\n",
    "    img=tr.select_one('.wrap > img')\n",
    "    lin.append({'순위':rank,'제목':title,'아티스트':arist,'앨범':album,'이미지':img})\n",
    "    \n",
    "    "
   ]
  },
  {
   "cell_type": "code",
   "execution_count": 37,
   "metadata": {},
   "outputs": [
    {
     "data": {
      "text/html": [
       "<div>\n",
       "<style scoped>\n",
       "    .dataframe tbody tr th:only-of-type {\n",
       "        vertical-align: middle;\n",
       "    }\n",
       "\n",
       "    .dataframe tbody tr th {\n",
       "        vertical-align: top;\n",
       "    }\n",
       "\n",
       "    .dataframe thead th {\n",
       "        text-align: right;\n",
       "    }\n",
       "</style>\n",
       "<table border=\"1\" class=\"dataframe\">\n",
       "  <thead>\n",
       "    <tr style=\"text-align: right;\">\n",
       "      <th></th>\n",
       "      <th>순위</th>\n",
       "      <th>제목</th>\n",
       "      <th>아티스트</th>\n",
       "      <th>앨범</th>\n",
       "      <th>이미지</th>\n",
       "    </tr>\n",
       "  </thead>\n",
       "  <tbody>\n",
       "    <tr>\n",
       "      <th>95</th>\n",
       "      <td>96</td>\n",
       "      <td>Salty &amp; Sweet</td>\n",
       "      <td>aespa</td>\n",
       "      <td>MY WORLD - The 3rd Mini Album</td>\n",
       "      <td>None</td>\n",
       "    </tr>\n",
       "    <tr>\n",
       "      <th>96</th>\n",
       "      <td>97</td>\n",
       "      <td>Cookie</td>\n",
       "      <td>NewJeans</td>\n",
       "      <td>NewJeans 1st EP 'New Jeans'</td>\n",
       "      <td>None</td>\n",
       "    </tr>\n",
       "    <tr>\n",
       "      <th>97</th>\n",
       "      <td>98</td>\n",
       "      <td>그중에 그대를 만나</td>\n",
       "      <td>김호중</td>\n",
       "      <td>삼남매가 용감하게 OST Part.1</td>\n",
       "      <td>None</td>\n",
       "    </tr>\n",
       "    <tr>\n",
       "      <th>98</th>\n",
       "      <td>99</td>\n",
       "      <td>Welcome To MY World (Feat. nævis)</td>\n",
       "      <td>aespa</td>\n",
       "      <td>MY WORLD - The 3rd Mini Album</td>\n",
       "      <td>None</td>\n",
       "    </tr>\n",
       "    <tr>\n",
       "      <th>99</th>\n",
       "      <td>100</td>\n",
       "      <td>Dreamers [Music from the FIFA World Cup Qatar ...</td>\n",
       "      <td>정국</td>\n",
       "      <td>Dreamers [Music from the FIFA World Cup Qatar ...</td>\n",
       "      <td>None</td>\n",
       "    </tr>\n",
       "  </tbody>\n",
       "</table>\n",
       "</div>"
      ],
      "text/plain": [
       "     순위                                                 제목      아티스트   \n",
       "95   96                                      Salty & Sweet     aespa  \\\n",
       "96   97                                             Cookie  NewJeans   \n",
       "97   98                                         그중에 그대를 만나       김호중   \n",
       "98   99                  Welcome To MY World (Feat. nævis)     aespa   \n",
       "99  100  Dreamers [Music from the FIFA World Cup Qatar ...        정국   \n",
       "\n",
       "                                                   앨범   이미지  \n",
       "95                      MY WORLD - The 3rd Mini Album  None  \n",
       "96                        NewJeans 1st EP 'New Jeans'  None  \n",
       "97                               삼남매가 용감하게 OST Part.1  None  \n",
       "98                      MY WORLD - The 3rd Mini Album  None  \n",
       "99  Dreamers [Music from the FIFA World Cup Qatar ...  None  "
      ]
     },
     "execution_count": 37,
     "metadata": {},
     "output_type": "execute_result"
    }
   ],
   "source": [
    "melon = pd.DataFrame(lin)\n",
    "melon.tail()"
   ]
  },
  {
   "cell_type": "code",
   "execution_count": 45,
   "metadata": {},
   "outputs": [
    {
     "data": {
      "text/plain": [
       "'230512'"
      ]
     },
     "execution_count": 45,
     "metadata": {},
     "output_type": "execute_result"
    }
   ],
   "source": [
    "from datetime import datetime\n",
    "now =datetime.now()\n",
    "ymd =f'{now.year-2000:02d}{now.month:02d}{now.day:02d}'       \n",
    "ymd"
   ]
  },
  {
   "cell_type": "code",
   "execution_count": 46,
   "metadata": {},
   "outputs": [],
   "source": [
    "melon.to_csv(f'data/{ymd}_멜론차트.csv',index=False)"
   ]
  },
  {
   "cell_type": "code",
   "execution_count": 3,
   "metadata": {},
   "outputs": [
    {
     "data": {
      "text/html": [
       "<div>\n",
       "<style scoped>\n",
       "    .dataframe tbody tr th:only-of-type {\n",
       "        vertical-align: middle;\n",
       "    }\n",
       "\n",
       "    .dataframe tbody tr th {\n",
       "        vertical-align: top;\n",
       "    }\n",
       "\n",
       "    .dataframe thead th {\n",
       "        text-align: right;\n",
       "    }\n",
       "</style>\n",
       "<table border=\"1\" class=\"dataframe\">\n",
       "  <thead>\n",
       "    <tr style=\"text-align: right;\">\n",
       "      <th></th>\n",
       "      <th>순위</th>\n",
       "      <th>카테고리</th>\n",
       "      <th>채널명</th>\n",
       "      <th>구독자수</th>\n",
       "      <th>조회수</th>\n",
       "      <th>비디오</th>\n",
       "    </tr>\n",
       "  </thead>\n",
       "  <tbody>\n",
       "    <tr>\n",
       "      <th>0</th>\n",
       "      <td>1</td>\n",
       "      <td>음악/댄스/가수</td>\n",
       "      <td>BLACKPINK</td>\n",
       "      <td>87300000</td>\n",
       "      <td>30533500000</td>\n",
       "      <td>507</td>\n",
       "    </tr>\n",
       "    <tr>\n",
       "      <th>1</th>\n",
       "      <td>2</td>\n",
       "      <td>음악/댄스/가수</td>\n",
       "      <td>BANGTANTV</td>\n",
       "      <td>74500000</td>\n",
       "      <td>20143000000</td>\n",
       "      <td>2188</td>\n",
       "    </tr>\n",
       "    <tr>\n",
       "      <th>2</th>\n",
       "      <td>3</td>\n",
       "      <td>음악/댄스/가수</td>\n",
       "      <td>HYBE LABELS</td>\n",
       "      <td>70300000</td>\n",
       "      <td>27323160000</td>\n",
       "      <td>1158</td>\n",
       "    </tr>\n",
       "    <tr>\n",
       "      <th>3</th>\n",
       "      <td>4</td>\n",
       "      <td>음악/댄스/가수</td>\n",
       "      <td>SMTOWN</td>\n",
       "      <td>31600000</td>\n",
       "      <td>26794810000</td>\n",
       "      <td>4110</td>\n",
       "    </tr>\n",
       "    <tr>\n",
       "      <th>4</th>\n",
       "      <td>5</td>\n",
       "      <td>음악/댄스/가수</td>\n",
       "      <td>JYP Entertainment</td>\n",
       "      <td>26800000</td>\n",
       "      <td>19275070000</td>\n",
       "      <td>1668</td>\n",
       "    </tr>\n",
       "    <tr>\n",
       "      <th>...</th>\n",
       "      <td>...</td>\n",
       "      <td>...</td>\n",
       "      <td>...</td>\n",
       "      <td>...</td>\n",
       "      <td>...</td>\n",
       "      <td>...</td>\n",
       "    </tr>\n",
       "    <tr>\n",
       "      <th>995</th>\n",
       "      <td>991</td>\n",
       "      <td>회사/오피셜</td>\n",
       "      <td>LG Uplus</td>\n",
       "      <td>730000</td>\n",
       "      <td>1379980000</td>\n",
       "      <td>2473</td>\n",
       "    </tr>\n",
       "    <tr>\n",
       "      <th>996</th>\n",
       "      <td>998</td>\n",
       "      <td>BJ/인물/연예인</td>\n",
       "      <td>케이</td>\n",
       "      <td>730000</td>\n",
       "      <td>572670000</td>\n",
       "      <td>3304</td>\n",
       "    </tr>\n",
       "    <tr>\n",
       "      <th>997</th>\n",
       "      <td>1001</td>\n",
       "      <td>미분류</td>\n",
       "      <td>백크 Baekk</td>\n",
       "      <td>720000</td>\n",
       "      <td>457320000</td>\n",
       "      <td>1106</td>\n",
       "    </tr>\n",
       "    <tr>\n",
       "      <th>998</th>\n",
       "      <td>999</td>\n",
       "      <td>음악/댄스/가수</td>\n",
       "      <td>Crush</td>\n",
       "      <td>720000</td>\n",
       "      <td>395460000</td>\n",
       "      <td>131</td>\n",
       "    </tr>\n",
       "    <tr>\n",
       "      <th>999</th>\n",
       "      <td>997</td>\n",
       "      <td>BJ/인물/연예인</td>\n",
       "      <td>bobaepapa - 보배아빠</td>\n",
       "      <td>720000</td>\n",
       "      <td>348440000</td>\n",
       "      <td>393</td>\n",
       "    </tr>\n",
       "  </tbody>\n",
       "</table>\n",
       "<p>1000 rows × 6 columns</p>\n",
       "</div>"
      ],
      "text/plain": [
       "       순위       카테고리                채널명      구독자수          조회수   비디오\n",
       "0       1   음악/댄스/가수          BLACKPINK  87300000  30533500000   507\n",
       "1       2   음악/댄스/가수          BANGTANTV  74500000  20143000000  2188\n",
       "2       3   음악/댄스/가수        HYBE LABELS  70300000  27323160000  1158\n",
       "3       4   음악/댄스/가수             SMTOWN  31600000  26794810000  4110\n",
       "4       5   음악/댄스/가수  JYP Entertainment  26800000  19275070000  1668\n",
       "..    ...        ...                ...       ...          ...   ...\n",
       "995   991     회사/오피셜           LG Uplus    730000   1379980000  2473\n",
       "996   998  BJ/인물/연예인                 케이    730000    572670000  3304\n",
       "997  1001        미분류           백크 Baekk    720000    457320000  1106\n",
       "998   999   음악/댄스/가수              Crush    720000    395460000   131\n",
       "999   997  BJ/인물/연예인   bobaepapa - 보배아빠    720000    348440000   393\n",
       "\n",
       "[1000 rows x 6 columns]"
      ]
     },
     "execution_count": 3,
     "metadata": {},
     "output_type": "execute_result"
    }
   ],
   "source": [
    "import pandas as pd\n",
    "df =pd.read_csv('../05.Crawling/data/유튜브 랭킹.csv')\n",
    "df"
   ]
  },
  {
   "cell_type": "code",
   "execution_count": null,
   "metadata": {},
   "outputs": [],
   "source": []
  }
 ],
 "metadata": {
  "kernelspec": {
   "display_name": "base",
   "language": "python",
   "name": "python3"
  },
  "language_info": {
   "codemirror_mode": {
    "name": "ipython",
    "version": 3
   },
   "file_extension": ".py",
   "mimetype": "text/x-python",
   "name": "python",
   "nbconvert_exporter": "python",
   "pygments_lexer": "ipython3",
   "version": "3.10.10"
  },
  "orig_nbformat": 4
 },
 "nbformat": 4,
 "nbformat_minor": 2
}
