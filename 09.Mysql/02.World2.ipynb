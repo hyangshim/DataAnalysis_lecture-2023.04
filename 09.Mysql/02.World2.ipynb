{
 "cells": [
  {
   "attachments": {},
   "cell_type": "markdown",
   "metadata": {},
   "source": [
    "### World Dao를 이용한 DB Access|"
   ]
  },
  {
   "cell_type": "code",
   "execution_count": 1,
   "metadata": {},
   "outputs": [],
   "source": [
    "import world_dao as wd"
   ]
  },
  {
   "attachments": {},
   "cell_type": "markdown",
   "metadata": {},
   "source": [
    "- R:Retrieve"
   ]
  },
  {
   "cell_type": "code",
   "execution_count": 2,
   "metadata": {},
   "outputs": [
    {
     "data": {
      "text/html": [
       "<div>\n",
       "<style scoped>\n",
       "    .dataframe tbody tr th:only-of-type {\n",
       "        vertical-align: middle;\n",
       "    }\n",
       "\n",
       "    .dataframe tbody tr th {\n",
       "        vertical-align: top;\n",
       "    }\n",
       "\n",
       "    .dataframe thead th {\n",
       "        text-align: right;\n",
       "    }\n",
       "</style>\n",
       "<table border=\"1\" class=\"dataframe\">\n",
       "  <thead>\n",
       "    <tr style=\"text-align: right;\">\n",
       "      <th></th>\n",
       "      <th>name</th>\n",
       "      <th>country_code</th>\n",
       "      <th>district</th>\n",
       "      <th>population</th>\n",
       "    </tr>\n",
       "    <tr>\n",
       "      <th>id</th>\n",
       "      <th></th>\n",
       "      <th></th>\n",
       "      <th></th>\n",
       "      <th></th>\n",
       "    </tr>\n",
       "  </thead>\n",
       "  <tbody>\n",
       "    <tr>\n",
       "      <th>2400</th>\n",
       "      <td>Mun-gyong</td>\n",
       "      <td>KOR</td>\n",
       "      <td>Kyongsangbuk</td>\n",
       "      <td>92239</td>\n",
       "    </tr>\n",
       "    <tr>\n",
       "      <th>2399</th>\n",
       "      <td>Tonghae</td>\n",
       "      <td>KOR</td>\n",
       "      <td>Kang-won</td>\n",
       "      <td>95472</td>\n",
       "    </tr>\n",
       "    <tr>\n",
       "      <th>2398</th>\n",
       "      <td>Namwon</td>\n",
       "      <td>KOR</td>\n",
       "      <td>Chollabuk</td>\n",
       "      <td>103544</td>\n",
       "    </tr>\n",
       "    <tr>\n",
       "      <th>2397</th>\n",
       "      <td>Naju</td>\n",
       "      <td>KOR</td>\n",
       "      <td>Chollanam</td>\n",
       "      <td>107831</td>\n",
       "    </tr>\n",
       "    <tr>\n",
       "      <th>2396</th>\n",
       "      <td>Uiwang</td>\n",
       "      <td>KOR</td>\n",
       "      <td>Kyonggi</td>\n",
       "      <td>108788</td>\n",
       "    </tr>\n",
       "    <tr>\n",
       "      <th>2395</th>\n",
       "      <td>Sachon</td>\n",
       "      <td>KOR</td>\n",
       "      <td>Kyongsangnam</td>\n",
       "      <td>113494</td>\n",
       "    </tr>\n",
       "    <tr>\n",
       "      <th>2394</th>\n",
       "      <td>Yongchon</td>\n",
       "      <td>KOR</td>\n",
       "      <td>Kyongsangbuk</td>\n",
       "      <td>113511</td>\n",
       "    </tr>\n",
       "    <tr>\n",
       "      <th>2393</th>\n",
       "      <td>Kimje</td>\n",
       "      <td>KOR</td>\n",
       "      <td>Chollabuk</td>\n",
       "      <td>115427</td>\n",
       "    </tr>\n",
       "    <tr>\n",
       "      <th>2392</th>\n",
       "      <td>Hanam</td>\n",
       "      <td>KOR</td>\n",
       "      <td>Kyonggi</td>\n",
       "      <td>115812</td>\n",
       "    </tr>\n",
       "    <tr>\n",
       "      <th>2391</th>\n",
       "      <td>Miryang</td>\n",
       "      <td>KOR</td>\n",
       "      <td>Kyongsangnam</td>\n",
       "      <td>121501</td>\n",
       "    </tr>\n",
       "  </tbody>\n",
       "</table>\n",
       "</div>"
      ],
      "text/plain": [
       "           name country_code      district  population\n",
       "id                                                    \n",
       "2400  Mun-gyong          KOR  Kyongsangbuk       92239\n",
       "2399    Tonghae          KOR      Kang-won       95472\n",
       "2398     Namwon          KOR     Chollabuk      103544\n",
       "2397       Naju          KOR     Chollanam      107831\n",
       "2396     Uiwang          KOR       Kyonggi      108788\n",
       "2395     Sachon          KOR  Kyongsangnam      113494\n",
       "2394   Yongchon          KOR  Kyongsangbuk      113511\n",
       "2393      Kimje          KOR     Chollabuk      115427\n",
       "2392      Hanam          KOR       Kyonggi      115812\n",
       "2391    Miryang          KOR  Kyongsangnam      121501"
      ]
     },
     "execution_count": 2,
     "metadata": {},
     "output_type": "execute_result"
    }
   ],
   "source": [
    "import pandas as pd\n",
    "rows =wd.get_citylist_by_country('kor',10)\n",
    "df = pd.DataFrame(rows,columns=['id','name','country_code','district','population'])\n",
    "df.set_index('id',inplace=True)\n",
    "df"
   ]
  },
  {
   "cell_type": "code",
   "execution_count": 3,
   "metadata": {},
   "outputs": [
    {
     "data": {
      "text/plain": [
       "(2383, '수원', 'KOR', 'Kyonggi', 1200000)"
      ]
     },
     "execution_count": 3,
     "metadata": {},
     "output_type": "execute_result"
    }
   ],
   "source": [
    "row = wd.get_city_by_name('수원')\n",
    "row"
   ]
  },
  {
   "attachments": {},
   "cell_type": "markdown",
   "metadata": {},
   "source": [
    "- C: create"
   ]
  },
  {
   "cell_type": "code",
   "execution_count": 4,
   "metadata": {},
   "outputs": [],
   "source": [
    "params = ('노드','KOR','kyonggi',6000000)\n",
    "wd.insert_city(params)"
   ]
  },
  {
   "attachments": {},
   "cell_type": "markdown",
   "metadata": {},
   "source": [
    "U:update"
   ]
  },
  {
   "cell_type": "code",
   "execution_count": 5,
   "metadata": {},
   "outputs": [],
   "source": [
    "row =wd.get_city_by_name('노드')\n",
    "params=[row[1],row[2],row[3],row[4],row[0]]\n",
    "params[3]=7400000\n",
    "wd.update_city(params)"
   ]
  },
  {
   "attachments": {},
   "cell_type": "markdown",
   "metadata": {},
   "source": [
    "-D:delete"
   ]
  },
  {
   "cell_type": "code",
   "execution_count": 6,
   "metadata": {},
   "outputs": [],
   "source": [
    "id =row[0]                # 5011\n",
    "wd.delete_city(id)"
   ]
  }
 ],
 "metadata": {
  "kernelspec": {
   "display_name": "base",
   "language": "python",
   "name": "python3"
  },
  "language_info": {
   "codemirror_mode": {
    "name": "ipython",
    "version": 3
   },
   "file_extension": ".py",
   "mimetype": "text/x-python",
   "name": "python",
   "nbconvert_exporter": "python",
   "pygments_lexer": "ipython3",
   "version": "3.10.10"
  },
  "orig_nbformat": 4
 },
 "nbformat": 4,
 "nbformat_minor": 2
}
