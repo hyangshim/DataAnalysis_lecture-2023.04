{
 "cells": [
  {
   "cell_type": "code",
   "execution_count": 25,
   "metadata": {},
   "outputs": [],
   "source": [
    "import time\n",
    "import pandas as pd\n",
    "from urllib.parse import quote\n",
    "from selenium import webdriver\n",
    "from selenium.webdriver.common.by import By\n",
    "from selenium.webdriver.common.keys import Keys\n",
    "from tqdm import tqdm\n",
    "from bs4 import BeautifulSoup\n",
    "import warnings\n",
    "warnings.filterwarnings('ignore')"
   ]
  },
  {
   "cell_type": "markdown",
   "metadata": {},
   "source": [
    "- 지식인 어버이날 선물 검색결과 화면"
   ]
  },
  {
   "cell_type": "code",
   "execution_count": 26,
   "metadata": {},
   "outputs": [],
   "source": [
    "base_url ='https://kin.naver.com/search/list.naver'\n",
    "url = f'{base_url}?query={quote(\"아버이날 선물\")}&page={1}'\n",
    "driver =webdriver.Chrome('file:///C:/Users/YONSAI/Downloads/chromedriver_win32/chromedriver')\n",
    "driver.get(url)\n",
    "soup =BeautifulSoup(driver.page_source,\"html.parser\")"
   ]
  },
  {
   "cell_type": "code",
   "execution_count": 27,
   "metadata": {},
   "outputs": [
    {
     "data": {
      "text/plain": [
       "10"
      ]
     },
     "execution_count": 27,
     "metadata": {},
     "output_type": "execute_result"
    }
   ],
   "source": [
    "lis =soup.select('ul.basic1 > li ')\n",
    "len(lis)"
   ]
  },
  {
   "attachments": {},
   "cell_type": "markdown",
   "metadata": {},
   "source": [
    "- 답변 갯수가 5개보다 큰 항목을 선택"
   ]
  },
  {
   "cell_type": "code",
   "execution_count": 28,
   "metadata": {},
   "outputs": [
    {
     "data": {
      "text/plain": [
       "'https://kin.naver.com/qna/detail.naver?d1id=5&dirId=50603&docId=444555636&qb=7Ja067KE7J2064KgIOyEoOusvA==&enc=utf8&section=kin&rank=5&search_sort=0&spq=0'"
      ]
     },
     "execution_count": 28,
     "metadata": {},
     "output_type": "execute_result"
    }
   ],
   "source": [
    "#게시글 링크\n",
    "li=lis[4]\n",
    "sub_url =li.select_one('a._searchListTitleAnchor')['href']\n",
    "sub_url"
   ]
  },
  {
   "cell_type": "code",
   "execution_count": 29,
   "metadata": {},
   "outputs": [],
   "source": [
    "driver.get(sub_url)"
   ]
  },
  {
   "cell_type": "code",
   "execution_count": 30,
   "metadata": {},
   "outputs": [
    {
     "name": "stdout",
     "output_type": "stream",
     "text": [
      "8 1\n"
     ]
    }
   ],
   "source": [
    "#더보기 클릭 횟수\n",
    "count =int(driver.find_element(By.CSS_SELECTOR,'._answerCount.num').text)\n",
    "click_count=(count - 1) // 5\n",
    "print(count,click_count)"
   ]
  },
  {
   "cell_type": "code",
   "execution_count": 31,
   "metadata": {},
   "outputs": [],
   "source": [
    "# 더보기 클릭 횟수 만큼 클릭하기\n",
    "for i in range(click_count):\n",
    "    driver.find_element(By.ID,'nextPageButton').click()\n",
    "    time.sleep(2)"
   ]
  },
  {
   "cell_type": "code",
   "execution_count": 32,
   "metadata": {},
   "outputs": [
    {
     "data": {
      "text/plain": [
       "8"
      ]
     },
     "execution_count": 32,
     "metadata": {},
     "output_type": "execute_result"
    }
   ],
   "source": [
    "#클릭후 화면에서 답변 목록 찾기\n",
    "soup = BeautifulSoup(driver.page_source,'html.parser')\n",
    "divs =soup.select('div.answer-content__item._contentWrap._answer')\n",
    "len(divs)"
   ]
  },
  {
   "cell_type": "code",
   "execution_count": 33,
   "metadata": {},
   "outputs": [
    {
     "name": "stdout",
     "output_type": "stream",
     "text": [
      "1.  재래시장에 가면  스타킹파는 곳 있을거예요.\n",
      "2.  큰 약국에 가서 여쭤보면  영양제 구매 가능하구요.\n",
      "3. 30대 어머니 선물은  화장품이 어떨까 해요. 쿠션이라 립스틱종류\n"
     ]
    }
   ],
   "source": [
    "#답변 목록에서 개별 답변을 선택하고, 글을 추출하기\n",
    "div =divs[0]\n",
    "ps=div.select('p.se-text-paragraph')\n",
    "for p in ps:\n",
    "    print(p.get_text())"
   ]
  },
  {
   "cell_type": "code",
   "execution_count": 34,
   "metadata": {},
   "outputs": [],
   "source": [
    "# 하나의 글에서 모든 답변을 추출하기\n",
    "lines = []\n",
    "for div in divs:\n",
    "    ps=div.select('p.se-text-paragraph')\n",
    "    for p in ps:\n",
    "        lines.append(p.get_text())"
   ]
  },
  {
   "cell_type": "code",
   "execution_count": 35,
   "metadata": {},
   "outputs": [
    {
     "data": {
      "text/plain": [
       "['1.  재래시장에 가면  스타킹파는 곳 있을거예요.',\n",
       " '2.  큰 약국에 가서 여쭤보면  영양제 구매 가능하구요.',\n",
       " '3. 30대 어머니 선물은  화장품이 어떨까 해요. 쿠션이라 립스틱종류',\n",
       " '안녕하세요! 어머님 선물은 어머님이 좋아하는 꽃이나 좋아하시는 색으로 꽃 선물을 드리는건 어떨까요?',\n",
       " '2.번 질문에 대한 답변입니다.',\n",
       " '\\u200b',\n",
       " '60대 할머니시면 근육이 많이 빠지기 시작하는 시기입니다.',\n",
       " '근육이 빠지면 고혈압, 당뇨 암 등 발병위험이 높아집니다.',\n",
       " '\\u200b',\n",
       " '이럴때 어르신들 근력향상에 좋은 류신 추천드려요',\n",
       " '그냥 류신말고 고순도 류신이 어르신들께 좋으십니다.',\n",
       " '\\u200b',\n",
       " '근육이량이 높아야 오래 건강하게 지내실 수 있습니다.',\n",
       " '\\u200b',\n",
       " '스타킹은 주변 편의점에도 있습니다!',\n",
       " '어버이날 선물로 관절에 좋은 콘드로이친 보충제는 어떨까요? ',\n",
       " '\\u200b',\n",
       " '나이가 들면 연골이 닳고 관절이 약해져 생활의 많은 불편함을 겪습니다. 따라서 관련된 영양제를 섭취하는것이 좋습니다. ',\n",
       " '\\u200b',\n",
       " '콘드로이친 효과는 다음과 같습니다. ',\n",
       " '1. 관절 염증 감소',\n",
       " '2. 연골 파괴 예방',\n",
       " '3. 통증 완화',\n",
       " '\\u200b',\n",
       " '좋은 콘드로이친 보충제 고르는 TIP',\n",
       " '1. 콘드로이친 고함량, 고순도',\n",
       " '2. 믿을만한 전문 제조사',\n",
       " '3. 좋은 원료',\n",
       " '\\u200b',\n",
       " '이에 부합하는 콘드로이친 보충제 하나를 추천드리겠습니다. ',\n",
       " '\\u200b',\n",
       " '\\u200b',\n",
       " '\\u200b',\n",
       " '\\u200b',\n",
       " '\"파트너스 활동의 일환으로, 이에 따른 일정액의 수수료를 제공받습니다.\"',\n",
       " '아 이거ㅠㅠㅠ 인터넷 쇼핑이긴한데 너무 좋아서...ㅠㅠㅠ',\n",
       " '걍 추천만 하고 갈게요',\n",
       " 'https://smartstore.naver.com/home_playground/products/5308005102',\n",
       " '\\u200b',\n",
       " '우리 몸속 관절 연골 건강관리 어떻게 하고 계시나요 관절염 초기 증상이라면 평소 꾸준한 운동과 올바른 식습관 관리만으로도 충분히 예방할 수 있습니다.',\n",
       " '\\u200b',\n",
       " '하지만 아직도 무릎 통증 원인을 노화나 비만으로만 생각하시는 분들이 많은데요. 만약 위와 같은 노력에도 불구하고 계속해서 무릎 통증이 발생한다면 ',\n",
       " '\\u200b',\n",
       " '\\u200b연골의 문제일 가능성이 높습니다.이러한 증상 통증들은 초기에 제대로 된 관리를 받지 않으면 점점 더 악화되어 나중에는 일상생활조차 힘들어질 수 있기 때문입니다. ',\n",
       " '\\u200b',\n",
       " '\\u200b따라서 미리미리 내 몸 상태를 체크하여 필요하다면 적절한 관리를 하는 것이 중요한데요. 연골 건강기능식품 하면 떠오르는 게 바로 글루코사민인데요. ',\n",
       " '\\u200b',\n",
       " '\\u200b하지만 요즘엔 관절건강 뿐만 아니라 다른 효능도 가지고 있는 새로운 성분 조합의 영양제가 각광받고 있습니다. ',\n",
       " '\\u200b',\n",
       " '\\u200b그것은 바로 콘드로이친이라는 성분입니다. 이것은 인체 내에서도 생성되는 물질이지만 노화가 진행됨에 따라 급속히 감소하기 때문에 보충 섭취가 필요하다고 알려져 있습니다.',\n",
       " '\\u200b',\n",
       " '\\u200b따라서 부족한 콘드로이친을 채워줄 수 있는 식품군으로는 무엇이 좋은지 알아보시고 선택하시면 올바른 건강관리에 도움이 되실거예요.',\n",
       " '\\u200b',\n",
       " '\\u200b',\n",
       " 'https://bit.ly/3IusSx8',\n",
       " '\\u200b',\n",
       " '안녕하세요.^^',\n",
       " '어머님 선물로 팔찌로 추천해드릴께요.',\n",
       " '크로노스',\n",
       " '크로노스 CRJ2018B-RG THICK 하트 팔찌 입니다.',\n",
       " '스텐레스 스틸 재질로 변질이 적으며 한쪽과 반대쪽을 다르게 디자인되어있으며',\n",
       " '하트 달랑이가 돋보이는 팔찌입니다.',\n",
       " '단독으로 착용하시거나 시계와 함께 매치하셔도 잘 어울리는 제품이니 참고 바랍니다.',\n",
       " '모두의 4월, MY POP ',\n",
       " 'https://www.gabangpop.co.kr/',\n",
       " '\\u200b',\n",
       " '어버이날 선물 추천 설문 조사를 참고하여 작성한 정보 입니다. 도움 되셨으면 좋겠습니다.']"
      ]
     },
     "execution_count": 35,
     "metadata": {},
     "output_type": "execute_result"
    }
   ],
   "source": [
    "lines"
   ]
  },
  {
   "cell_type": "code",
   "execution_count": 36,
   "metadata": {},
   "outputs": [],
   "source": [
    "driver.back()"
   ]
  },
  {
   "cell_type": "code",
   "execution_count": 37,
   "metadata": {},
   "outputs": [],
   "source": [
    "# driver.get(url +quote('아버이날 선물'))\n",
    "# time.sleep(2)\n",
    "# soup =BeautifulSoup()"
   ]
  },
  {
   "attachments": {},
   "cell_type": "markdown",
   "metadata": {},
   "source": [
    "- 한 화면에 있는 10개의 글에서 모든 답변을 추출하기"
   ]
  },
  {
   "cell_type": "code",
   "execution_count": 38,
   "metadata": {},
   "outputs": [
    {
     "name": "stdout",
     "output_type": "stream",
     "text": [
      "2, 2\n",
      "2, 2\n",
      "7, 7\n",
      "7, 7\n",
      "8, 8\n",
      "21, 21\n",
      "7, 7\n",
      "5, 5\n",
      "3, 3\n",
      "10, 10\n"
     ]
    }
   ],
   "source": [
    "answer_list = []\n",
    "for li in lis:\n",
    "    sub_url =li.select_one('a._searchListTitleAnchor')['href']\n",
    "    driver.get(sub_url)\n",
    "    time.sleep(2)\n",
    "    count =int(driver.find_element(By.CSS_SELECTOR,'._answerCount.num').text)\n",
    "    click_count=(count - 1) // 5\n",
    "    print(count, end=', ')\n",
    "    for i in range(click_count):\n",
    "        driver.find_element(By.ID,'nextPageButton').click()\n",
    "        time.sleep(1)\n",
    "\n",
    "    soup = BeautifulSoup(driver.page_source,'html.parser')\n",
    "    divs =soup.select('div.answer-content__item._contentWrap._answer')\n",
    "    print(len(divs))\n",
    "    for div in divs:\n",
    "        ps=div.select('p.se-text-paragraph')\n",
    "        paragraph =''\n",
    "        for p in ps:\n",
    "            text =p.get_text()\n",
    "            lines.append(p.get_text())\n",
    "            if text ==' ' or text =='\\u200b':\n",
    "                continue\n",
    "            paragraph += text + '\\n'\n",
    "        answer_list.append(paragraph)\n",
    "    driver.back()\n",
    "    time.sleep(2)\n",
    "    \n",
    "    "
   ]
  },
  {
   "cell_type": "code",
   "execution_count": 39,
   "metadata": {},
   "outputs": [
    {
     "data": {
      "text/plain": [
       "72"
      ]
     },
     "execution_count": 39,
     "metadata": {},
     "output_type": "execute_result"
    }
   ],
   "source": [
    "len(answer_list)"
   ]
  },
  {
   "cell_type": "code",
   "execution_count": 40,
   "metadata": {},
   "outputs": [
    {
     "data": {
      "text/plain": [
       "['안녕하세요.\\n부모님께서 어깨랑 무릎이 아프시다고 하셨는데, 저희 부모님께서 사용하시면서\\n매번 칭찬하시는 제품이 생각나서 답글 남겨요~.\\n원적외선 온열치료기인데, 일반적인 적외선 조사기 처럼 생겼는데 신기하게 빨간 빛이 안나는 제품이에요. \\n램프가 세라믹으로 만들어 진 것이라 눈에 보이는 빨간 빛이 없이, 열감만 나는 제품인데요, \\n이게 파장이 일반 적외선 조사기랑 달라요. 파장이 몸속 깊숙이 침투되는 생육광선 파장을 낸다고 해요. \\n그래서 빨간 빛이 없고, 사용했을때 확실히 열감이 다르다고 하세요. \\n저희 부모님도 이거 매일 사용하시고 어깨 허리 무릎 많이 좋아지셨어요.\\n조금 피로하신 날에도 어깨랑 등이랑 자주 사용하시는데 그러면 사우나 한 것 처럼 개운하다고 하시더라구요~.\\n두 분이 서로 사용하시겠다고 하셔서;;; 하나 더 사드려야 하나 하던 참이었어요;;\\n여튼, 조작법도 쉽고, 사실 여기저기 사용 부위 제한도 없고, 또 제품도 엄청 튼튼해보여요.\\n후기 보니까 부모님 선물로 많이 드리고, 만족도도 높더라구요!\\n가격도 30만원 조금 안되는 가격이라 원하시는 가격대에 딱 맞네요 ^^\\n좋은 선물 하시기 바래요~!!\\n도움이 되셨다면 꼭 채택 부탁드립니다! ^^\\n',\n",
       " '어버이날 선물 드리려고 하시는 군요 ㅎㅎ\\n확실히 부모님들 나이가 들면서\\n점점 아파하고 뻐근해 하시는게 눈에 보이죠..\\n확실히 현금으로만 드리는거는 좀 감동이 적어서\\n어버이날 선물 잘 주시는게 좋아요\\n어버이날 선물로 편지와 현금과 함께\\n건강보조식품이나 보조기구를 주시면 좋을것 같은데\\n아무래도 예산이 적다보니 꼭 후기를 많이 보고\\n잘 맞는지 고민을 해보시고 A/S는 되는지\\n꾸준히 쓸만한 제품인지, 너무 뻔하지 않은지 등\\n고려해서 어버이날 선물 주시면 좋겠네요!\\n']"
      ]
     },
     "execution_count": 40,
     "metadata": {},
     "output_type": "execute_result"
    }
   ],
   "source": [
    "answer_list[:2]"
   ]
  },
  {
   "cell_type": "code",
   "execution_count": 41,
   "metadata": {},
   "outputs": [
    {
     "name": "stderr",
     "output_type": "stream",
     "text": [
      "  0%|          | 0/10 [00:00<?, ?it/s]"
     ]
    },
    {
     "name": "stdout",
     "output_type": "stream",
     "text": [
      "2, 2\n",
      "2, 2\n",
      "7, 7\n",
      "7, 7\n",
      "8, 8\n",
      "21, 21\n",
      "7, 7\n",
      "5, 5\n",
      "3, 3\n",
      "10, 10\n"
     ]
    },
    {
     "name": "stderr",
     "output_type": "stream",
     "text": [
      " 10%|█         | 1/10 [01:05<09:49, 65.49s/it]"
     ]
    },
    {
     "name": "stdout",
     "output_type": "stream",
     "text": [
      "6, 6\n",
      "16, 16\n",
      "12, 12\n",
      "12, 12\n",
      "2, 2\n",
      "6, 6\n",
      "10, 10\n",
      "7, 7\n",
      "1, 1\n",
      "10, 10\n"
     ]
    },
    {
     "name": "stderr",
     "output_type": "stream",
     "text": [
      " 20%|██        | 2/10 [02:15<09:05, 68.20s/it]"
     ]
    },
    {
     "name": "stdout",
     "output_type": "stream",
     "text": [
      "8, 8\n",
      "2, 2\n",
      "7, 7\n",
      "14, 14\n",
      "5, 5\n",
      "6, 6\n",
      "15, 15\n",
      "14, 14\n",
      "5, 5\n",
      "12, 12\n"
     ]
    },
    {
     "name": "stderr",
     "output_type": "stream",
     "text": [
      " 30%|███       | 3/10 [03:26<08:07, 69.60s/it]"
     ]
    },
    {
     "name": "stdout",
     "output_type": "stream",
     "text": [
      "11, 11\n",
      "9, 9\n",
      "11, 11\n",
      "2, 2\n",
      "11, 11\n",
      "13, 13\n",
      "7, 7\n",
      "1, 1\n",
      "11, 11\n",
      "19, 19\n"
     ]
    },
    {
     "name": "stderr",
     "output_type": "stream",
     "text": [
      " 40%|████      | 4/10 [04:42<07:12, 72.05s/it]"
     ]
    },
    {
     "name": "stdout",
     "output_type": "stream",
     "text": [
      "13, 13\n",
      "3, 3\n",
      "12, 12\n",
      "12, 12\n",
      "5, 5\n",
      "8, 8\n",
      "1, 1\n",
      "7, 7\n",
      "7, 7\n",
      "3, 3\n"
     ]
    },
    {
     "name": "stderr",
     "output_type": "stream",
     "text": [
      " 50%|█████     | 5/10 [05:52<05:55, 71.12s/it]"
     ]
    },
    {
     "name": "stdout",
     "output_type": "stream",
     "text": [
      "2, 2\n",
      "1, 1\n",
      "8, 8\n",
      "11, 11\n",
      "13, 13\n",
      "4, 4\n",
      "6, 6\n",
      "13, 13\n",
      "4, 4\n",
      "11, 11\n"
     ]
    },
    {
     "name": "stderr",
     "output_type": "stream",
     "text": [
      " 60%|██████    | 6/10 [07:04<04:46, 71.53s/it]"
     ]
    },
    {
     "name": "stdout",
     "output_type": "stream",
     "text": [
      "8, 8\n",
      "3, 3\n",
      "10, 10\n",
      "14, 14\n",
      "4, 4\n",
      "13, 13\n",
      "10, 10\n",
      "9, 9\n",
      "3, 3\n",
      "2, 2\n"
     ]
    },
    {
     "name": "stderr",
     "output_type": "stream",
     "text": [
      " 70%|███████   | 7/10 [08:15<03:33, 71.32s/it]"
     ]
    },
    {
     "name": "stdout",
     "output_type": "stream",
     "text": [
      "4, 4\n",
      "3, 3\n",
      "4, 4\n",
      "5, 5\n",
      "4, 4\n",
      "6, 6\n",
      "5, 5\n",
      "7, 7\n",
      "14, 14\n",
      "12, 12\n"
     ]
    },
    {
     "name": "stderr",
     "output_type": "stream",
     "text": [
      " 80%|████████  | 8/10 [09:27<02:23, 71.74s/it]"
     ]
    },
    {
     "name": "stdout",
     "output_type": "stream",
     "text": [
      "12, 12\n",
      "10, 10\n",
      "6, 6\n",
      "11, 11\n",
      "12, 12\n",
      "6, 6\n",
      "10, 10\n",
      "6, 6\n",
      "10, 10\n",
      "9, 9\n"
     ]
    },
    {
     "name": "stderr",
     "output_type": "stream",
     "text": [
      " 90%|█████████ | 9/10 [10:50<01:15, 75.20s/it]"
     ]
    },
    {
     "name": "stdout",
     "output_type": "stream",
     "text": [
      "12, 12\n",
      "13, 13\n",
      "4, 4\n",
      "9, 9\n",
      "9, 9\n",
      "10, 10\n",
      "2, 2\n",
      "5, 5\n",
      "2, 2\n",
      "14, 14\n"
     ]
    },
    {
     "name": "stderr",
     "output_type": "stream",
     "text": [
      "100%|██████████| 10/10 [12:09<00:00, 72.98s/it]\n"
     ]
    }
   ],
   "source": [
    "answer_list = []\n",
    "for page in tqdm(range(1,11)):\n",
    "    driver.get( f'{base_url}?query={quote(\"아버이날 선물\")}&page={page}')\n",
    "    time.sleep(2)\n",
    "    soup =BeautifulSoup(driver.page_source,\"html.parser\")\n",
    "    lis =soup.select('ul.basic1 > li ')\n",
    "    for li in lis:\n",
    "        sub_url =li.select_one('a._searchListTitleAnchor')['href']\n",
    "        driver.get(sub_url)\n",
    "        time.sleep(2)\n",
    "        count =int(driver.find_element(By.CSS_SELECTOR,'._answerCount.num').text)\n",
    "        click_count=(count - 1) // 5\n",
    "        print(count, end=', ')\n",
    "        for i in range(click_count):\n",
    "            driver.find_element(By.ID,'nextPageButton').click()\n",
    "            time.sleep(1)\n",
    "\n",
    "        soup = BeautifulSoup(driver.page_source,'html.parser')\n",
    "        divs =soup.select('div.answer-content__item._contentWrap._answer')\n",
    "        print(len(divs))\n",
    "        for div in divs:\n",
    "            ps=div.select('p.se-text-paragraph')\n",
    "            paragraph =''\n",
    "            for p in ps:\n",
    "                text =p.get_text()\n",
    "                lines.append(p.get_text())\n",
    "                if text ==' ' or text =='\\u200b':\n",
    "                    continue\n",
    "                paragraph += text + '\\n'\n",
    "            answer_list.append(paragraph)\n",
    "        driver.back()\n",
    "        time.sleep(2)\n",
    "    "
   ]
  },
  {
   "cell_type": "code",
   "execution_count": 42,
   "metadata": {},
   "outputs": [],
   "source": [
    "answer_list = []\n",
    "for page in range(1,11):\n",
    "    url=f'{base_url}?query={quote(\"아버이날 선물\")}&page={page}'\n",
    "    driver.get(url)\n",
    "    time.sleep(2)\n",
    "    soup =BeautifulSoup(driver.page_source,\"html.parser\")\n",
    "    lis =soup.select('ul.basic1 > li ')\n",
    "    \n",
    "    for li in lis:\n",
    "        sub_url =li.select_one('a._searchListTitleAnchor')['href']\n",
    "        driver.get(sub_url)\n",
    "        time.sleep(2)\n",
    "        count =int(driver.find_element(By.CSS_SELECTOR,'._answerCount.num').text)\n",
    "        click_count=(count - 1) // 5\n",
    "        for i in range(click_count):\n",
    "            driver.find_element(By.ID,'nextPageButton').click()\n",
    "            time.sleep(1)\n",
    "\n",
    "        soup = BeautifulSoup(driver.page_source,'html.parser')\n",
    "        divs =soup.select('div.answer-content__item._contentWrap._answer')\n",
    "        for div in divs:\n",
    "            ps=div.select('p.se-text-paragraph')\n",
    "            paragraph =''\n",
    "            for p in ps:\n",
    "                text =p.get_text()\n",
    "                lines.append(p.get_text())\n",
    "                if text ==' ' or text =='\\u200b':\n",
    "                    continue\n",
    "                paragraph += text + '\\n'\n",
    "            answer_list.append(paragraph)\n",
    "        driver.back()\n",
    "        time.sleep(2)"
   ]
  },
  {
   "cell_type": "code",
   "execution_count": 43,
   "metadata": {},
   "outputs": [],
   "source": [
    "driver.close()"
   ]
  },
  {
   "cell_type": "code",
   "execution_count": 44,
   "metadata": {},
   "outputs": [
    {
     "data": {
      "text/html": [
       "<div>\n",
       "<style scoped>\n",
       "    .dataframe tbody tr th:only-of-type {\n",
       "        vertical-align: middle;\n",
       "    }\n",
       "\n",
       "    .dataframe tbody tr th {\n",
       "        vertical-align: top;\n",
       "    }\n",
       "\n",
       "    .dataframe thead th {\n",
       "        text-align: right;\n",
       "    }\n",
       "</style>\n",
       "<table border=\"1\" class=\"dataframe\">\n",
       "  <thead>\n",
       "    <tr style=\"text-align: right;\">\n",
       "      <th></th>\n",
       "      <th>0</th>\n",
       "    </tr>\n",
       "  </thead>\n",
       "  <tbody>\n",
       "    <tr>\n",
       "      <th>0</th>\n",
       "      <td>안녕하세요.\\n부모님께서 어깨랑 무릎이 아프시다고 하셨는데, 저희 부모님께서 사용하...</td>\n",
       "    </tr>\n",
       "    <tr>\n",
       "      <th>1</th>\n",
       "      <td>어버이날 선물 드리려고 하시는 군요 ㅎㅎ\\n확실히 부모님들 나이가 들면서\\n점점 아...</td>\n",
       "    </tr>\n",
       "    <tr>\n",
       "      <th>2</th>\n",
       "      <td>안녕하세요!!\\n저도 작년에 같은 고민하다가 선물로 드린\\n휴그랩 손마사지기 생각나...</td>\n",
       "    </tr>\n",
       "    <tr>\n",
       "      <th>3</th>\n",
       "      <td>어버이날 선물 추천 받아보고 계신것 같아 답변 드립니다~\\n이제 곧 어버이날이 다가...</td>\n",
       "    </tr>\n",
       "    <tr>\n",
       "      <th>4</th>\n",
       "      <td>안녕하세요\\n골프 스토어 김 부장입니다~\\n어버이날 선물로 부모님께 골프 관련 선물...</td>\n",
       "    </tr>\n",
       "    <tr>\n",
       "      <th>...</th>\n",
       "      <td>...</td>\n",
       "    </tr>\n",
       "    <tr>\n",
       "      <th>785</th>\n",
       "      <td>제 입장에서 가장도움이 많이 됬고, 아직도 사용하는 제품 소개시켜드릴게요 \\n가격도...</td>\n",
       "    </tr>\n",
       "    <tr>\n",
       "      <th>786</th>\n",
       "      <td>선물하고자 하시는 가격대를 알지 못해서 선물 선정이 조금 어렵네요\\n저는 일반적으로...</td>\n",
       "    </tr>\n",
       "    <tr>\n",
       "      <th>787</th>\n",
       "      <td>안녕하세요 \\n곧 어버이날이라 저도 부모님에게 뭘 해드리면 좋을지 고민하고 있었는대...</td>\n",
       "    </tr>\n",
       "    <tr>\n",
       "      <th>788</th>\n",
       "      <td>https://bitl.kr/IcDduU\\n어버이날 선물로 손마사지기는 어떠신가요?...</td>\n",
       "    </tr>\n",
       "    <tr>\n",
       "      <th>789</th>\n",
       "      <td>어버이날 문구 음식 받고싶은 선물 받고 싶지 않은 선물 정보 입니다.\\n아래에서 참...</td>\n",
       "    </tr>\n",
       "  </tbody>\n",
       "</table>\n",
       "<p>790 rows × 1 columns</p>\n",
       "</div>"
      ],
      "text/plain": [
       "                                                     0\n",
       "0    안녕하세요.\\n부모님께서 어깨랑 무릎이 아프시다고 하셨는데, 저희 부모님께서 사용하...\n",
       "1    어버이날 선물 드리려고 하시는 군요 ㅎㅎ\\n확실히 부모님들 나이가 들면서\\n점점 아...\n",
       "2    안녕하세요!!\\n저도 작년에 같은 고민하다가 선물로 드린\\n휴그랩 손마사지기 생각나...\n",
       "3    어버이날 선물 추천 받아보고 계신것 같아 답변 드립니다~\\n이제 곧 어버이날이 다가...\n",
       "4    안녕하세요\\n골프 스토어 김 부장입니다~\\n어버이날 선물로 부모님께 골프 관련 선물...\n",
       "..                                                 ...\n",
       "785  제 입장에서 가장도움이 많이 됬고, 아직도 사용하는 제품 소개시켜드릴게요 \\n가격도...\n",
       "786  선물하고자 하시는 가격대를 알지 못해서 선물 선정이 조금 어렵네요\\n저는 일반적으로...\n",
       "787  안녕하세요 \\n곧 어버이날이라 저도 부모님에게 뭘 해드리면 좋을지 고민하고 있었는대...\n",
       "788  https://bitl.kr/IcDduU\\n어버이날 선물로 손마사지기는 어떠신가요?...\n",
       "789  어버이날 문구 음식 받고싶은 선물 받고 싶지 않은 선물 정보 입니다.\\n아래에서 참...\n",
       "\n",
       "[790 rows x 1 columns]"
      ]
     },
     "execution_count": 44,
     "metadata": {},
     "output_type": "execute_result"
    }
   ],
   "source": [
    "df=pd.DataFrame(answer_list)\n",
    "df"
   ]
  },
  {
   "cell_type": "markdown",
   "metadata": {},
   "source": [
    "- 파일 저장"
   ]
  },
  {
   "cell_type": "code",
   "execution_count": 1,
   "metadata": {},
   "outputs": [
    {
     "ename": "NameError",
     "evalue": "name 'answer_list' is not defined",
     "output_type": "error",
     "traceback": [
      "\u001b[1;31m---------------------------------------------------------------------------\u001b[0m",
      "\u001b[1;31mNameError\u001b[0m                                 Traceback (most recent call last)",
      "Cell \u001b[1;32mIn[1], line 2\u001b[0m\n\u001b[0;32m      1\u001b[0m \u001b[39mwith\u001b[39;00m \u001b[39mopen\u001b[39m(\u001b[39m'\u001b[39m\u001b[39mdata/어버이날 선물.txt\u001b[39m\u001b[39m'\u001b[39m, \u001b[39m'\u001b[39m\u001b[39mw\u001b[39m\u001b[39m'\u001b[39m, encoding\u001b[39m=\u001b[39m\u001b[39m'\u001b[39m\u001b[39mutf-8\u001b[39m\u001b[39m'\u001b[39m) \u001b[39mas\u001b[39;00m f:\n\u001b[1;32m----> 2\u001b[0m     \u001b[39mfor\u001b[39;00m answer \u001b[39min\u001b[39;00m answer_list:\n\u001b[0;32m      3\u001b[0m         f\u001b[39m.\u001b[39mwrite(answer \u001b[39m+\u001b[39m \u001b[39m'\u001b[39m\u001b[39m\\n\u001b[39;00m\u001b[39m'\u001b[39m)\n",
      "\u001b[1;31mNameError\u001b[0m: name 'answer_list' is not defined"
     ]
    }
   ],
   "source": [
    "with open('data/어버이날 선물.txt', 'w', encoding='utf-8') as f:\n",
    "    for answer in answer_list:\n",
    "        f.write(answer + '\\n')"
   ]
  },
  {
   "cell_type": "code",
   "execution_count": null,
   "metadata": {},
   "outputs": [],
   "source": []
  }
 ],
 "metadata": {
  "kernelspec": {
   "display_name": "base",
   "language": "python",
   "name": "python3"
  },
  "language_info": {
   "codemirror_mode": {
    "name": "ipython",
    "version": 3
   },
   "file_extension": ".py",
   "mimetype": "text/x-python",
   "name": "python",
   "nbconvert_exporter": "python",
   "pygments_lexer": "ipython3",
   "version": "3.10.10"
  },
  "orig_nbformat": 4
 },
 "nbformat": 4,
 "nbformat_minor": 2
}
