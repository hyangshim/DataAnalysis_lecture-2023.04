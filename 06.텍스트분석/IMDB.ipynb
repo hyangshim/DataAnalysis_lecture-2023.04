{
 "cells": [
  {
   "cell_type": "code",
   "execution_count": 1,
   "metadata": {},
   "outputs": [],
   "source": [
    "import time\n",
    "import pandas as pd\n",
    "from selenium import webdriver\n",
    "from selenium.webdriver.common.by import By\n",
    "from bs4 import BeautifulSoup\n",
    "from urllib.parse import quote\n",
    "from tqdm import tqdm\n",
    "import warnings\n",
    "warnings.filterwarnings('ignore')"
   ]
  },
  {
   "cell_type": "code",
   "execution_count": 2,
   "metadata": {},
   "outputs": [],
   "source": [
    "url = 'https://www.imdb.com/title/tt0111161/reviews/?ref_=tt_ql_2'\n",
    "driver = webdriver.Chrome('C:/Users/YONSAI/Downloads/chromedriver.exe')\n",
    "driver.get(url)\n",
    "soup = BeautifulSoup(driver.page_source, 'html.parser')"
   ]
  },
  {
   "cell_type": "code",
   "execution_count": 3,
   "metadata": {},
   "outputs": [
    {
     "data": {
      "text/plain": [
       "25"
      ]
     },
     "execution_count": 3,
     "metadata": {},
     "output_type": "execute_result"
    }
   ],
   "source": [
    "#제목을 가져옴\n",
    "divs = soup.select('.lister-item-content')\n",
    "len(divs)"
   ]
  },
  {
   "cell_type": "code",
   "execution_count": 4,
   "metadata": {},
   "outputs": [],
   "source": [
    "# 밑으로 내려가기\n",
    "driver.find_element(By.CSS_SELECTOR, '#load-more-trigger').click()\n",
    "time.sleep(3) "
   ]
  },
  {
   "cell_type": "code",
   "execution_count": null,
   "metadata": {},
   "outputs": [],
   "source": [
    "# 답변 목록에서 개별 답변을 선택하고, 글을 추출하기\n",
    "div =divs[0]\n",
    "title =div.select_one('.title').get_text()\n",
    "name=div.select_one('.text.show-more__control').get_text()"
   ]
  },
  {
   "cell_type": "code",
   "execution_count": 3,
   "metadata": {},
   "outputs": [],
   "source": [
    "url = 'https://www.imdb.com/title/tt0111161/reviews/?ref_=tt_ql_2'\n",
    "driver = webdriver.Chrome('C:/Users/YONSAI/Downloads/chromedriver.exe')\n",
    "driver.get(url)\n",
    "for _ in range(39):\n",
    "    driver.find_element(By.CSS_SELECTOR, '#load-more-trigger').click()\n",
    "    time.sleep(5)\n",
    "soup = BeautifulSoup(driver.page_source, 'html.parser')\n",
    "divs = soup.select('.lister-item-content')\n",
    "lins = []\n",
    "div =divs[0]\n",
    "for div in divs:    \n",
    "    title =div.select_one('.title').get_text()\n",
    "    name=div.select_one('.text.show-more__control').get_text()\n",
    "    lins.append({'title':title,'name':name})"
   ]
  },
  {
   "cell_type": "code",
   "execution_count": 4,
   "metadata": {},
   "outputs": [
    {
     "data": {
      "text/html": [
       "<div>\n",
       "<style scoped>\n",
       "    .dataframe tbody tr th:only-of-type {\n",
       "        vertical-align: middle;\n",
       "    }\n",
       "\n",
       "    .dataframe tbody tr th {\n",
       "        vertical-align: top;\n",
       "    }\n",
       "\n",
       "    .dataframe thead th {\n",
       "        text-align: right;\n",
       "    }\n",
       "</style>\n",
       "<table border=\"1\" class=\"dataframe\">\n",
       "  <thead>\n",
       "    <tr style=\"text-align: right;\">\n",
       "      <th></th>\n",
       "      <th>title</th>\n",
       "      <th>name</th>\n",
       "    </tr>\n",
       "  </thead>\n",
       "  <tbody>\n",
       "    <tr>\n",
       "      <th>0</th>\n",
       "      <td>Some birds aren't meant to be caged.\\n</td>\n",
       "      <td>The Shawshank Redemption is written and direct...</td>\n",
       "    </tr>\n",
       "    <tr>\n",
       "      <th>1</th>\n",
       "      <td>An incredible movie. One that lives with you.\\n</td>\n",
       "      <td>It is no wonder that the film has such a high ...</td>\n",
       "    </tr>\n",
       "    <tr>\n",
       "      <th>2</th>\n",
       "      <td>Don't Rent Shawshank.\\n</td>\n",
       "      <td>I'm trying to save you money; this is the last...</td>\n",
       "    </tr>\n",
       "    <tr>\n",
       "      <th>3</th>\n",
       "      <td>This is How Movies Should Be Made\\n</td>\n",
       "      <td>This movie is not your ordinary Hollywood flic...</td>\n",
       "    </tr>\n",
       "    <tr>\n",
       "      <th>4</th>\n",
       "      <td>A classic piece of unforgettable film-making.\\n</td>\n",
       "      <td>In its Oscar year, Shawshank Redemption (writt...</td>\n",
       "    </tr>\n",
       "    <tr>\n",
       "      <th>...</th>\n",
       "      <td>...</td>\n",
       "      <td>...</td>\n",
       "    </tr>\n",
       "    <tr>\n",
       "      <th>992</th>\n",
       "      <td>The Shawshank Redemption\\n</td>\n",
       "      <td>This is a classic about hope. Hope is not in p...</td>\n",
       "    </tr>\n",
       "    <tr>\n",
       "      <th>993</th>\n",
       "      <td>Resilience prevails.\\n</td>\n",
       "      <td>Off the hop, I don't mean to upset people with...</td>\n",
       "    </tr>\n",
       "    <tr>\n",
       "      <th>994</th>\n",
       "      <td>The Reason I don't pay attention to the Oscars\\n</td>\n",
       "      <td>This movie is one of the greatest I have ever ...</td>\n",
       "    </tr>\n",
       "    <tr>\n",
       "      <th>995</th>\n",
       "      <td>Analyzing 10 points\\n</td>\n",
       "      <td>Let me analyze why people keep giving 10 point...</td>\n",
       "    </tr>\n",
       "    <tr>\n",
       "      <th>996</th>\n",
       "      <td>A Cracking Film That Every One Should Own\\n</td>\n",
       "      <td>The first time I watched this film I was on a ...</td>\n",
       "    </tr>\n",
       "  </tbody>\n",
       "</table>\n",
       "<p>997 rows × 2 columns</p>\n",
       "</div>"
      ],
      "text/plain": [
       "                                                 title   \n",
       "0               Some birds aren't meant to be caged.\\n  \\\n",
       "1      An incredible movie. One that lives with you.\\n   \n",
       "2                              Don't Rent Shawshank.\\n   \n",
       "3                  This is How Movies Should Be Made\\n   \n",
       "4      A classic piece of unforgettable film-making.\\n   \n",
       "..                                                 ...   \n",
       "992                         The Shawshank Redemption\\n   \n",
       "993                             Resilience prevails.\\n   \n",
       "994   The Reason I don't pay attention to the Oscars\\n   \n",
       "995                              Analyzing 10 points\\n   \n",
       "996        A Cracking Film That Every One Should Own\\n   \n",
       "\n",
       "                                                  name  \n",
       "0    The Shawshank Redemption is written and direct...  \n",
       "1    It is no wonder that the film has such a high ...  \n",
       "2    I'm trying to save you money; this is the last...  \n",
       "3    This movie is not your ordinary Hollywood flic...  \n",
       "4    In its Oscar year, Shawshank Redemption (writt...  \n",
       "..                                                 ...  \n",
       "992  This is a classic about hope. Hope is not in p...  \n",
       "993  Off the hop, I don't mean to upset people with...  \n",
       "994  This movie is one of the greatest I have ever ...  \n",
       "995  Let me analyze why people keep giving 10 point...  \n",
       "996  The first time I watched this film I was on a ...  \n",
       "\n",
       "[997 rows x 2 columns]"
      ]
     },
     "execution_count": 4,
     "metadata": {},
     "output_type": "execute_result"
    }
   ],
   "source": [
    "df=pd.DataFrame(lins)\n",
    "df"
   ]
  },
  {
   "cell_type": "code",
   "execution_count": null,
   "metadata": {},
   "outputs": [],
   "source": [
    "df.to_csv('data/IMDM.csv',index=False)"
   ]
  },
  {
   "cell_type": "code",
   "execution_count": null,
   "metadata": {},
   "outputs": [],
   "source": []
  }
 ],
 "metadata": {
  "kernelspec": {
   "display_name": "base",
   "language": "python",
   "name": "python3"
  },
  "language_info": {
   "codemirror_mode": {
    "name": "ipython",
    "version": 3
   },
   "file_extension": ".py",
   "mimetype": "text/x-python",
   "name": "python",
   "nbconvert_exporter": "python",
   "pygments_lexer": "ipython3",
   "version": "3.10.10"
  },
  "orig_nbformat": 4
 },
 "nbformat": 4,
 "nbformat_minor": 2
}
