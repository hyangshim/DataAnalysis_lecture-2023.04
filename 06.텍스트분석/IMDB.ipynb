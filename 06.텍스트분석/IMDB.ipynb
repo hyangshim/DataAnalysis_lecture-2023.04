{
 "cells": [
  {
   "cell_type": "code",
   "execution_count": 1,
   "metadata": {},
   "outputs": [],
   "source": [
    "import time\n",
    "import pandas as pd\n",
    "from selenium import webdriver\n",
    "from selenium.webdriver.common.by import By\n",
    "from bs4 import BeautifulSoup\n",
    "from urllib.parse import quote\n",
    "from tqdm import tqdm\n",
    "import warnings\n",
    "warnings.filterwarnings('ignore')"
   ]
  },
  {
   "cell_type": "code",
   "execution_count": 2,
   "metadata": {},
   "outputs": [],
   "source": [
    "url = 'https://www.imdb.com/title/tt0111161/reviews/?ref_=tt_ql_2'\n",
    "driver = webdriver.Chrome('C:/Users/YONSAI/Downloads/chromedriver.exe')\n",
    "driver.get(url)\n",
    "soup = BeautifulSoup(driver.page_source, 'html.parser')"
   ]
  },
  {
   "cell_type": "code",
   "execution_count": 3,
   "metadata": {},
   "outputs": [
    {
     "data": {
      "text/plain": [
       "25"
      ]
     },
     "execution_count": 3,
     "metadata": {},
     "output_type": "execute_result"
    }
   ],
   "source": [
    "#제목을 가져옴\n",
    "divs = soup.select('.lister-item-content')\n",
    "len(divs)"
   ]
  },
  {
   "cell_type": "code",
   "execution_count": 4,
   "metadata": {},
   "outputs": [],
   "source": [
    "# 밑으로 내려가기\n",
    "driver.find_element(By.ID, 'load-more-trigger').click()\n",
    "time.sleep(3) "
   ]
  },
  {
   "cell_type": "code",
   "execution_count": 5,
   "metadata": {},
   "outputs": [],
   "source": [
    "# 답변 목록에서 개별 답변을 선택하고, 글을 추출하기\n",
    "div =divs[0]\n",
    "title =div.select_one('.title').get_text()\n",
    "name=div.select_one('.text.show-more__control').get_text()"
   ]
  },
  {
   "cell_type": "code",
   "execution_count": 6,
   "metadata": {},
   "outputs": [
    {
     "ename": "ElementNotInteractableException",
     "evalue": "Message: element not interactable\n  (Session info: chrome=112.0.5615.138)\nStacktrace:\nBacktrace:\n\tGetHandleVerifier [0x0042DCE3+50899]\n\t(No symbol) [0x003BE111]\n\t(No symbol) [0x002C5450]\n\t(No symbol) [0x002F1846]\n\t(No symbol) [0x002E94A5]\n\t(No symbol) [0x0030B8FC]\n\t(No symbol) [0x002E8EC6]\n\t(No symbol) [0x0030BC54]\n\t(No symbol) [0x0031E01C]\n\t(No symbol) [0x0030B6F6]\n\t(No symbol) [0x002E7708]\n\t(No symbol) [0x002E886D]\n\tGetHandleVerifier [0x00693EAE+2566302]\n\tGetHandleVerifier [0x006C92B1+2784417]\n\tGetHandleVerifier [0x006C327C+2759788]\n\tGetHandleVerifier [0x004C5740+672048]\n\t(No symbol) [0x003C8872]\n\t(No symbol) [0x003C41C8]\n\t(No symbol) [0x003C42AB]\n\t(No symbol) [0x003B71B7]\n\tBaseThreadInitThunk [0x75C20099+25]\n\tRtlGetAppContainerNamedObjectPath [0x774C7B6E+286]\n\tRtlGetAppContainerNamedObjectPath [0x774C7B3E+238]\n",
     "output_type": "error",
     "traceback": [
      "\u001b[1;31m---------------------------------------------------------------------------\u001b[0m",
      "\u001b[1;31mElementNotInteractableException\u001b[0m           Traceback (most recent call last)",
      "Cell \u001b[1;32mIn[6], line 3\u001b[0m\n\u001b[0;32m      1\u001b[0m lins \u001b[39m=\u001b[39m []\n\u001b[0;32m      2\u001b[0m \u001b[39mfor\u001b[39;00m i \u001b[39min\u001b[39;00m \u001b[39mrange\u001b[39m(\u001b[39m39\u001b[39m):\n\u001b[1;32m----> 3\u001b[0m     driver\u001b[39m.\u001b[39;49mfind_element(By\u001b[39m.\u001b[39;49mID, \u001b[39m'\u001b[39;49m\u001b[39mload-more-trigger\u001b[39;49m\u001b[39m'\u001b[39;49m)\u001b[39m.\u001b[39;49mclick()\n\u001b[0;32m      4\u001b[0m     time\u001b[39m.\u001b[39msleep(\u001b[39m3\u001b[39m)\n\u001b[0;32m      5\u001b[0m \u001b[39mfor\u001b[39;00m div \u001b[39min\u001b[39;00m divs:    \n",
      "File \u001b[1;32mc:\\Users\\YONSAI\\anaconda3\\lib\\site-packages\\selenium\\webdriver\\remote\\webelement.py:94\u001b[0m, in \u001b[0;36mWebElement.click\u001b[1;34m(self)\u001b[0m\n\u001b[0;32m     92\u001b[0m \u001b[39mdef\u001b[39;00m \u001b[39mclick\u001b[39m(\u001b[39mself\u001b[39m) \u001b[39m-\u001b[39m\u001b[39m>\u001b[39m \u001b[39mNone\u001b[39;00m:\n\u001b[0;32m     93\u001b[0m \u001b[39m    \u001b[39m\u001b[39m\"\"\"Clicks the element.\"\"\"\u001b[39;00m\n\u001b[1;32m---> 94\u001b[0m     \u001b[39mself\u001b[39;49m\u001b[39m.\u001b[39;49m_execute(Command\u001b[39m.\u001b[39;49mCLICK_ELEMENT)\n",
      "File \u001b[1;32mc:\\Users\\YONSAI\\anaconda3\\lib\\site-packages\\selenium\\webdriver\\remote\\webelement.py:403\u001b[0m, in \u001b[0;36mWebElement._execute\u001b[1;34m(self, command, params)\u001b[0m\n\u001b[0;32m    401\u001b[0m     params \u001b[39m=\u001b[39m {}\n\u001b[0;32m    402\u001b[0m params[\u001b[39m\"\u001b[39m\u001b[39mid\u001b[39m\u001b[39m\"\u001b[39m] \u001b[39m=\u001b[39m \u001b[39mself\u001b[39m\u001b[39m.\u001b[39m_id\n\u001b[1;32m--> 403\u001b[0m \u001b[39mreturn\u001b[39;00m \u001b[39mself\u001b[39;49m\u001b[39m.\u001b[39;49m_parent\u001b[39m.\u001b[39;49mexecute(command, params)\n",
      "File \u001b[1;32mc:\\Users\\YONSAI\\anaconda3\\lib\\site-packages\\selenium\\webdriver\\remote\\webdriver.py:440\u001b[0m, in \u001b[0;36mWebDriver.execute\u001b[1;34m(self, driver_command, params)\u001b[0m\n\u001b[0;32m    438\u001b[0m response \u001b[39m=\u001b[39m \u001b[39mself\u001b[39m\u001b[39m.\u001b[39mcommand_executor\u001b[39m.\u001b[39mexecute(driver_command, params)\n\u001b[0;32m    439\u001b[0m \u001b[39mif\u001b[39;00m response:\n\u001b[1;32m--> 440\u001b[0m     \u001b[39mself\u001b[39;49m\u001b[39m.\u001b[39;49merror_handler\u001b[39m.\u001b[39;49mcheck_response(response)\n\u001b[0;32m    441\u001b[0m     response[\u001b[39m\"\u001b[39m\u001b[39mvalue\u001b[39m\u001b[39m\"\u001b[39m] \u001b[39m=\u001b[39m \u001b[39mself\u001b[39m\u001b[39m.\u001b[39m_unwrap_value(response\u001b[39m.\u001b[39mget(\u001b[39m\"\u001b[39m\u001b[39mvalue\u001b[39m\u001b[39m\"\u001b[39m, \u001b[39mNone\u001b[39;00m))\n\u001b[0;32m    442\u001b[0m     \u001b[39mreturn\u001b[39;00m response\n",
      "File \u001b[1;32mc:\\Users\\YONSAI\\anaconda3\\lib\\site-packages\\selenium\\webdriver\\remote\\errorhandler.py:245\u001b[0m, in \u001b[0;36mErrorHandler.check_response\u001b[1;34m(self, response)\u001b[0m\n\u001b[0;32m    243\u001b[0m         alert_text \u001b[39m=\u001b[39m value[\u001b[39m\"\u001b[39m\u001b[39malert\u001b[39m\u001b[39m\"\u001b[39m]\u001b[39m.\u001b[39mget(\u001b[39m\"\u001b[39m\u001b[39mtext\u001b[39m\u001b[39m\"\u001b[39m)\n\u001b[0;32m    244\u001b[0m     \u001b[39mraise\u001b[39;00m exception_class(message, screen, stacktrace, alert_text)  \u001b[39m# type: ignore[call-arg]  # mypy is not smart enough here\u001b[39;00m\n\u001b[1;32m--> 245\u001b[0m \u001b[39mraise\u001b[39;00m exception_class(message, screen, stacktrace)\n",
      "\u001b[1;31mElementNotInteractableException\u001b[0m: Message: element not interactable\n  (Session info: chrome=112.0.5615.138)\nStacktrace:\nBacktrace:\n\tGetHandleVerifier [0x0042DCE3+50899]\n\t(No symbol) [0x003BE111]\n\t(No symbol) [0x002C5450]\n\t(No symbol) [0x002F1846]\n\t(No symbol) [0x002E94A5]\n\t(No symbol) [0x0030B8FC]\n\t(No symbol) [0x002E8EC6]\n\t(No symbol) [0x0030BC54]\n\t(No symbol) [0x0031E01C]\n\t(No symbol) [0x0030B6F6]\n\t(No symbol) [0x002E7708]\n\t(No symbol) [0x002E886D]\n\tGetHandleVerifier [0x00693EAE+2566302]\n\tGetHandleVerifier [0x006C92B1+2784417]\n\tGetHandleVerifier [0x006C327C+2759788]\n\tGetHandleVerifier [0x004C5740+672048]\n\t(No symbol) [0x003C8872]\n\t(No symbol) [0x003C41C8]\n\t(No symbol) [0x003C42AB]\n\t(No symbol) [0x003B71B7]\n\tBaseThreadInitThunk [0x75C20099+25]\n\tRtlGetAppContainerNamedObjectPath [0x774C7B6E+286]\n\tRtlGetAppContainerNamedObjectPath [0x774C7B3E+238]\n"
     ]
    }
   ],
   "source": [
    "lins = []\n",
    "for i in range(39):\n",
    "    driver.find_element(By.ID, 'load-more-trigger').click()\n",
    "    time.sleep(3)\n",
    "for div in divs:    \n",
    "    title =div.select_one('.title').get_text()\n",
    "    name=div.select_one('.text.show-more__control').get_text()\n",
    "    lins.append({'title':title,'name':name})"
   ]
  },
  {
   "cell_type": "code",
   "execution_count": null,
   "metadata": {},
   "outputs": [],
   "source": [
    "df=pd.DataFrame(lins)"
   ]
  }
 ],
 "metadata": {
  "kernelspec": {
   "display_name": "base",
   "language": "python",
   "name": "python3"
  },
  "language_info": {
   "codemirror_mode": {
    "name": "ipython",
    "version": 3
   },
   "file_extension": ".py",
   "mimetype": "text/x-python",
   "name": "python",
   "nbconvert_exporter": "python",
   "pygments_lexer": "ipython3",
   "version": "3.10.10"
  },
  "orig_nbformat": 4
 },
 "nbformat": 4,
 "nbformat_minor": 2
}
