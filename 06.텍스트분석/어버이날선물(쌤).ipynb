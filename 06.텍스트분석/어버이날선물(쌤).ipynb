{
 "cells": [
  {
   "attachments": {},
   "cell_type": "markdown",
   "metadata": {},
   "source": [
    "### 네이버 지식인 - 어버이날 선물"
   ]
  },
  {
   "cell_type": "code",
   "execution_count": 1,
   "metadata": {},
   "outputs": [],
   "source": [
    "import time\n",
    "from selenium import webdriver\n",
    "from selenium.webdriver.common.by import By\n",
    "from bs4 import BeautifulSoup\n",
    "from urllib.parse import quote\n",
    "from tqdm import tqdm\n",
    "import warnings\n",
    "warnings.filterwarnings('ignore')"
   ]
  },
  {
   "attachments": {},
   "cell_type": "markdown",
   "metadata": {},
   "source": [
    "- 지식인 어버이날 선물 검색결과 화면"
   ]
  },
  {
   "cell_type": "code",
   "execution_count": 2,
   "metadata": {},
   "outputs": [],
   "source": [
    "base_url = 'https://kin.naver.com/search/list.naver'\n",
    "url = f'{base_url}?query={quote(\"어버이날 선물\")}&page={1}'\n",
    "driver = webdriver.Chrome('C:/Users/YONSAI/Downloads/chromedriver.exe')\n",
    "driver.get(url)\n",
    "soup = BeautifulSoup(driver.page_source, 'html.parser')"
   ]
  },
  {
   "cell_type": "code",
   "execution_count": 3,
   "metadata": {},
   "outputs": [
    {
     "data": {
      "text/plain": [
       "10"
      ]
     },
     "execution_count": 3,
     "metadata": {},
     "output_type": "execute_result"
    }
   ],
   "source": [
    "lis = soup.select('ul.basic1 > li')\n",
    "len(lis)"
   ]
  },
  {
   "attachments": {},
   "cell_type": "markdown",
   "metadata": {},
   "source": [
    "- 답변 갯수가 5개보다 큰 항목을 선택"
   ]
  },
  {
   "cell_type": "code",
   "execution_count": 4,
   "metadata": {},
   "outputs": [
    {
     "data": {
      "text/plain": [
       "'https://kin.naver.com/qna/detail.naver?d1id=5&dirId=50603&docId=444555636&qb=7Ja067KE7J2064KgIOyEoOusvA==&enc=utf8&section=kin&rank=5&search_sort=0&spq=0'"
      ]
     },
     "execution_count": 4,
     "metadata": {},
     "output_type": "execute_result"
    }
   ],
   "source": [
    "li = lis[4]\n",
    "sub_url = li.select_one('a._searchListTitleAnchor')['href']\n",
    "sub_url"
   ]
  },
  {
   "cell_type": "code",
   "execution_count": 5,
   "metadata": {},
   "outputs": [],
   "source": [
    "driver.get(sub_url)"
   ]
  },
  {
   "cell_type": "code",
   "execution_count": 6,
   "metadata": {},
   "outputs": [
    {
     "name": "stdout",
     "output_type": "stream",
     "text": [
      "8 1\n"
     ]
    }
   ],
   "source": [
    "# 더보기 클릭 횟수 구하기\n",
    "count = int(driver.find_element(By.CSS_SELECTOR, '._answerCount.num').text)\n",
    "click_count = (count - 1) // 5\n",
    "print(count, click_count)"
   ]
  },
  {
   "cell_type": "code",
   "execution_count": 7,
   "metadata": {},
   "outputs": [],
   "source": [
    "# 더보기 클릭 횟수만큼 클릭하기\n",
    "for i in range(click_count):\n",
    "    driver.find_element(By.ID, 'nextPageButton').click()\n",
    "    time.sleep(2)"
   ]
  },
  {
   "cell_type": "code",
   "execution_count": 8,
   "metadata": {},
   "outputs": [
    {
     "data": {
      "text/plain": [
       "8"
      ]
     },
     "execution_count": 8,
     "metadata": {},
     "output_type": "execute_result"
    }
   ],
   "source": [
    "# 개별 화면에서 답변 목록 찾기\n",
    "soup = BeautifulSoup(driver.page_source, 'html.parser')\n",
    "divs = soup.select('div.answer-content__item._contentWrap._answer')\n",
    "len(divs)"
   ]
  },
  {
   "cell_type": "code",
   "execution_count": 9,
   "metadata": {},
   "outputs": [
    {
     "name": "stdout",
     "output_type": "stream",
     "text": [
      "1.  재래시장에 가면  스타킹파는 곳 있을거예요.\n",
      "2.  큰 약국에 가서 여쭤보면  영양제 구매 가능하구요.\n",
      "3. 30대 어머니 선물은  화장품이 어떨까 해요. 쿠션이라 립스틱종류\n"
     ]
    }
   ],
   "source": [
    "# 답변 목록에서 개별 답변을 선택하고, 글을 추출하기\n",
    "div = divs[0]\n",
    "ps = div.select('p.se-text-paragraph')\n",
    "for p in ps:\n",
    "    print(p.get_text())"
   ]
  },
  {
   "cell_type": "code",
   "execution_count": 10,
   "metadata": {},
   "outputs": [],
   "source": [
    "# 하나의 글에서 모든 답변을 추출하기\n",
    "lines = []\n",
    "for div in divs:\n",
    "    ps = div.select('p.se-text-paragraph')\n",
    "    for p in ps:\n",
    "        lines.append(p.get_text())"
   ]
  },
  {
   "cell_type": "code",
   "execution_count": 11,
   "metadata": {},
   "outputs": [
    {
     "data": {
      "text/plain": [
       "['1.  재래시장에 가면  스타킹파는 곳 있을거예요.',\n",
       " '2.  큰 약국에 가서 여쭤보면  영양제 구매 가능하구요.',\n",
       " '3. 30대 어머니 선물은  화장품이 어떨까 해요. 쿠션이라 립스틱종류',\n",
       " '안녕하세요! 어머님 선물은 어머님이 좋아하는 꽃이나 좋아하시는 색으로 꽃 선물을 드리는건 어떨까요?',\n",
       " '2.번 질문에 대한 답변입니다.',\n",
       " '\\u200b',\n",
       " '60대 할머니시면 근육이 많이 빠지기 시작하는 시기입니다.',\n",
       " '근육이 빠지면 고혈압, 당뇨 암 등 발병위험이 높아집니다.',\n",
       " '\\u200b',\n",
       " '이럴때 어르신들 근력향상에 좋은 류신 추천드려요',\n",
       " '그냥 류신말고 고순도 류신이 어르신들께 좋으십니다.',\n",
       " '\\u200b',\n",
       " '근육이량이 높아야 오래 건강하게 지내실 수 있습니다.',\n",
       " '\\u200b',\n",
       " '스타킹은 주변 편의점에도 있습니다!',\n",
       " '어버이날 선물로 관절에 좋은 콘드로이친 보충제는 어떨까요? ',\n",
       " '\\u200b',\n",
       " '나이가 들면 연골이 닳고 관절이 약해져 생활의 많은 불편함을 겪습니다. 따라서 관련된 영양제를 섭취하는것이 좋습니다. ',\n",
       " '\\u200b',\n",
       " '콘드로이친 효과는 다음과 같습니다. ',\n",
       " '1. 관절 염증 감소',\n",
       " '2. 연골 파괴 예방',\n",
       " '3. 통증 완화',\n",
       " '\\u200b',\n",
       " '좋은 콘드로이친 보충제 고르는 TIP',\n",
       " '1. 콘드로이친 고함량, 고순도',\n",
       " '2. 믿을만한 전문 제조사',\n",
       " '3. 좋은 원료',\n",
       " '\\u200b',\n",
       " '이에 부합하는 콘드로이친 보충제 하나를 추천드리겠습니다. ',\n",
       " '\\u200b',\n",
       " '\\u200b',\n",
       " '\\u200b',\n",
       " '\\u200b',\n",
       " '\"파트너스 활동의 일환으로, 이에 따른 일정액의 수수료를 제공받습니다.\"',\n",
       " '아 이거ㅠㅠㅠ 인터넷 쇼핑이긴한데 너무 좋아서...ㅠㅠㅠ',\n",
       " '걍 추천만 하고 갈게요',\n",
       " 'https://smartstore.naver.com/home_playground/products/5308005102',\n",
       " '\\u200b',\n",
       " '우리 몸속 관절 연골 건강관리 어떻게 하고 계시나요 관절염 초기 증상이라면 평소 꾸준한 운동과 올바른 식습관 관리만으로도 충분히 예방할 수 있습니다.',\n",
       " '\\u200b',\n",
       " '하지만 아직도 무릎 통증 원인을 노화나 비만으로만 생각하시는 분들이 많은데요. 만약 위와 같은 노력에도 불구하고 계속해서 무릎 통증이 발생한다면 ',\n",
       " '\\u200b',\n",
       " '\\u200b연골의 문제일 가능성이 높습니다.이러한 증상 통증들은 초기에 제대로 된 관리를 받지 않으면 점점 더 악화되어 나중에는 일상생활조차 힘들어질 수 있기 때문입니다. ',\n",
       " '\\u200b',\n",
       " '\\u200b따라서 미리미리 내 몸 상태를 체크하여 필요하다면 적절한 관리를 하는 것이 중요한데요. 연골 건강기능식품 하면 떠오르는 게 바로 글루코사민인데요. ',\n",
       " '\\u200b',\n",
       " '\\u200b하지만 요즘엔 관절건강 뿐만 아니라 다른 효능도 가지고 있는 새로운 성분 조합의 영양제가 각광받고 있습니다. ',\n",
       " '\\u200b',\n",
       " '\\u200b그것은 바로 콘드로이친이라는 성분입니다. 이것은 인체 내에서도 생성되는 물질이지만 노화가 진행됨에 따라 급속히 감소하기 때문에 보충 섭취가 필요하다고 알려져 있습니다.',\n",
       " '\\u200b',\n",
       " '\\u200b따라서 부족한 콘드로이친을 채워줄 수 있는 식품군으로는 무엇이 좋은지 알아보시고 선택하시면 올바른 건강관리에 도움이 되실거예요.',\n",
       " '\\u200b',\n",
       " '\\u200b',\n",
       " 'https://bit.ly/3IusSx8',\n",
       " '\\u200b',\n",
       " '안녕하세요.^^',\n",
       " '어머님 선물로 팔찌로 추천해드릴께요.',\n",
       " '크로노스',\n",
       " '크로노스 CRJ2018B-RG THICK 하트 팔찌 입니다.',\n",
       " '스텐레스 스틸 재질로 변질이 적으며 한쪽과 반대쪽을 다르게 디자인되어있으며',\n",
       " '하트 달랑이가 돋보이는 팔찌입니다.',\n",
       " '단독으로 착용하시거나 시계와 함께 매치하셔도 잘 어울리는 제품이니 참고 바랍니다.',\n",
       " '모두의 4월, MY POP ',\n",
       " 'https://www.gabangpop.co.kr/',\n",
       " '\\u200b',\n",
       " '어버이날 선물 추천 설문 조사를 참고하여 작성한 정보 입니다. 도움 되셨으면 좋겠습니다.']"
      ]
     },
     "execution_count": 11,
     "metadata": {},
     "output_type": "execute_result"
    }
   ],
   "source": [
    "lines"
   ]
  },
  {
   "cell_type": "code",
   "execution_count": 12,
   "metadata": {},
   "outputs": [],
   "source": [
    "# 화면을 Go Back\n",
    "driver.back()"
   ]
  },
  {
   "attachments": {},
   "cell_type": "markdown",
   "metadata": {},
   "source": [
    "- 한 화면에 있는 10개의 글에서 모든 답변을 추출하기"
   ]
  },
  {
   "cell_type": "code",
   "execution_count": 21,
   "metadata": {},
   "outputs": [
    {
     "name": "stdout",
     "output_type": "stream",
     "text": [
      "1, 1\n",
      "2, 2\n",
      "2, 2\n",
      "7, 7\n",
      "20, 20\n",
      "9, 9\n",
      "7, 7\n",
      "5, 5\n",
      "7, 7\n",
      "6, 6\n"
     ]
    }
   ],
   "source": [
    "answer_list = []\n",
    "for li in lis:\n",
    "    sub_url = li.select_one('a._searchListTitleAnchor')['href']\n",
    "    driver.get(sub_url)\n",
    "    time.sleep(2)\n",
    "\n",
    "    count = int(driver.find_element(By.CSS_SELECTOR, '._answerCount.num').text)\n",
    "    click_count = (count - 1) // 5\n",
    "    print(count, end=', ')\n",
    "    for i in range(click_count):\n",
    "        driver.find_element(By.ID, 'nextPageButton').click()\n",
    "        time.sleep(1)\n",
    "\n",
    "    soup = BeautifulSoup(driver.page_source, 'html.parser')\n",
    "    divs = soup.select('div.answer-content__item._contentWrap._answer')\n",
    "    print(len(divs))\n",
    "    for div in divs:\n",
    "        ps = div.select('p.se-text-paragraph')\n",
    "        paragraph = ''\n",
    "        for p in ps:\n",
    "            text = p.get_text()\n",
    "            if text == ' ' or text == '\\u200b':         # zero width space\n",
    "                continue\n",
    "            paragraph += text + '\\n'\n",
    "        answer_list.append(paragraph)\n",
    "\n",
    "    driver.back()\n",
    "    time.sleep(2)"
   ]
  },
  {
   "cell_type": "code",
   "execution_count": 22,
   "metadata": {},
   "outputs": [
    {
     "data": {
      "text/plain": [
       "66"
      ]
     },
     "execution_count": 22,
     "metadata": {},
     "output_type": "execute_result"
    }
   ],
   "source": [
    "len(answer_list)"
   ]
  },
  {
   "cell_type": "code",
   "execution_count": 24,
   "metadata": {},
   "outputs": [
    {
     "name": "stderr",
     "output_type": "stream",
     "text": [
      "  0%|          | 0/10 [00:00<?, ?it/s]"
     ]
    },
    {
     "name": "stdout",
     "output_type": "stream",
     "text": [
      "1, 1\n",
      "2, 2\n",
      "2, 2\n",
      "7, 7\n",
      "20, 20\n",
      "9, 9\n",
      "7, 7\n",
      "5, 5\n",
      "7, 7\n",
      "6, 6\n"
     ]
    },
    {
     "name": "stderr",
     "output_type": "stream",
     "text": [
      " 10%|█         | 1/10 [01:11<10:44, 71.57s/it]"
     ]
    },
    {
     "name": "stdout",
     "output_type": "stream",
     "text": [
      "3, 3\n",
      "10, 10\n",
      "6, 6\n",
      "16, 16\n",
      "12, 12\n",
      "2, 2\n",
      "6, 6\n",
      "6, 6\n",
      "16, 16\n",
      "5, 5\n"
     ]
    },
    {
     "name": "stderr",
     "output_type": "stream",
     "text": [
      " 20%|██        | 2/10 [02:39<10:51, 81.48s/it]"
     ]
    },
    {
     "name": "stdout",
     "output_type": "stream",
     "text": [
      "9, 9\n",
      "8, 8\n",
      "14, 14\n",
      "7, 7\n",
      "1, 1\n",
      "8, 8\n",
      "5, 5\n",
      "2, 2\n",
      "3, 3\n",
      "13, 13\n"
     ]
    },
    {
     "name": "stderr",
     "output_type": "stream",
     "text": [
      " 30%|███       | 3/10 [03:56<09:13, 79.05s/it]"
     ]
    },
    {
     "name": "stdout",
     "output_type": "stream",
     "text": [
      "12, 12\n",
      "14, 14\n",
      "13, 13\n",
      "10, 10\n",
      "11, 11\n",
      "9, 9\n",
      "11, 11\n",
      "11, 11\n",
      "15, 15\n",
      "7, 7\n"
     ]
    },
    {
     "name": "stderr",
     "output_type": "stream",
     "text": [
      " 40%|████      | 4/10 [05:39<08:52, 88.83s/it]"
     ]
    },
    {
     "name": "stdout",
     "output_type": "stream",
     "text": [
      "11, 11\n",
      "5, 5\n",
      "13, 13\n",
      "3, 3\n",
      "12, 12\n",
      "1, 1\n",
      "8, 8\n",
      "6, 6\n",
      "7, 7\n",
      "7, 7\n"
     ]
    },
    {
     "name": "stderr",
     "output_type": "stream",
     "text": [
      " 50%|█████     | 5/10 [07:03<07:15, 87.03s/it]"
     ]
    },
    {
     "name": "stdout",
     "output_type": "stream",
     "text": [
      "11, 11\n",
      "2, 2\n",
      "8, 8\n",
      "1, 1\n",
      "11, 11\n",
      "13, 13\n",
      "4, 4\n",
      "6, 6\n",
      "12, 12\n",
      "4, 4\n"
     ]
    },
    {
     "name": "stderr",
     "output_type": "stream",
     "text": [
      " 60%|██████    | 6/10 [08:25<05:40, 85.20s/it]"
     ]
    },
    {
     "name": "stdout",
     "output_type": "stream",
     "text": [
      "11, 11\n",
      "8, 8\n",
      "3, 3\n",
      "10, 10\n",
      "14, 14\n",
      "4, 4\n",
      "13, 13\n",
      "10, 10\n",
      "9, 9\n",
      "3, 3\n"
     ]
    },
    {
     "name": "stderr",
     "output_type": "stream",
     "text": [
      " 70%|███████   | 7/10 [09:55<04:20, 86.85s/it]"
     ]
    },
    {
     "name": "stdout",
     "output_type": "stream",
     "text": [
      "2, 2\n",
      "4, 4\n",
      "3, 3\n",
      "4, 4\n",
      "12, 12\n",
      "5, 5\n",
      "4, 4\n",
      "6, 6\n",
      "5, 5\n",
      "7, 7\n"
     ]
    },
    {
     "name": "stderr",
     "output_type": "stream",
     "text": [
      " 80%|████████  | 8/10 [11:11<02:46, 83.37s/it]"
     ]
    },
    {
     "name": "stdout",
     "output_type": "stream",
     "text": [
      "12, 12\n",
      "14, 14\n",
      "11, 11\n",
      "6, 6\n",
      "10, 10\n",
      "6, 6\n",
      "6, 6\n",
      "6, 6\n",
      "9, 9\n",
      "12, 12\n"
     ]
    },
    {
     "name": "stderr",
     "output_type": "stream",
     "text": [
      " 90%|█████████ | 9/10 [12:49<01:27, 87.85s/it]"
     ]
    },
    {
     "name": "stdout",
     "output_type": "stream",
     "text": [
      "13, 13\n",
      "4, 4\n",
      "9, 9\n",
      "9, 9\n",
      "2, 2\n",
      "2, 2\n",
      "5, 5\n",
      "14, 14\n",
      "6, 6\n",
      "17, 17\n"
     ]
    },
    {
     "name": "stderr",
     "output_type": "stream",
     "text": [
      "100%|██████████| 10/10 [14:19<00:00, 85.96s/it]\n"
     ]
    }
   ],
   "source": [
    "answer_list = []\n",
    "for page in tqdm(range(1,11)):\n",
    "    driver.get(f'{url}{quote(\"어버이날 선물\")}&page={page}')\n",
    "    time.sleep(2)\n",
    "    soup = BeautifulSoup(driver.page_source, 'html.parser')\n",
    "    lis = soup.select('ul.basic1 > li')\n",
    "\n",
    "    for li in lis:\n",
    "        sub_url = li.select_one('a._searchListTitleAnchor')['href']\n",
    "        driver.get(sub_url)\n",
    "        time.sleep(2)\n",
    "\n",
    "        count = int(driver.find_element(By.CLASS_NAME, '_answerCount.num').text)\n",
    "        answer_page = (count - 1) // 5\n",
    "        for i in range(answer_page):\n",
    "            driver.find_element(By.ID, 'nextPageButton').click()\n",
    "            time.sleep(2)\n",
    "\n",
    "        soup = BeautifulSoup(driver.page_source, 'html.parser')\n",
    "        divs = soup.select('div.answer-content__item._contentWrap._answer')\n",
    "        for div in divs:\n",
    "            ps = div.select('p.se-text-paragraph')\n",
    "            paragraph = ''\n",
    "            for p in ps:\n",
    "                text = p.get_text()\n",
    "                if text == ' ' or text == '\\u200b':         # zero width space\n",
    "                    continue\n",
    "                paragraph += text + '\\n'\n",
    "            answer_list.append(paragraph)\n",
    "\n",
    "        driver.back()\n",
    "        time.sleep(2)"
   ]
  },
  {
   "cell_type": "code",
   "execution_count": 26,
   "metadata": {},
   "outputs": [],
   "source": [
    "driver.close()"
   ]
  },
  {
   "cell_type": "code",
   "execution_count": 25,
   "metadata": {},
   "outputs": [
    {
     "data": {
      "text/plain": [
       "786"
      ]
     },
     "execution_count": 25,
     "metadata": {},
     "output_type": "execute_result"
    }
   ],
   "source": [
    "len(answer_list)"
   ]
  },
  {
   "cell_type": "code",
   "execution_count": 27,
   "metadata": {},
   "outputs": [],
   "source": [
    "with open('data/어버이날 선물.txt', 'w', encoding='utf-8') as f:\n",
    "    for answer in answer_list:\n",
    "        f.write(answer + '\\n')"
   ]
  },
  {
   "cell_type": "code",
   "execution_count": null,
   "metadata": {},
   "outputs": [],
   "source": []
  }
 ],
 "metadata": {
  "kernelspec": {
   "display_name": "base",
   "language": "python",
   "name": "python3"
  },
  "language_info": {
   "codemirror_mode": {
    "name": "ipython",
    "version": 3
   },
   "file_extension": ".py",
   "mimetype": "text/x-python",
   "name": "python",
   "nbconvert_exporter": "python",
   "pygments_lexer": "ipython3",
   "version": "3.10.10"
  },
  "orig_nbformat": 4
 },
 "nbformat": 4,
 "nbformat_minor": 2
}
