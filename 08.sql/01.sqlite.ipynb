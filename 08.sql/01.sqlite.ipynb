{
 "cells": [
  {
   "attachments": {},
   "cell_type": "markdown",
   "metadata": {},
   "source": []
  },
  {
   "cell_type": "code",
   "execution_count": 1,
   "metadata": {},
   "outputs": [],
   "source": [
    "import sqlite3 as sq"
   ]
  },
  {
   "attachments": {},
   "cell_type": "markdown",
   "metadata": {},
   "source": [
    "- DB에 접속해서 데이터 읽기"
   ]
  },
  {
   "cell_type": "code",
   "execution_count": 2,
   "metadata": {},
   "outputs": [],
   "source": [
    "# member table에 있는 데이터 모두 읽기\n",
    "conn = sq.connect('test.db')\n",
    "cur =conn.cursor()\n",
    "\n",
    "sql ='SELECT * FROM member;'\n",
    "cur.execute(sql)\n",
    "rows =cur.fetchall()\n",
    "\n",
    "cur.close()\n",
    "conn.close()\n"
   ]
  },
  {
   "cell_type": "code",
   "execution_count": 3,
   "metadata": {},
   "outputs": [
    {
     "name": "stdout",
     "output_type": "stream",
     "text": [
      "(1, '제임스', 1)\n",
      "(2, '마리아', 2)\n",
      "(3, '홍길동', 3)\n"
     ]
    }
   ],
   "source": [
    "for row in rows:\n",
    "    print(row)"
   ]
  },
  {
   "cell_type": "code",
   "execution_count": 4,
   "metadata": {},
   "outputs": [],
   "source": [
    "# 남자만 가져오기\n",
    "conn = sq.connect('test.db')\n",
    "cur =conn.cursor()\n",
    "\n",
    "sql ='SELECT * FROM member where gender =1;'\n",
    "cur.execute(sql)\n",
    "rows =cur.fetchall()\n",
    "\n",
    "cur.close()\n",
    "conn.close()"
   ]
  },
  {
   "cell_type": "code",
   "execution_count": 5,
   "metadata": {},
   "outputs": [
    {
     "name": "stdout",
     "output_type": "stream",
     "text": [
      "(1, '제임스', 1)\n"
     ]
    }
   ],
   "source": [
    "for row in rows:\n",
    "    print(row)"
   ]
  },
  {
   "cell_type": "code",
   "execution_count": 6,
   "metadata": {},
   "outputs": [],
   "source": [
    "def get_members_by_gender(gender):\n",
    "    conn = sq.connect('test.db')\n",
    "    cur =conn.cursor()\n",
    "\n",
    "    sql ='SELECT * FROM member where gender =?;'\n",
    "    cur.execute(sql,(gender,))   #parameter는 반드시 tuple 형태라야 함\n",
    "    rows =cur.fetchall()\n",
    "\n",
    "    cur.close()\n",
    "    conn.close()\n",
    "    return rows"
   ]
  },
  {
   "cell_type": "code",
   "execution_count": 7,
   "metadata": {},
   "outputs": [
    {
     "name": "stdout",
     "output_type": "stream",
     "text": [
      "(1, '제임스', 1)\n"
     ]
    }
   ],
   "source": [
    "results =get_members_by_gender(1)\n",
    "for row in results:\n",
    "    print(row)"
   ]
  },
  {
   "cell_type": "code",
   "execution_count": 8,
   "metadata": {},
   "outputs": [],
   "source": [
    "#mid에 해당하는 데이터 한 건만 가져오기\n",
    "def get_member_by_mid(mid):\n",
    "    conn = sq.connect('test.db')\n",
    "    cur =conn.cursor()\n",
    "\n",
    "    sql ='SELECT * FROM member where mid =?;'\n",
    "    cur.execute(sql,(mid,))   #parameter는 반드시 tuple 형태라야 함\n",
    "    row =cur.fetchone()       # 한건의 데이터만 가져오는 경우에는 fetchone()사용\n",
    "\n",
    "    cur.close()\n",
    "    conn.close()\n",
    "    return row"
   ]
  },
  {
   "cell_type": "code",
   "execution_count": 9,
   "metadata": {},
   "outputs": [
    {
     "name": "stdout",
     "output_type": "stream",
     "text": [
      "1 제임스 1\n"
     ]
    }
   ],
   "source": [
    "result =get_member_by_mid(1)\n",
    "print(result[0],result[1],result[2])"
   ]
  },
  {
   "attachments": {},
   "cell_type": "markdown",
   "metadata": {},
   "source": [
    "- 데이터 추가하기"
   ]
  },
  {
   "cell_type": "code",
   "execution_count": 10,
   "metadata": {},
   "outputs": [],
   "source": [
    "def inset_member(params):\n",
    "    conn = sq.connect('test.db')\n",
    "    cur =conn.cursor()\n",
    "\n",
    "    sql ='insert into member(mname,gender) values (?,?);'\n",
    "    cur.execute(sql,params)\n",
    "    conn.commit()      # 데이터 수정하면 꼭 conn.commit() 하기\n",
    "    cur.close()\n",
    "    conn.close()"
   ]
  },
  {
   "cell_type": "code",
   "execution_count": 11,
   "metadata": {},
   "outputs": [],
   "source": [
    "params = ('차정숙',2)\n",
    "inset_member(params)"
   ]
  },
  {
   "cell_type": "code",
   "execution_count": 12,
   "metadata": {},
   "outputs": [
    {
     "name": "stdout",
     "output_type": "stream",
     "text": [
      "(2, '마리아', 2)\n",
      "(4, '차정숙', 2)\n"
     ]
    }
   ],
   "source": [
    "results =get_members_by_gender(2)\n",
    "for row in results:\n",
    "    print(row)"
   ]
  },
  {
   "attachments": {},
   "cell_type": "markdown",
   "metadata": {},
   "source": [
    "- 데이터 수정"
   ]
  },
  {
   "cell_type": "code",
   "execution_count": 13,
   "metadata": {},
   "outputs": [],
   "source": [
    "def update_member(params):\n",
    "    conn = sq.connect('test.db')\n",
    "    cur =conn.cursor()\n",
    "\n",
    "    sql ='update member set mname=?,gender=? where mid=?;'\n",
    "    cur.execute(sql,params)\n",
    "    conn.commit()      # 데이터 수정하면 꼭 conn.commit() 하기\n",
    "    cur.close()\n",
    "    conn.close()"
   ]
  },
  {
   "cell_type": "code",
   "execution_count": 14,
   "metadata": {},
   "outputs": [],
   "source": [
    "params =('테스트',1)\n",
    "inset_member(params)"
   ]
  },
  {
   "cell_type": "code",
   "execution_count": 15,
   "metadata": {},
   "outputs": [
    {
     "data": {
      "text/plain": [
       "(5, '테스트', 1)"
      ]
     },
     "execution_count": 15,
     "metadata": {},
     "output_type": "execute_result"
    }
   ],
   "source": [
    "result =get_member_by_mid(5)\n",
    "result"
   ]
  },
  {
   "cell_type": "code",
   "execution_count": 16,
   "metadata": {},
   "outputs": [],
   "source": [
    "# 내용수정\n",
    "params =('테스트2',2,5)\n",
    "update_member(params)         # 파라메터 순서에 주의할 것"
   ]
  },
  {
   "cell_type": "code",
   "execution_count": 17,
   "metadata": {},
   "outputs": [
    {
     "name": "stdout",
     "output_type": "stream",
     "text": [
      "(2, '마리아', 2)\n",
      "(4, '차정숙', 2)\n",
      "(5, '테스트2', 2)\n"
     ]
    }
   ],
   "source": [
    "rows = get_members_by_gender(2)\n",
    "for row in rows:\n",
    "    print(row)"
   ]
  },
  {
   "attachments": {},
   "cell_type": "markdown",
   "metadata": {},
   "source": [
    "- 데이터 삭제"
   ]
  },
  {
   "cell_type": "code",
   "execution_count": 19,
   "metadata": {},
   "outputs": [],
   "source": [
    "def delete_member(mid):\n",
    "    conn = sq.connect('test.db')\n",
    "    cur =conn.cursor()\n",
    "\n",
    "    sql ='delete from member where mid=?'\n",
    "    cur.execute(sql,(mid,))\n",
    "    conn.commit()      # 데이터 수정하면 꼭 conn.commit() 하기\n",
    "    cur.close()\n",
    "    conn.close()"
   ]
  },
  {
   "cell_type": "code",
   "execution_count": 20,
   "metadata": {},
   "outputs": [],
   "source": [
    "delete_member(5)"
   ]
  },
  {
   "cell_type": "code",
   "execution_count": 21,
   "metadata": {},
   "outputs": [
    {
     "name": "stdout",
     "output_type": "stream",
     "text": [
      "(2, '마리아', 2)\n",
      "(4, '차정숙', 2)\n"
     ]
    }
   ],
   "source": [
    "rows = get_members_by_gender(2)\n",
    "for row in rows:\n",
    "    print(row)"
   ]
  },
  {
   "cell_type": "code",
   "execution_count": null,
   "metadata": {},
   "outputs": [],
   "source": []
  }
 ],
 "metadata": {
  "kernelspec": {
   "display_name": "base",
   "language": "python",
   "name": "python3"
  },
  "language_info": {
   "codemirror_mode": {
    "name": "ipython",
    "version": 3
   },
   "file_extension": ".py",
   "mimetype": "text/x-python",
   "name": "python",
   "nbconvert_exporter": "python",
   "pygments_lexer": "ipython3",
   "version": "3.10.10"
  },
  "orig_nbformat": 4
 },
 "nbformat": 4,
 "nbformat_minor": 2
}
